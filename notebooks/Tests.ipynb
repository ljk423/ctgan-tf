{
 "cells": [
  {
   "cell_type": "code",
   "execution_count": 1,
   "metadata": {
    "ExecuteTime": {
     "end_time": "2020-04-10T14:55:55.166384Z",
     "start_time": "2020-04-10T14:55:52.721489Z"
    }
   },
   "outputs": [],
   "source": [
    "import torch\n",
    "import tensorflow as tf\n",
    "import numpy as np\n",
    "import pandas as pd\n",
    "import matplotlib.pyplot as plt"
   ]
  },
  {
   "cell_type": "code",
   "execution_count": 32,
   "metadata": {
    "ExecuteTime": {
     "end_time": "2020-04-07T17:57:04.915639Z",
     "start_time": "2020-04-07T17:57:04.908092Z"
    }
   },
   "outputs": [],
   "source": [
    "rnd = np.random.rand(10, 5).astype(np.float32)"
   ]
  },
  {
   "cell_type": "code",
   "execution_count": 33,
   "metadata": {
    "ExecuteTime": {
     "end_time": "2020-04-07T17:57:05.294008Z",
     "start_time": "2020-04-07T17:57:05.288051Z"
    }
   },
   "outputs": [],
   "source": [
    "t_rnd = torch.from_numpy(rnd)\n",
    "tf_rnd = tf.convert_to_tensor(rnd)"
   ]
  },
  {
   "cell_type": "code",
   "execution_count": 34,
   "metadata": {
    "ExecuteTime": {
     "end_time": "2020-04-07T17:57:05.928655Z",
     "start_time": "2020-04-07T17:57:05.918197Z"
    }
   },
   "outputs": [
    {
     "data": {
      "text/plain": [
       "tensor([[0.2792, 0.4178, 0.2661, 0.5997, 0.0517],\n",
       "        [0.0992, 0.2769, 0.3031, 0.2003, 0.9395],\n",
       "        [0.8153, 0.6504, 0.7908, 0.2229, 0.4764],\n",
       "        [0.7972, 0.2787, 0.3248, 0.0987, 0.7286],\n",
       "        [0.6712, 0.9852, 0.0334, 0.0646, 0.3195],\n",
       "        [0.4752, 0.9439, 0.3338, 0.8561, 0.5229],\n",
       "        [0.5014, 0.5073, 0.4126, 0.4416, 0.0097],\n",
       "        [0.2595, 0.8416, 0.8042, 0.9717, 0.4311],\n",
       "        [0.0551, 0.1550, 0.3219, 0.3202, 0.5504],\n",
       "        [0.3171, 0.5886, 0.3972, 0.6851, 0.3303]])"
      ]
     },
     "execution_count": 34,
     "metadata": {},
     "output_type": "execute_result"
    }
   ],
   "source": [
    "t_rnd"
   ]
  },
  {
   "cell_type": "code",
   "execution_count": 35,
   "metadata": {
    "ExecuteTime": {
     "end_time": "2020-04-07T17:57:08.715634Z",
     "start_time": "2020-04-07T17:57:08.702684Z"
    }
   },
   "outputs": [],
   "source": [
    "t_norm = torch.nn.BatchNorm1d(5)\n",
    "tf_norm = tf.keras.layers.BatchNormalization(momentum=0.9, epsilon=1e-05)\n",
    "tf_norm.build(tf_rnd.shape)"
   ]
  },
  {
   "cell_type": "code",
   "execution_count": 36,
   "metadata": {
    "ExecuteTime": {
     "end_time": "2020-04-07T17:57:09.181056Z",
     "start_time": "2020-04-07T17:57:09.170032Z"
    }
   },
   "outputs": [
    {
     "data": {
      "text/plain": [
       "{'training': True, '_parameters': OrderedDict([('weight', Parameter containing:\n",
       "               tensor([1., 1., 1., 1., 1.], requires_grad=True)),\n",
       "              ('bias', Parameter containing:\n",
       "               tensor([0., 0., 0., 0., 0.], requires_grad=True))]), '_buffers': OrderedDict([('running_mean',\n",
       "               tensor([0., 0., 0., 0., 0.])),\n",
       "              ('running_var', tensor([1., 1., 1., 1., 1.])),\n",
       "              ('num_batches_tracked',\n",
       "               tensor(0))]), '_backward_hooks': OrderedDict(), '_forward_hooks': OrderedDict(), '_forward_pre_hooks': OrderedDict(), '_state_dict_hooks': OrderedDict(), '_load_state_dict_pre_hooks': OrderedDict(), '_modules': OrderedDict(), 'num_features': 5, 'eps': 1e-05, 'momentum': 0.1, 'affine': True, 'track_running_stats': True}"
      ]
     },
     "execution_count": 36,
     "metadata": {},
     "output_type": "execute_result"
    }
   ],
   "source": [
    "t_norm.__dict__"
   ]
  },
  {
   "cell_type": "code",
   "execution_count": 37,
   "metadata": {
    "ExecuteTime": {
     "end_time": "2020-04-07T17:57:09.686413Z",
     "start_time": "2020-04-07T17:57:09.664952Z"
    },
    "scrolled": true
   },
   "outputs": [
    {
     "data": {
      "text/plain": [
       "{'_self_setattr_tracking': True,\n",
       " '_stateful': False,\n",
       " '_input_spec': InputSpec(ndim=2, axes={1: 5}),\n",
       " '_supports_ragged_inputs': False,\n",
       " '_name': 'batch_normalization_4',\n",
       " '_activity_regularizer': None,\n",
       " '_trainable_weights': [<tf.Variable 'gamma:0' shape=(5,) dtype=float32, numpy=array([1., 1., 1., 1., 1.], dtype=float32)>,\n",
       "  <tf.Variable 'beta:0' shape=(5,) dtype=float32, numpy=array([0., 0., 0., 0., 0.], dtype=float32)>],\n",
       " '_non_trainable_weights': [<tf.Variable 'moving_mean:0' shape=(5,) dtype=float32, numpy=array([0., 0., 0., 0., 0.], dtype=float32)>,\n",
       "  <tf.Variable 'moving_variance:0' shape=(5,) dtype=float32, numpy=array([1., 1., 1., 1., 1.], dtype=float32)>],\n",
       " '_updates': [],\n",
       " '_thread_local': <_thread._local at 0x14d3f5cb0>,\n",
       " '_callable_losses': [],\n",
       " '_losses': [],\n",
       " '_metrics': [],\n",
       " '_dtype_policy': <Policy \"float32\", loss_scale=None>,\n",
       " '_dtype_defaulted_to_floatx': True,\n",
       " '_autocast': True,\n",
       " '_layers': [ListWrapper([1])],\n",
       " '_inbound_nodes': [],\n",
       " '_outbound_nodes': [],\n",
       " '_expects_training_arg': True,\n",
       " '_expects_mask_arg': False,\n",
       " '_dynamic': False,\n",
       " '_initial_weights': None,\n",
       " '_obj_reference_counts_dict': ObjectIdentityDictionary({<_ObjectIdentityWrapper wrapping 0.9>: 1, <_ObjectIdentityWrapper wrapping 1e-05>: 1, <_ObjectIdentityWrapper wrapping True>: 5, <_ObjectIdentityWrapper wrapping <tensorflow.python.ops.init_ops_v2.Zeros object at 0x14d48b4d0>>: 1, <_ObjectIdentityWrapper wrapping <tensorflow.python.ops.init_ops_v2.Ones object at 0x14d48b150>>: 1, <_ObjectIdentityWrapper wrapping <tensorflow.python.ops.init_ops_v2.Zeros object at 0x14d4839d0>>: 1, <_ObjectIdentityWrapper wrapping <tensorflow.python.ops.init_ops_v2.Ones object at 0x14d483b50>>: 1, <_ObjectIdentityWrapper wrapping ListWrapper([1])>: 1, <_ObjectIdentityWrapper wrapping <tf.Variable 'gamma:0' shape=(5,) dtype=float32, numpy=array([1., 1., 1., 1., 1.], dtype=float32)>>: 1, <_ObjectIdentityWrapper wrapping <tf.Variable 'beta:0' shape=(5,) dtype=float32, numpy=array([0., 0., 0., 0., 0.], dtype=float32)>>: 1, <_ObjectIdentityWrapper wrapping <tf.Variable 'moving_mean:0' shape=(5,) dtype=float32, numpy=array([0., 0., 0., 0., 0.], dtype=float32)>>: 1, <_ObjectIdentityWrapper wrapping <tf.Variable 'moving_variance:0' shape=(5,) dtype=float32, numpy=array([1., 1., 1., 1., 1.], dtype=float32)>>: 1}),\n",
       " 'momentum': 0.9,\n",
       " 'epsilon': 1e-05,\n",
       " 'center': True,\n",
       " 'scale': True,\n",
       " 'beta_initializer': <tensorflow.python.ops.init_ops_v2.Zeros at 0x14d48b4d0>,\n",
       " 'gamma_initializer': <tensorflow.python.ops.init_ops_v2.Ones at 0x14d48b150>,\n",
       " 'moving_mean_initializer': <tensorflow.python.ops.init_ops_v2.Zeros at 0x14d4839d0>,\n",
       " 'moving_variance_initializer': <tensorflow.python.ops.init_ops_v2.Ones at 0x14d483b50>,\n",
       " 'beta_regularizer': None,\n",
       " 'gamma_regularizer': None,\n",
       " 'beta_constraint': None,\n",
       " 'gamma_constraint': None,\n",
       " 'renorm': False,\n",
       " 'virtual_batch_size': None,\n",
       " 'adjustment': None,\n",
       " 'supports_masking': True,\n",
       " '_bessels_correction_test_only': True,\n",
       " '_trainable_var': None,\n",
       " '_trainable': True,\n",
       " '_self_unconditional_checkpoint_dependencies': [TrackableReference(name='axis', ref=ListWrapper([1])),\n",
       "  TrackableReference(name='gamma', ref=<tf.Variable 'gamma:0' shape=(5,) dtype=float32, numpy=array([1., 1., 1., 1., 1.], dtype=float32)>),\n",
       "  TrackableReference(name='beta', ref=<tf.Variable 'beta:0' shape=(5,) dtype=float32, numpy=array([0., 0., 0., 0., 0.], dtype=float32)>),\n",
       "  TrackableReference(name='moving_mean', ref=<tf.Variable 'moving_mean:0' shape=(5,) dtype=float32, numpy=array([0., 0., 0., 0., 0.], dtype=float32)>),\n",
       "  TrackableReference(name='moving_variance', ref=<tf.Variable 'moving_variance:0' shape=(5,) dtype=float32, numpy=array([1., 1., 1., 1., 1.], dtype=float32)>)],\n",
       " '_self_unconditional_dependency_names': {'axis': ListWrapper([1]),\n",
       "  'gamma': <tf.Variable 'gamma:0' shape=(5,) dtype=float32, numpy=array([1., 1., 1., 1., 1.], dtype=float32)>,\n",
       "  'beta': <tf.Variable 'beta:0' shape=(5,) dtype=float32, numpy=array([0., 0., 0., 0., 0.], dtype=float32)>,\n",
       "  'moving_mean': <tf.Variable 'moving_mean:0' shape=(5,) dtype=float32, numpy=array([0., 0., 0., 0., 0.], dtype=float32)>,\n",
       "  'moving_variance': <tf.Variable 'moving_variance:0' shape=(5,) dtype=float32, numpy=array([1., 1., 1., 1., 1.], dtype=float32)>},\n",
       " '_self_unconditional_deferred_dependencies': {},\n",
       " '_self_update_uid': -1,\n",
       " '_self_name_based_restores': set(),\n",
       " 'axis': ListWrapper([1]),\n",
       " 'fused': False,\n",
       " 'gamma': <tf.Variable 'gamma:0' shape=(5,) dtype=float32, numpy=array([1., 1., 1., 1., 1.], dtype=float32)>,\n",
       " 'beta': <tf.Variable 'beta:0' shape=(5,) dtype=float32, numpy=array([0., 0., 0., 0., 0.], dtype=float32)>,\n",
       " 'moving_mean': <tf.Variable 'moving_mean:0' shape=(5,) dtype=float32, numpy=array([0., 0., 0., 0., 0.], dtype=float32)>,\n",
       " 'moving_variance': <tf.Variable 'moving_variance:0' shape=(5,) dtype=float32, numpy=array([1., 1., 1., 1., 1.], dtype=float32)>,\n",
       " 'built': True}"
      ]
     },
     "execution_count": 37,
     "metadata": {},
     "output_type": "execute_result"
    }
   ],
   "source": [
    "tf_norm.__dict__"
   ]
  },
  {
   "cell_type": "code",
   "execution_count": 38,
   "metadata": {
    "ExecuteTime": {
     "end_time": "2020-04-07T17:57:11.158214Z",
     "start_time": "2020-04-07T17:57:11.150180Z"
    }
   },
   "outputs": [
    {
     "data": {
      "text/plain": [
       "BatchNorm1d(5, eps=1e-05, momentum=0.1, affine=True, track_running_stats=True)"
      ]
     },
     "execution_count": 38,
     "metadata": {},
     "output_type": "execute_result"
    }
   ],
   "source": [
    "t_norm"
   ]
  },
  {
   "cell_type": "code",
   "execution_count": 39,
   "metadata": {
    "ExecuteTime": {
     "end_time": "2020-04-07T17:57:12.747604Z",
     "start_time": "2020-04-07T17:57:12.737282Z"
    }
   },
   "outputs": [
    {
     "data": {
      "text/plain": [
       "tensor([[-0.5742, -0.5314, -0.5968,  0.5071, -1.4367],\n",
       "        [-1.2731, -1.0414, -0.4304, -0.8113,  1.8819],\n",
       "        [ 1.5077,  0.3108,  1.7632, -0.7367,  0.1510],\n",
       "        [ 1.4374, -1.0350, -0.3330, -1.1468,  1.0936],\n",
       "        [ 0.9481,  1.5233, -1.6438, -1.2596, -0.4355],\n",
       "        [ 0.1871,  1.3737, -0.2922,  1.3537,  0.3249],\n",
       "        [ 0.2887, -0.2073,  0.0620, -0.0149, -1.5936],\n",
       "        [-0.6504,  1.0031,  1.8238,  1.7352, -0.0182],\n",
       "        [-1.4444, -1.4831, -0.3457, -0.4157,  0.4276],\n",
       "        [-0.4269,  0.0873, -0.0070,  0.7891, -0.3952]],\n",
       "       grad_fn=<NativeBatchNormBackward>)"
      ]
     },
     "execution_count": 39,
     "metadata": {},
     "output_type": "execute_result"
    }
   ],
   "source": [
    "t_norm.forward(t_rnd)"
   ]
  },
  {
   "cell_type": "code",
   "execution_count": 41,
   "metadata": {
    "ExecuteTime": {
     "end_time": "2020-04-07T17:57:43.628310Z",
     "start_time": "2020-04-07T17:57:43.616895Z"
    }
   },
   "outputs": [
    {
     "data": {
      "text/plain": [
       "{'training': True, '_parameters': OrderedDict([('weight', Parameter containing:\n",
       "               tensor([1., 1., 1., 1., 1.], requires_grad=True)),\n",
       "              ('bias', Parameter containing:\n",
       "               tensor([0., 0., 0., 0., 0.], requires_grad=True))]), '_buffers': OrderedDict([('running_mean',\n",
       "               tensor([0.0427, 0.0565, 0.0399, 0.0446, 0.0436])),\n",
       "              ('running_var',\n",
       "               tensor([0.9074, 0.9085, 0.9055, 0.9102, 0.9080])),\n",
       "              ('num_batches_tracked',\n",
       "               tensor(1))]), '_backward_hooks': OrderedDict(), '_forward_hooks': OrderedDict(), '_forward_pre_hooks': OrderedDict(), '_state_dict_hooks': OrderedDict(), '_load_state_dict_pre_hooks': OrderedDict(), '_modules': OrderedDict(), 'num_features': 5, 'eps': 1e-05, 'momentum': 0.1, 'affine': True, 'track_running_stats': True}"
      ]
     },
     "execution_count": 41,
     "metadata": {},
     "output_type": "execute_result"
    }
   ],
   "source": [
    "t_norm.__dict__"
   ]
  },
  {
   "cell_type": "code",
   "execution_count": 46,
   "metadata": {
    "ExecuteTime": {
     "end_time": "2020-04-07T17:58:49.657768Z",
     "start_time": "2020-04-07T17:58:49.645395Z"
    }
   },
   "outputs": [
    {
     "data": {
      "text/plain": [
       "<tf.Tensor: shape=(10, 5), dtype=float32, numpy=\n",
       "array([[-0.5742347 , -0.5314337 , -0.5968071 ,  0.5070759 , -1.4366573 ],\n",
       "       [-1.273102  , -1.0413741 , -0.43039656, -0.811309  ,  1.8819484 ],\n",
       "       [ 1.5076603 ,  0.3108456 ,  1.7631763 , -0.7367292 ,  0.15103185],\n",
       "       [ 1.4373921 , -1.0350107 , -0.33303213, -1.1467812 ,  1.0936044 ],\n",
       "       [ 0.9481088 ,  1.5233321 , -1.6437594 , -1.2596334 , -0.43546844],\n",
       "       [ 0.1871134 ,  1.3737059 , -0.2922411 ,  1.3536824 ,  0.3248645 ],\n",
       "       [ 0.28874278, -0.20732903,  0.06197679, -0.01494253, -1.5936046 ],\n",
       "       [-0.65044487,  1.0030923 ,  1.8237594 ,  1.735185  , -0.01819205],\n",
       "       [-1.4443842 , -1.4830825 , -0.3457141 , -0.41565502,  0.4276389 ],\n",
       "       [-0.42685068,  0.08725429, -0.00696063,  0.78910816, -0.39516616]],\n",
       "      dtype=float32)>"
      ]
     },
     "execution_count": 46,
     "metadata": {},
     "output_type": "execute_result"
    }
   ],
   "source": [
    "tf_norm(tf_rnd, training=True)"
   ]
  },
  {
   "cell_type": "code",
   "execution_count": 50,
   "metadata": {
    "ExecuteTime": {
     "end_time": "2020-04-07T17:59:45.870606Z",
     "start_time": "2020-04-07T17:59:45.827107Z"
    }
   },
   "outputs": [
    {
     "data": {
      "text/plain": [
       "tensor([0.0427, 0.0565, 0.0399, 0.0446, 0.0436])"
      ]
     },
     "execution_count": 50,
     "metadata": {},
     "output_type": "execute_result"
    }
   ],
   "source": [
    "t_norm.running_mean"
   ]
  },
  {
   "cell_type": "code",
   "execution_count": 48,
   "metadata": {
    "ExecuteTime": {
     "end_time": "2020-04-07T17:59:23.619354Z",
     "start_time": "2020-04-07T17:59:23.610905Z"
    }
   },
   "outputs": [
    {
     "data": {
      "text/plain": [
       "<tf.Variable 'moving_mean:0' shape=(5,) dtype=float32, numpy=\n",
       "array([0.04270545, 0.05645385, 0.0398795 , 0.04460875, 0.04359961],\n",
       "      dtype=float32)>"
      ]
     },
     "execution_count": 48,
     "metadata": {},
     "output_type": "execute_result"
    }
   ],
   "source": [
    "tf_norm.moving_mean"
   ]
  },
  {
   "cell_type": "code",
   "execution_count": 7,
   "metadata": {
    "ExecuteTime": {
     "end_time": "2020-04-10T14:57:45.422547Z",
     "start_time": "2020-04-10T14:57:45.039490Z"
    }
   },
   "outputs": [
    {
     "data": {
      "text/plain": [
       "<matplotlib.axes._subplots.AxesSubplot at 0x14bbbab90>"
      ]
     },
     "execution_count": 7,
     "metadata": {},
     "output_type": "execute_result"
    },
    {
     "data": {
      "image/png": "[encoded data removed]",
      "text/plain": [
       "<Figure size 432x288 with 1 Axes>"
      ]
     },
     "metadata": {
      "needs_background": "light"
     },
     "output_type": "display_data"
    }
   ],
   "source": [
    "pd.DataFrame(tf.random.normal([50, 5]).numpy()).plot(kind='hist')"
   ]
  },
  {
   "cell_type": "code",
   "execution_count": 8,
   "metadata": {
    "ExecuteTime": {
     "end_time": "2020-04-10T14:57:46.040713Z",
     "start_time": "2020-04-10T14:57:45.615112Z"
    }
   },
   "outputs": [
    {
     "data": {
      "text/plain": [
       "<matplotlib.axes._subplots.AxesSubplot at 0x14bf15fd0>"
      ]
     },
     "execution_count": 8,
     "metadata": {},
     "output_type": "execute_result"
    },
    {
     "data": {
      "image/png": "[encoded data removed]",
      "text/plain": [
       "<Figure size 432x288 with 1 Axes>"
      ]
     },
     "metadata": {
      "needs_background": "light"
     },
     "output_type": "display_data"
    }
   ],
   "source": [
    "mean = torch.zeros(50,5)\n",
    "std = mean + 1\n",
    "pd.DataFrame(torch.normal(mean, std).numpy()).plot(kind='hist')"
   ]
  },
  {
   "cell_type": "code",
   "execution_count": 9,
   "metadata": {
    "ExecuteTime": {
     "end_time": "2020-04-10T15:51:09.711607Z",
     "start_time": "2020-04-10T15:51:09.703928Z"
    }
   },
   "outputs": [],
   "source": [
    "relu = tf.keras.layers.ReLU()"
   ]
  },
  {
   "cell_type": "code",
   "execution_count": 13,
   "metadata": {
    "ExecuteTime": {
     "end_time": "2020-04-10T15:52:34.082482Z",
     "start_time": "2020-04-10T15:52:34.073909Z"
    }
   },
   "outputs": [],
   "source": [
    "x = tf.convert_to_tensor([-1.0, 10.0, 20.0])\n",
    "with tf.GradientTape() as t:\n",
    "    t.watch(x)\n",
    "    y = relu(x)\n",
    "   \n",
    "grad = t.gradient(y, x)"
   ]
  },
  {
   "cell_type": "code",
   "execution_count": 14,
   "metadata": {
    "ExecuteTime": {
     "end_time": "2020-04-10T15:52:34.567940Z",
     "start_time": "2020-04-10T15:52:34.558810Z"
    }
   },
   "outputs": [
    {
     "data": {
      "text/plain": [
       "<tf.Tensor: shape=(3,), dtype=float32, numpy=array([0., 1., 1.], dtype=float32)>"
      ]
     },
     "execution_count": 14,
     "metadata": {},
     "output_type": "execute_result"
    }
   ],
   "source": [
    "grad"
   ]
  },
  {
   "cell_type": "code",
   "execution_count": 50,
   "metadata": {
    "ExecuteTime": {
     "end_time": "2020-04-10T16:04:44.498466Z",
     "start_time": "2020-04-10T16:04:44.489278Z"
    }
   },
   "outputs": [],
   "source": [
    "def act(x):\n",
    "    y = tf.convert_to_tensor([x[0][0]*10, x[0][1]-1, x[0][2]])\n",
    "    return y"
   ]
  },
  {
   "cell_type": "code",
   "execution_count": 51,
   "metadata": {
    "ExecuteTime": {
     "end_time": "2020-04-10T16:04:44.665413Z",
     "start_time": "2020-04-10T16:04:44.657384Z"
    }
   },
   "outputs": [],
   "source": [
    "class TestModel(tf.keras.Model):\n",
    "    def __init__(self):\n",
    "        super(TestModel, self).__init__()\n",
    "\n",
    "        self.model = [tf.keras.layers.Dense(3), tf.keras.layers.ReLU()]\n",
    "\n",
    "    def call(self, x, **kwargs):\n",
    "        for layer in self.model:\n",
    "            x = layer(x, **kwargs)\n",
    "        return x\n",
    "model = TestModel()"
   ]
  },
  {
   "cell_type": "code",
   "execution_count": 52,
   "metadata": {
    "ExecuteTime": {
     "end_time": "2020-04-10T16:04:44.839803Z",
     "start_time": "2020-04-10T16:04:44.826153Z"
    }
   },
   "outputs": [],
   "source": [
    "x = tf.convert_to_tensor([[-1.0, 10.0, 20.0]])\n",
    "with tf.GradientTape() as t:\n",
    "    y = act(model(x))\n",
    "   \n",
    "grad = t.gradient(y, model.trainable_variables)"
   ]
  },
  {
   "cell_type": "code",
   "execution_count": 49,
   "metadata": {
    "ExecuteTime": {
     "end_time": "2020-04-10T16:04:28.614323Z",
     "start_time": "2020-04-10T16:04:28.606641Z"
    }
   },
   "outputs": [
    {
     "data": {
      "text/plain": [
       "[<tf.Tensor: shape=(3, 3), dtype=float32, numpy=\n",
       " array([[-1.,  0.,  0.],\n",
       "        [10.,  0.,  0.],\n",
       "        [20.,  0.,  0.]], dtype=float32)>,\n",
       " <tf.Tensor: shape=(3,), dtype=float32, numpy=array([1., 0., 0.], dtype=float32)>]"
      ]
     },
     "execution_count": 49,
     "metadata": {},
     "output_type": "execute_result"
    }
   ],
   "source": [
    "grad"
   ]
  },
  {
   "cell_type": "code",
   "execution_count": 53,
   "metadata": {
    "ExecuteTime": {
     "end_time": "2020-04-10T16:04:46.725188Z",
     "start_time": "2020-04-10T16:04:46.715908Z"
    }
   },
   "outputs": [
    {
     "data": {
      "text/plain": [
       "[<tf.Tensor: shape=(3, 3), dtype=float32, numpy=\n",
       " array([[ 0.,  0., -1.],\n",
       "        [ 0.,  0., 10.],\n",
       "        [ 0.,  0., 20.]], dtype=float32)>,\n",
       " <tf.Tensor: shape=(3,), dtype=float32, numpy=array([0., 0., 1.], dtype=float32)>]"
      ]
     },
     "execution_count": 53,
     "metadata": {},
     "output_type": "execute_result"
    }
   ],
   "source": [
    "grad"
   ]
  },
  {
   "cell_type": "code",
   "execution_count": null,
   "metadata": {},
   "outputs": [],
   "source": []
  }
 ],
 "metadata": {
  "kernelspec": {
   "display_name": "Python 3",
   "language": "python",
   "name": "python3"
  },
  "language_info": {
   "codemirror_mode": {
    "name": "ipython",
    "version": 3
   },
   "file_extension": ".py",
   "mimetype": "text/x-python",
   "name": "python",
   "nbconvert_exporter": "python",
   "pygments_lexer": "ipython3",
   "version": "3.7.7"
  },
  "toc": {
   "base_numbering": 1,
   "nav_menu": {},
   "number_sections": true,
   "sideBar": true,
   "skip_h1_title": false,
   "title_cell": "Table of Contents",
   "title_sidebar": "Contents",
   "toc_cell": false,
   "toc_position": {},
   "toc_section_display": true,
   "toc_window_display": true
  },
  "varInspector": {
   "cols": {
    "lenName": 16,
    "lenType": 16,
    "lenVar": 40
   },
   "kernels_config": {
    "python": {
     "delete_cmd_postfix": "",
     "delete_cmd_prefix": "del ",
     "library": "var_list.py",
     "varRefreshCmd": "print(var_dic_list())"
    },
    "r": {
     "delete_cmd_postfix": ") ",
     "delete_cmd_prefix": "rm(",
     "library": "var_list.r",
     "varRefreshCmd": "cat(var_dic_list()) "
    }
   },
   "types_to_exclude": [
    "module",
    "function",
    "builtin_function_or_method",
    "instance",
    "_Feature"
   ],
   "window_display": false
  }
 },
 "nbformat": 4,
 "nbformat_minor": 2
}
