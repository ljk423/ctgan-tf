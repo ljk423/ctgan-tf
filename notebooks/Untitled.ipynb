{
 "cells": [
  {
   "cell_type": "code",
   "execution_count": 107,
   "metadata": {
    "ExecuteTime": {
     "end_time": "2020-04-05T15:59:39.268052Z",
     "start_time": "2020-04-05T15:59:39.263466Z"
    }
   },
   "outputs": [],
   "source": [
    "import tensorflow as tf\n",
    "import torch\n",
    "import numpy as np\n",
    "import pandas as pd\n",
    "import tensorflow_probability as tfp\n",
    "import matplotlib.pyplot as plt"
   ]
  },
  {
   "cell_type": "code",
   "execution_count": 3,
   "metadata": {
    "ExecuteTime": {
     "end_time": "2020-04-05T15:58:38.284674Z",
     "start_time": "2020-04-05T15:58:37.843270Z"
    }
   },
   "outputs": [],
   "source": [
    "from ctgan.transformer import DataTransformer\n",
    "from ctgan.sampler import Sampler\n",
    "from ctgan.conditional import ConditionalGenerator"
   ]
  },
  {
   "cell_type": "code",
   "execution_count": 4,
   "metadata": {
    "ExecuteTime": {
     "end_time": "2020-04-05T15:58:38.346123Z",
     "start_time": "2020-04-05T15:58:38.319856Z"
    }
   },
   "outputs": [],
   "source": [
    "from ctgan_torch.synthesizer import CTGANSynthesizer"
   ]
  },
  {
   "cell_type": "code",
   "execution_count": 5,
   "metadata": {
    "ExecuteTime": {
     "end_time": "2020-04-05T15:58:39.863396Z",
     "start_time": "2020-04-05T15:58:38.372535Z"
    }
   },
   "outputs": [],
   "source": [
    "DEMO_URL = 'http://ctgan-data.s3.amazonaws.com/census.csv.gz'\n",
    "train_data = pd.read_csv(DEMO_URL, compression='gzip')\n",
    "discrete_columns = [\n",
    "    'workclass',\n",
    "    'education',\n",
    "    'marital-status',\n",
    "    'occupation',\n",
    "    'relationship',\n",
    "    'race',\n",
    "    'sex',\n",
    "    'native-country',\n",
    "    'income'\n",
    "]"
   ]
  },
  {
   "cell_type": "code",
   "execution_count": 6,
   "metadata": {
    "ExecuteTime": {
     "end_time": "2020-04-05T15:59:03.605330Z",
     "start_time": "2020-04-05T15:58:39.953746Z"
    },
    "scrolled": true
   },
   "outputs": [
    {
     "name": "stderr",
     "output_type": "stream",
     "text": [
      "/home/pbm/.local/share/virtualenvs/ctgan-tf-9J9-GGaM/lib/python3.7/site-packages/sklearn/mixture/_base.py:267: ConvergenceWarning: Initialization 1 did not converge. Try different init parameters, or increase max_iter, tol or check for degenerate data.\n",
      "  % (init + 1), ConvergenceWarning)\n",
      "/home/pbm/.local/share/virtualenvs/ctgan-tf-9J9-GGaM/lib/python3.7/site-packages/sklearn/mixture/_base.py:267: ConvergenceWarning: Initialization 1 did not converge. Try different init parameters, or increase max_iter, tol or check for degenerate data.\n",
      "  % (init + 1), ConvergenceWarning)\n",
      "/home/pbm/.local/share/virtualenvs/ctgan-tf-9J9-GGaM/lib/python3.7/site-packages/sklearn/mixture/_base.py:267: ConvergenceWarning: Initialization 1 did not converge. Try different init parameters, or increase max_iter, tol or check for degenerate data.\n",
      "  % (init + 1), ConvergenceWarning)\n",
      "/home/pbm/.local/share/virtualenvs/ctgan-tf-9J9-GGaM/lib/python3.7/site-packages/sklearn/mixture/_base.py:267: ConvergenceWarning: Initialization 1 did not converge. Try different init parameters, or increase max_iter, tol or check for degenerate data.\n",
      "  % (init + 1), ConvergenceWarning)\n",
      "/home/pbm/.local/share/virtualenvs/ctgan-tf-9J9-GGaM/lib/python3.7/site-packages/sklearn/mixture/_base.py:267: ConvergenceWarning: Initialization 1 did not converge. Try different init parameters, or increase max_iter, tol or check for degenerate data.\n",
      "  % (init + 1), ConvergenceWarning)\n",
      "/home/pbm/.local/share/virtualenvs/ctgan-tf-9J9-GGaM/lib/python3.7/site-packages/sklearn/mixture/_base.py:267: ConvergenceWarning: Initialization 1 did not converge. Try different init parameters, or increase max_iter, tol or check for degenerate data.\n",
      "  % (init + 1), ConvergenceWarning)\n"
     ]
    }
   ],
   "source": [
    "transformer = DataTransformer()\n",
    "transformer.fit(train_data, discrete_columns)\n",
    "train_data = transformer.transform(train_data)"
   ]
  },
  {
   "cell_type": "code",
   "execution_count": 7,
   "metadata": {
    "ExecuteTime": {
     "end_time": "2020-04-05T15:59:03.884210Z",
     "start_time": "2020-04-05T15:59:03.634440Z"
    }
   },
   "outputs": [],
   "source": [
    "data_sampler = Sampler(train_data, transformer.output_info)\n",
    "data_dim = transformer.output_dimensions\n",
    "cond_generator = ConditionalGenerator(\n",
    "    train_data, transformer.output_info, True)"
   ]
  },
  {
   "cell_type": "code",
   "execution_count": 8,
   "metadata": {
    "ExecuteTime": {
     "end_time": "2020-04-05T16:02:48.572656Z",
     "start_time": "2020-04-05T16:02:48.566091Z"
    }
   },
   "outputs": [],
   "source": [
    "def w_bounded_initializer(fan_in):\n",
    "    bound = math.sqrt(1 / fan_in)\n",
    "    return tf.random_uniform_initializer(minval=-bound, maxval=bound)"
   ]
  },
  {
   "cell_type": "code",
   "execution_count": 9,
   "metadata": {
    "ExecuteTime": {
     "end_time": "2020-04-05T16:39:29.637067Z",
     "start_time": "2020-04-05T16:39:29.626932Z"
    }
   },
   "outputs": [],
   "source": [
    "class NewResidualLayer(tf.keras.layers.Layer):\n",
    "    def __init__(self, num_outputs):\n",
    "        super(NewResidualLayer, self).__init__()\n",
    "        self.num_outputs = num_outputs\n",
    "        self.fc = None\n",
    "        self.bn = None\n",
    "        self.relu = None\n",
    "\n",
    "    def build(self, input_shape):\n",
    "        self.fc = tf.keras.layers.Dense(\n",
    "            self.num_outputs, input_shape=input_shape,\n",
    "            kernel_initializer=w_bounded_initializer(input_shape[1]), bias_initializer=w_bounded_initializer(input_shape[1]))\n",
    "        self.bn = tf.keras.layers.BatchNormalization(epsilon=1e-5, momentum=0.9)\n",
    "        self.relu = tf.keras.layers.ReLU()\n",
    "\n",
    "    def call(self, inputs, **kwargs):\n",
    "        outputs = self.fc(inputs)\n",
    "        outputs = self.bn(outputs)\n",
    "        outputs = self.relu(outputs)\n",
    "        return tf.concat([outputs, inputs], axis=1)"
   ]
  },
  {
   "cell_type": "code",
   "execution_count": 10,
   "metadata": {
    "ExecuteTime": {
     "end_time": "2020-04-05T16:39:29.813473Z",
     "start_time": "2020-04-05T16:39:29.806814Z"
    }
   },
   "outputs": [],
   "source": [
    "from ctgan.layers import *\n",
    "def build_generator(gen_dims, embedding_dim, data_dim):\n",
    "    dim = embedding_dim\n",
    "    model = inputs = tf.keras.Input(shape=(dim,))\n",
    "\n",
    "    for layer_dim in list(gen_dims):\n",
    "        model = NewResidualLayer(layer_dim)(model)\n",
    "        dim += layer_dim\n",
    "\n",
    "    outputs = tf.keras.layers.Dense(\n",
    "        data_dim, kernel_initializer=w_bounded_initializer(dim),\n",
    "        bias_initializer=w_bounded_initializer(dim))(model)\n",
    "    #outputs = GenActLayer(\n",
    "    #    data_dim, self.transformer.output_info_tensor(), self.tau)(model)\n",
    "    return tf.keras.Model(inputs, outputs, name='Generator')"
   ]
  },
  {
   "cell_type": "code",
   "execution_count": 11,
   "metadata": {
    "ExecuteTime": {
     "end_time": "2020-04-05T16:39:30.000118Z",
     "start_time": "2020-04-05T16:39:29.984793Z"
    }
   },
   "outputs": [],
   "source": [
    "def build_critic(dis_dims, input_dim):\n",
    "    pac_dim = input_dim * 10\n",
    "    dim = pac_dim\n",
    "\n",
    "    model = inputs = tf.keras.Input(shape=(input_dim,))\n",
    "    model = tf.reshape(model, [-1, pac_dim])\n",
    "    for layer_dim in list(dis_dims):\n",
    "        model = tf.keras.layers.Dense(\n",
    "            layer_dim, input_shape=(dim,), kernel_initializer=w_bounded_initializer(dim),\n",
    "            bias_initializer=w_bounded_initializer(dim))(model)\n",
    "        model = tf.keras.layers.LeakyReLU(0.2)(model)\n",
    "        #model = tf.keras.layers.Dropout(0.5)(model)\n",
    "        dim = layer_dim\n",
    "\n",
    "    outputs = tf.keras.layers.Dense(\n",
    "        1, input_shape=(dim,), kernel_initializer=w_bounded_initializer(dim),\n",
    "        bias_initializer=w_bounded_initializer(dim))(model)\n",
    "    return tf.keras.Model(inputs, outputs, name='Critic')"
   ]
  },
  {
   "cell_type": "code",
   "execution_count": 12,
   "metadata": {
    "ExecuteTime": {
     "end_time": "2020-04-05T16:39:30.185788Z",
     "start_time": "2020-04-05T16:39:30.180890Z"
    }
   },
   "outputs": [
    {
     "data": {
      "text/plain": [
       "232"
      ]
     },
     "execution_count": 12,
     "metadata": {},
     "output_type": "execute_result"
    }
   ],
   "source": [
    "128 + cond_generator.n_opt"
   ]
  },
  {
   "cell_type": "code",
   "execution_count": 13,
   "metadata": {
    "ExecuteTime": {
     "end_time": "2020-04-05T17:39:13.407085Z",
     "start_time": "2020-04-05T17:39:13.402557Z"
    }
   },
   "outputs": [],
   "source": [
    "l2scale = 1e-6"
   ]
  },
  {
   "cell_type": "code",
   "execution_count": 149,
   "metadata": {
    "ExecuteTime": {
     "end_time": "2020-04-05T18:27:56.699552Z",
     "start_time": "2020-04-05T18:27:56.507699Z"
    }
   },
   "outputs": [],
   "source": [
    "generator = build_generator(\n",
    "    (256,256), 128 + cond_generator.n_opt, data_dim)\n",
    "critic = build_critic((256,256), data_dim + cond_generator.n_opt)"
   ]
  },
  {
   "cell_type": "code",
   "execution_count": 15,
   "metadata": {
    "ExecuteTime": {
     "end_time": "2020-04-05T18:27:56.867508Z",
     "start_time": "2020-04-05T18:27:56.856909Z"
    }
   },
   "outputs": [],
   "source": [
    "g_opt = tf.keras.optimizers.Adam(\n",
    "    learning_rate=2e-4, beta_1=0.5, beta_2=0.9, epsilon=1e-08, decay=l2scale)\n",
    "c_opt = tf.keras.optimizers.Adam(\n",
    "    learning_rate=2e-4, beta_1=0.5, beta_2=0.9, epsilon=1e-08)"
   ]
  },
  {
   "cell_type": "code",
   "execution_count": 17,
   "metadata": {},
   "outputs": [],
   "source": [
    "class Discriminator(torch.nn.Module):\n",
    "\n",
    "    def calc_gradient_penalty(self, real_data, fake_data, device='cpu', pac=10, lambda_=10):\n",
    "\n",
    "        alpha = torch.rand(real_data.size(0) // pac, 1, 1, device=device)\n",
    "        alpha = alpha.repeat(1, pac, real_data.size(1))\n",
    "        alpha = alpha.view(-1, real_data.size(1))\n",
    "\n",
    "        interpolates = alpha * real_data + ((1 - alpha) * fake_data)\n",
    "\n",
    "        disc_interpolates = self(interpolates)\n",
    "\n",
    "        gradients = torch.autograd.grad(\n",
    "            outputs=disc_interpolates, inputs=interpolates,\n",
    "            grad_outputs=torch.ones(disc_interpolates.size(), device=device),\n",
    "            create_graph=True, retain_graph=True, only_inputs=True\n",
    "        )[0]\n",
    "\n",
    "        gradient_penalty = ((\n",
    "            gradients.view(-1, pac * real_data.size(1)).norm(2, dim=1) - 1\n",
    "        ) ** 2).mean() * lambda_\n",
    "\n",
    "        return gradient_penalty\n",
    "\n",
    "    def __init__(self, input_dim, dis_dims, pack=10):\n",
    "        super(Discriminator, self).__init__()\n",
    "        dim = input_dim * pack\n",
    "        self.pack = pack\n",
    "        self.packdim = dim\n",
    "        seq = []\n",
    "        for item in list(dis_dims):\n",
    "            seq += [torch.nn.Linear(dim, item), torch.nn.LeakyReLU(0.2)]\n",
    "            #seq += [Linear(dim, item), LeakyReLU(0.2), Dropout(0.5)]\n",
    "            dim = item\n",
    "\n",
    "        seq += [torch.nn.Linear(dim, 1)]\n",
    "        self.seq = torch.nn.Sequential(*seq)\n",
    "\n",
    "    def forward(self, input):\n",
    "        assert input.size()[0] % self.pack == 0\n",
    "        return self.seq(input.view(-1, self.packdim))"
   ]
  },
  {
   "cell_type": "code",
   "execution_count": 153,
   "metadata": {
    "ExecuteTime": {
     "end_time": "2020-04-05T18:27:57.034910Z",
     "start_time": "2020-04-05T18:27:57.010119Z"
    }
   },
   "outputs": [],
   "source": [
    "from ctgan_torch.models import Generator\n",
    "t_gen = Generator(\n",
    "    128 + cond_generator.n_opt,\n",
    "    (256,256),\n",
    "    data_dim\n",
    ")\n",
    "\n",
    "t_critic = Discriminator(\n",
    "    data_dim + cond_generator.n_opt,\n",
    "    (256,256)\n",
    ")"
   ]
  },
  {
   "cell_type": "code",
   "execution_count": 19,
   "metadata": {
    "ExecuteTime": {
     "end_time": "2020-04-05T18:27:57.318846Z",
     "start_time": "2020-04-05T18:27:57.312915Z"
    }
   },
   "outputs": [],
   "source": [
    "optimizerG = torch.optim.Adam(\n",
    "    t_gen.parameters(), lr=2e-4, betas=(0.5, 0.9),\n",
    "    weight_decay=l2scale\n",
    ")\n",
    "optimizerD = torch.optim.Adam(t_critic.parameters(), lr=2e-4, betas=(0.5, 0.9))"
   ]
  },
  {
   "cell_type": "code",
   "execution_count": 20,
   "metadata": {
    "ExecuteTime": {
     "end_time": "2020-04-05T18:27:57.770790Z",
     "start_time": "2020-04-05T18:27:57.766193Z"
    }
   },
   "outputs": [],
   "source": [
    "batch_size = 500\n",
    "embedding_dim = z_dim = 128\n",
    "mean = torch.zeros(batch_size, embedding_dim)\n",
    "std = mean + 1"
   ]
  },
  {
   "cell_type": "code",
   "execution_count": 60,
   "metadata": {
    "ExecuteTime": {
     "end_time": "2020-04-05T18:27:58.546468Z",
     "start_time": "2020-04-05T18:27:58.532611Z"
    }
   },
   "outputs": [],
   "source": [
    "t_fakez = torch.normal(mean=mean, std=std)\n",
    "tf_fakez = tf.random.normal([batch_size, z_dim])\n",
    "\n",
    "fk = np.random.normal(size=(batch_size, z_dim)).astype(np.float32)\n",
    "t_fakez = torch.from_numpy(fk)\n",
    "tf_fakez = tf.convert_to_tensor(fk)"
   ]
  },
  {
   "cell_type": "code",
   "execution_count": 61,
   "metadata": {
    "ExecuteTime": {
     "end_time": "2020-04-05T18:27:59.055540Z",
     "start_time": "2020-04-05T18:27:59.048217Z"
    }
   },
   "outputs": [
    {
     "data": {
      "text/plain": [
       "TensorShape([500, 128])"
      ]
     },
     "execution_count": 61,
     "metadata": {},
     "output_type": "execute_result"
    }
   ],
   "source": [
    "tf_fakez.shape"
   ]
  },
  {
   "cell_type": "code",
   "execution_count": 62,
   "metadata": {
    "ExecuteTime": {
     "end_time": "2020-04-05T18:27:59.349167Z",
     "start_time": "2020-04-05T18:27:59.330480Z"
    }
   },
   "outputs": [],
   "source": [
    "condvec = cond_generator.sample(batch_size)\n",
    "if condvec is None:\n",
    "    c1, m1, col, opt = None, None, None, None\n",
    "    real = data_sampler.sample(batch_size, col, opt)\n",
    "else:\n",
    "    c1, m1, col, opt = condvec\n",
    "    c1_tf = tf.convert_to_tensor(c1)\n",
    "    m1_tf = tf.convert_to_tensor(m1)\n",
    "    tf_fakez = tf.concat([tf_fakez, c1_tf], axis=1)\n",
    "    \n",
    "    c1_t = torch.from_numpy(c1)\n",
    "    m1_t = torch.from_numpy(m1)\n",
    "    t_fakez = torch.cat([t_fakez, c1_t], dim=1)\n",
    "\n",
    "    perm = np.arange(batch_size)\n",
    "    np.random.shuffle(perm)\n",
    "    real = data_sampler.sample(batch_size, col[perm], opt[perm])\n",
    "    tf_c2 = tf.gather(c1_tf, perm)\n",
    "    t_c2 = c1_t[perm]"
   ]
  },
  {
   "cell_type": "code",
   "execution_count": 63,
   "metadata": {
    "ExecuteTime": {
     "end_time": "2020-04-05T18:28:00.169907Z",
     "start_time": "2020-04-05T18:28:00.162859Z"
    }
   },
   "outputs": [
    {
     "name": "stdout",
     "output_type": "stream",
     "text": [
      "(500, 104)\n",
      "(500, 104)\n",
      "torch.Size([500, 104])\n",
      "(500,)\n",
      "(500, 104)\n",
      "torch.Size([500, 104])\n"
     ]
    }
   ],
   "source": [
    "print(c1.shape)\n",
    "print(c1_tf.shape)\n",
    "print(c1_t.shape)\n",
    "print(perm.shape)\n",
    "print(tf_c2.shape)\n",
    "print(t_c2.shape)"
   ]
  },
  {
   "cell_type": "code",
   "execution_count": 64,
   "metadata": {
    "ExecuteTime": {
     "end_time": "2020-04-05T18:28:00.706472Z",
     "start_time": "2020-04-05T18:28:00.695758Z"
    }
   },
   "outputs": [
    {
     "data": {
      "text/plain": [
       "tensor([0., 0., 0., 0., 0., 0., 0., 0., 0., 0., 0., 0., 0., 0., 0., 0., 0., 0.,\n",
       "        0., 0., 0., 0., 0., 0., 0., 0., 0., 0., 0., 0., 0., 0., 0., 0., 0., 0.,\n",
       "        0., 0., 0., 0., 0., 0., 1., 0., 0., 0., 0., 0., 0., 0., 0., 0., 0., 0.,\n",
       "        0., 0., 0., 0., 0., 0., 0., 0., 0., 0., 0., 0., 0., 0., 0., 0., 0., 0.,\n",
       "        0., 0., 0., 0., 0., 0., 0., 0., 0., 0., 0., 0., 0., 0., 0., 0., 0., 0.,\n",
       "        0., 0., 0., 0., 0., 0., 0., 0., 0., 0., 0., 0., 0., 0.])"
      ]
     },
     "execution_count": 64,
     "metadata": {},
     "output_type": "execute_result"
    }
   ],
   "source": [
    "t_c2[0]"
   ]
  },
  {
   "cell_type": "code",
   "execution_count": 65,
   "metadata": {
    "ExecuteTime": {
     "end_time": "2020-04-05T18:28:01.058582Z",
     "start_time": "2020-04-05T18:28:01.050829Z"
    }
   },
   "outputs": [
    {
     "data": {
      "text/plain": [
       "tensor(0.)"
      ]
     },
     "execution_count": 65,
     "metadata": {},
     "output_type": "execute_result"
    }
   ],
   "source": [
    "t_c2[0][58]"
   ]
  },
  {
   "cell_type": "code",
   "execution_count": 385,
   "metadata": {
    "ExecuteTime": {
     "end_time": "2020-04-05T18:28:01.372174Z",
     "start_time": "2020-04-05T18:28:01.361026Z"
    },
    "scrolled": true
   },
   "outputs": [
    {
     "data": {
      "text/plain": [
       "<tf.Tensor: shape=(500,), dtype=int64, numpy=\n",
       "array([ 81,  57,  20,  59,  59,  29, 103,   4,  30,  74,  58,  30, 103,\n",
       "        31,   1, 103,  56,  67,  18,  51,  58,  79,   2,  57,   7,  57,\n",
       "         2,  35,  50,  43,  31,   9,  59, 100,  20,  27,  56,  90,  28,\n",
       "        21, 102,  28,  14, 102,  51,  93,  42,  29,  11, 103,  29,  59,\n",
       "        82,  53,  51,   7,  10,  48,  59,  53,  50,   2,   7,  42,  59,\n",
       "         5,  70, 103,   9,  46, 102, 103, 103,  99,   6,  38,  52, 102,\n",
       "        52,  59,  33,  20,  15,  48,  15,   4,  47,  37,  27,  59,  59,\n",
       "        57,  27,  72,  52,  47, 102,  47,  59, 102,  20,  50,  31, 103,\n",
       "         6,  65,  47,  10,  93,  93,  55,  47,  20,  31,  50,  56,  49,\n",
       "        53,  19,  52,   7,  48,  49,  78,  27,  10,  49,  55,  57,  17,\n",
       "        55,  87,  24, 102,  51, 102,  48,  16,   4,  68,  56,  25,  30,\n",
       "        56,  59,  25,   7,  11,  54,  31,   1,  90,  32,  27,  44,  71,\n",
       "        52,   6,  48,  19,  57,  58,   4,  90,  50,  43,   5,  18,  12,\n",
       "        59,  20,  58,  42,  16,  28, 102,  27,  57,  57,  44,  29,  39,\n",
       "        35,  26,  15, 103,  59,  93,  36,  59,   5,   0,  23,  37,  55,\n",
       "         0,  57,  54,   2,  11,  58,  28, 103,  53,  50,  28,  44,  58,\n",
       "        54,  25, 103,  58,  29,  24,  16,  59,  49,  59,  46,   5, 102,\n",
       "        51,   0,  25,   4,  91, 102,  12,  58,   4,  70,  54, 102,  27,\n",
       "       102,  57,  66,  35,  59,  48,  30,  30,  39,  14,  53,  89,  31,\n",
       "        44,   1, 102,  59,  49,  14,  58, 102, 102,  57, 102, 103,   5,\n",
       "        18,  43,  25,   0,  67,  66,  30,  29, 102,  14,  55,  59, 103,\n",
       "         7,  18,  86, 102,   7,  52,  35,  58, 103,  59,  72,  94,  59,\n",
       "        30,  37,  30, 102,  79,  55,  64,  59,  35,  43,  66,  51,  19,\n",
       "       103,  40,  55,  59, 102,  55,  65,  23,  28,  39,  52,  39,  36,\n",
       "        48,  68,  55,  35,  41, 102,   4,  69,  55,  35,  60,   5, 102,\n",
       "        15,  41,  50,   1,  59,  28,  50,  31,  58,  29,  25,  68,  59,\n",
       "        47,  29, 102, 102,  54,  24,  53,  58,  58,  58,  50,  10,  46,\n",
       "       103, 102,  50,   6,  50, 100, 102,  68,  29,  53, 103, 103,  27,\n",
       "        50, 102,  53,  57,  59,  63, 103,  75,  47,  90,   4,  47,  29,\n",
       "        58,  27,  55,  18,  58,  25,   5,  57,  59, 103,  39,  14,  55,\n",
       "       103,   9,  90,  56,  45,  25,   2,  25,  13,  28, 102,  50,  23,\n",
       "        33,   9,  59,  54,  30,  52,  33,  93,   3,  51, 103,  58,  59,\n",
       "        59,  40,  35,  58,  28, 102, 102, 102,   0,  58,  63,   0,  56,\n",
       "        59,  31,  44,  56,  78,  51, 102, 103,  30,  53,  47,  37,  58,\n",
       "         1,  19,  56, 102,  28, 102,  15,  57, 102, 102,  58,  46,  31,\n",
       "        10,   4,  31,  68,  58, 103,  60,  56,  43,   5,   1,  13,  48,\n",
       "        55,  29,  47,  29,  77,   0,  21,  32,  59,  56,  21,  27,  45,\n",
       "        16,  54,  39,  31,  53,  54,  54,   0,  88,  59,  61,   1,  56,\n",
       "        59,  63,  66,   6,  55,   1])>"
      ]
     },
     "execution_count": 385,
     "metadata": {},
     "output_type": "execute_result"
    }
   ],
   "source": [
    "tf.argmax(tf_c2, axis=1)"
   ]
  },
  {
   "cell_type": "code",
   "execution_count": 386,
   "metadata": {
    "ExecuteTime": {
     "end_time": "2020-04-05T18:28:01.652558Z",
     "start_time": "2020-04-05T18:28:01.637161Z"
    },
    "scrolled": true
   },
   "outputs": [
    {
     "data": {
      "text/plain": [
       "tensor([ 81,  57,  20,  59,  59,  29, 103,   4,  30,  74,  58,  30, 103,  31,\n",
       "          1, 103,  56,  67,  18,  51,  58,  79,   2,  57,   7,  57,   2,  35,\n",
       "         50,  43,  31,   9,  59, 100,  20,  27,  56,  90,  28,  21, 102,  28,\n",
       "         14, 102,  51,  93,  42,  29,  11, 103,  29,  59,  82,  53,  51,   7,\n",
       "         10,  48,  59,  53,  50,   2,   7,  42,  59,   5,  70, 103,   9,  46,\n",
       "        102, 103, 103,  99,   6,  38,  52, 102,  52,  59,  33,  20,  15,  48,\n",
       "         15,   4,  47,  37,  27,  59,  59,  57,  27,  72,  52,  47, 102,  47,\n",
       "         59, 102,  20,  50,  31, 103,   6,  65,  47,  10,  93,  93,  55,  47,\n",
       "         20,  31,  50,  56,  49,  53,  19,  52,   7,  48,  49,  78,  27,  10,\n",
       "         49,  55,  57,  17,  55,  87,  24, 102,  51, 102,  48,  16,   4,  68,\n",
       "         56,  25,  30,  56,  59,  25,   7,  11,  54,  31,   1,  90,  32,  27,\n",
       "         44,  71,  52,   6,  48,  19,  57,  58,   4,  90,  50,  43,   5,  18,\n",
       "         12,  59,  20,  58,  42,  16,  28, 102,  27,  57,  57,  44,  29,  39,\n",
       "         35,  26,  15, 103,  59,  93,  36,  59,   5,   0,  23,  37,  55,   0,\n",
       "         57,  54,   2,  11,  58,  28, 103,  53,  50,  28,  44,  58,  54,  25,\n",
       "        103,  58,  29,  24,  16,  59,  49,  59,  46,   5, 102,  51,   0,  25,\n",
       "          4,  91, 102,  12,  58,   4,  70,  54, 102,  27, 102,  57,  66,  35,\n",
       "         59,  48,  30,  30,  39,  14,  53,  89,  31,  44,   1, 102,  59,  49,\n",
       "         14,  58, 102, 102,  57, 102, 103,   5,  18,  43,  25,   0,  67,  66,\n",
       "         30,  29, 102,  14,  55,  59, 103,   7,  18,  86, 102,   7,  52,  35,\n",
       "         58, 103,  59,  72,  94,  59,  30,  37,  30, 102,  79,  55,  64,  59,\n",
       "         35,  43,  66,  51,  19, 103,  40,  55,  59, 102,  55,  65,  23,  28,\n",
       "         39,  52,  39,  36,  48,  68,  55,  35,  41, 102,   4,  69,  55,  35,\n",
       "         60,   5, 102,  15,  41,  50,   1,  59,  28,  50,  31,  58,  29,  25,\n",
       "         68,  59,  47,  29, 102, 102,  54,  24,  53,  58,  58,  58,  50,  10,\n",
       "         46, 103, 102,  50,   6,  50, 100, 102,  68,  29,  53, 103, 103,  27,\n",
       "         50, 102,  53,  57,  59,  63, 103,  75,  47,  90,   4,  47,  29,  58,\n",
       "         27,  55,  18,  58,  25,   5,  57,  59, 103,  39,  14,  55, 103,   9,\n",
       "         90,  56,  45,  25,   2,  25,  13,  28, 102,  50,  23,  33,   9,  59,\n",
       "         54,  30,  52,  33,  93,   3,  51, 103,  58,  59,  59,  40,  35,  58,\n",
       "         28, 102, 102, 102,   0,  58,  63,   0,  56,  59,  31,  44,  56,  78,\n",
       "         51, 102, 103,  30,  53,  47,  37,  58,   1,  19,  56, 102,  28, 102,\n",
       "         15,  57, 102, 102,  58,  46,  31,  10,   4,  31,  68,  58, 103,  60,\n",
       "         56,  43,   5,   1,  13,  48,  55,  29,  47,  29,  77,   0,  21,  32,\n",
       "         59,  56,  21,  27,  45,  16,  54,  39,  31,  53,  54,  54,   0,  88,\n",
       "         59,  61,   1,  56,  59,  63,  66,   6,  55,   1])"
      ]
     },
     "execution_count": 386,
     "metadata": {},
     "output_type": "execute_result"
    }
   ],
   "source": [
    "torch.argmax(t_c2, axis=1)"
   ]
  },
  {
   "cell_type": "code",
   "execution_count": 387,
   "metadata": {
    "ExecuteTime": {
     "end_time": "2020-04-05T18:28:02.612793Z",
     "start_time": "2020-04-05T18:28:02.605816Z"
    }
   },
   "outputs": [
    {
     "data": {
      "text/plain": [
       "TensorShape([500, 232])"
      ]
     },
     "execution_count": 387,
     "metadata": {},
     "output_type": "execute_result"
    }
   ],
   "source": [
    "tf_fakez.shape"
   ]
  },
  {
   "cell_type": "code",
   "execution_count": 388,
   "metadata": {
    "ExecuteTime": {
     "end_time": "2020-04-05T18:28:03.287451Z",
     "start_time": "2020-04-05T18:28:03.278505Z"
    },
    "scrolled": true
   },
   "outputs": [
    {
     "data": {
      "text/plain": [
       "TensorShape([232, 256])"
      ]
     },
     "execution_count": 388,
     "metadata": {},
     "output_type": "execute_result"
    }
   ],
   "source": [
    "# Copy weights\n",
    "generator.layers[1]._layers[0]._trainable_weights[0].shape"
   ]
  },
  {
   "cell_type": "code",
   "execution_count": 389,
   "metadata": {
    "ExecuteTime": {
     "end_time": "2020-04-05T18:28:03.546807Z",
     "start_time": "2020-04-05T18:28:03.530293Z"
    },
    "scrolled": true
   },
   "outputs": [
    {
     "data": {
      "text/plain": [
       "[array([[-0.03764651,  0.05668204, -0.01505546, ...,  0.04008025,\n",
       "         -0.06013812, -0.00704082],\n",
       "        [ 0.01103196,  0.0118294 , -0.01675732, ..., -0.05035019,\n",
       "         -0.02672653,  0.03088796],\n",
       "        [ 0.0390011 ,  0.05354697, -0.0017835 , ...,  0.05462016,\n",
       "         -0.04271987, -0.02828104],\n",
       "        ...,\n",
       "        [ 0.05685727,  0.00479729, -0.01797788, ...,  0.01030193,\n",
       "          0.01723725, -0.01634925],\n",
       "        [ 0.01067467, -0.04512588, -0.00095568, ...,  0.03843996,\n",
       "         -0.04763511,  0.05816013],\n",
       "        [ 0.02865377, -0.01613199,  0.03471152, ..., -0.00883324,\n",
       "          0.01592956,  0.03118502]], dtype=float32),\n",
       " array([ 4.76778150e-02, -1.90286450e-02, -5.00860028e-02,  2.25262493e-02,\n",
       "        -1.21653304e-02,  5.29850870e-02,  5.28924242e-02, -3.04285958e-02,\n",
       "         6.37199581e-02, -2.56376974e-02,  4.60203364e-02,  3.54235917e-02,\n",
       "        -6.01835549e-03, -6.53408989e-02,  4.61541712e-02,  5.07733747e-02,\n",
       "         3.77209485e-03,  5.27335778e-02, -1.55664235e-03,  5.18886000e-02,\n",
       "         1.20574981e-03, -5.34062274e-02,  2.92604268e-02,  2.07563713e-02,\n",
       "        -5.54251298e-02,  4.80861664e-02,  6.05816394e-02, -3.71430963e-02,\n",
       "         4.47475165e-02,  4.79976535e-02,  3.28947306e-02,  6.02272153e-02,\n",
       "         1.33334324e-02,  3.80649641e-02, -1.70455761e-02,  5.55352941e-02,\n",
       "         1.85697302e-02, -2.91429386e-02,  6.31844997e-02,  8.20292532e-03,\n",
       "         1.76583752e-02,  3.91090289e-02, -3.35682780e-02, -1.29410103e-02,\n",
       "        -2.40118094e-02, -1.60516426e-02,  7.65297562e-03, -6.82622194e-05,\n",
       "         2.04466432e-02,  5.81845716e-02, -8.87448713e-03, -6.14679344e-02,\n",
       "         2.94389054e-02,  1.70665160e-02,  3.67340222e-02,  4.16388735e-02,\n",
       "        -4.85434234e-02, -3.23761478e-02,  1.55806616e-02, -3.53323966e-02,\n",
       "        -5.88989258e-03, -1.02081150e-02,  3.41220200e-03,  1.08481199e-02,\n",
       "        -1.32914670e-02, -1.47753321e-02,  4.06870171e-02, -3.26399654e-02,\n",
       "         2.50291079e-02,  2.37887204e-02,  6.49035424e-02, -3.21483538e-02,\n",
       "        -1.26637667e-02, -3.11577693e-02, -5.97478934e-02,  3.42601538e-02,\n",
       "         5.64559996e-02, -2.14222781e-02, -1.49107613e-02, -6.02520443e-02,\n",
       "        -3.28044929e-02,  4.56819087e-02, -5.00030108e-02,  7.03901798e-03,\n",
       "         5.53772449e-02, -5.97753040e-02, -4.06730883e-02, -2.00847052e-02,\n",
       "         1.62492767e-02,  2.49844790e-03, -3.90434265e-02,  1.33895278e-02,\n",
       "        -3.39518860e-03,  4.17305380e-02,  7.70504028e-03,  1.18210614e-02,\n",
       "        -4.18773815e-02,  3.27078998e-02,  6.52108490e-02, -6.38923422e-02,\n",
       "         2.06168592e-02,  7.76923448e-03, -5.92570491e-02,  5.43971732e-02,\n",
       "        -3.32112648e-02, -4.96990308e-02, -3.81572209e-02, -9.24137607e-03,\n",
       "        -2.34739259e-02, -6.15715571e-02,  2.66160816e-03, -3.75241712e-02,\n",
       "        -6.44403696e-03,  2.55500525e-02,  4.11908254e-02,  1.84829682e-02,\n",
       "         5.84748536e-02,  1.91185400e-02, -4.22210395e-02,  4.40959185e-02,\n",
       "         2.89374143e-02, -9.91597772e-04, -5.00919297e-03,  2.81591862e-02,\n",
       "         7.58873671e-03, -5.31022325e-02, -3.37827243e-02, -2.55260132e-02,\n",
       "        -4.06659991e-02, -2.52294689e-02, -2.81689651e-02,  5.03641888e-02,\n",
       "        -2.04380602e-03, -5.01455627e-02, -4.32343930e-02,  7.41636753e-03,\n",
       "         2.71626860e-02,  9.35479254e-03, -3.90168801e-02, -2.29943506e-02,\n",
       "         4.64349836e-02,  1.65685341e-02, -4.74238135e-02, -7.08815455e-03,\n",
       "        -2.02356465e-02,  2.66244113e-02,  5.16374633e-02, -1.76099725e-02,\n",
       "        -8.59595835e-03,  6.34108484e-02, -3.44491750e-03, -4.29574922e-02,\n",
       "         5.92374504e-02,  4.10375819e-02, -6.42485246e-02, -2.15476118e-02,\n",
       "         2.76830047e-03,  3.29235196e-02, -3.89430299e-02,  5.36197796e-02,\n",
       "        -3.27191539e-02,  9.25724953e-03, -6.25840500e-02,  3.28746438e-03,\n",
       "        -2.87007913e-02,  6.19044751e-02,  6.55583292e-02,  4.35277820e-02,\n",
       "        -2.55833976e-02, -1.33833028e-02,  2.56313905e-02, -5.33021055e-02,\n",
       "         5.06563038e-02,  4.20092046e-03,  1.87265426e-02,  5.90416640e-02,\n",
       "        -9.13895667e-04, -2.57333219e-02, -3.81721407e-02, -5.21273836e-02,\n",
       "        -1.49933249e-03,  1.03710145e-02, -3.59959900e-02,  1.10603571e-02,\n",
       "        -3.08865048e-02,  5.98642081e-02,  2.48895586e-03,  6.47430420e-02,\n",
       "        -6.11204393e-02, -9.87145305e-03,  1.27112269e-02, -1.16648264e-02,\n",
       "        -5.68968840e-02,  4.57319468e-02, -5.25135919e-03, -5.92339933e-02,\n",
       "        -3.87664512e-02,  2.96033546e-02, -2.51198821e-02, -3.55264917e-02,\n",
       "        -2.55532190e-02, -4.71223518e-02,  5.68994358e-02,  5.45532107e-02,\n",
       "         5.54570630e-02, -6.44835383e-02, -1.79442875e-02,  2.70079076e-02,\n",
       "         1.62391961e-02, -2.64284834e-02, -2.04818696e-03, -1.89872123e-02,\n",
       "         2.68603191e-02, -1.33086853e-02, -7.36648217e-03, -8.74481723e-03,\n",
       "         3.29189748e-02, -1.44811682e-02, -6.00954071e-02, -4.84642014e-03,\n",
       "         4.35420722e-02,  1.63907185e-02,  8.30288976e-03, -2.78237239e-02,\n",
       "        -5.32315560e-02, -3.37729603e-03,  5.46603277e-02, -1.83275491e-02,\n",
       "         5.66084310e-02, -5.61366826e-02,  3.40222418e-02,  3.14482078e-02,\n",
       "         4.53952029e-02,  4.79708835e-02,  7.02150166e-03, -5.68279922e-02,\n",
       "         1.48675740e-02,  2.23967656e-02, -6.15979955e-02,  1.31957605e-02,\n",
       "         2.06506997e-02,  4.97786924e-02, -5.73149100e-02,  3.29154059e-02,\n",
       "        -6.56137615e-02,  3.79053503e-03, -5.95908314e-02, -3.81202027e-02,\n",
       "        -5.90016730e-02, -3.89684513e-02, -3.35815065e-02,  6.18956387e-02,\n",
       "        -6.50623515e-02, -3.66507173e-02,  5.57033941e-02, -4.71657887e-02],\n",
       "       dtype=float32)]"
      ]
     },
     "execution_count": 389,
     "metadata": {},
     "output_type": "execute_result"
    }
   ],
   "source": [
    "generator.layers[1]._layers[0].get_weights()"
   ]
  },
  {
   "cell_type": "code",
   "execution_count": 390,
   "metadata": {
    "ExecuteTime": {
     "end_time": "2020-04-05T18:28:04.026341Z",
     "start_time": "2020-04-05T18:28:04.014967Z"
    }
   },
   "outputs": [
    {
     "data": {
      "text/plain": [
       "Parameter containing:\n",
       "tensor([[ 0.0073,  0.0159, -0.0625,  ..., -0.0484,  0.0192, -0.0407],\n",
       "        [ 0.0567, -0.0510,  0.0458,  ..., -0.0111,  0.0241,  0.0509],\n",
       "        [-0.0613, -0.0066, -0.0222,  ..., -0.0422,  0.0240, -0.0471],\n",
       "        ...,\n",
       "        [-0.0598,  0.0419, -0.0210,  ..., -0.0634,  0.0532,  0.0451],\n",
       "        [-0.0180,  0.0173, -0.0517,  ..., -0.0642, -0.0233,  0.0128],\n",
       "        [ 0.0428, -0.0259,  0.0291,  ..., -0.0070,  0.0227, -0.0550]],\n",
       "       requires_grad=True)"
      ]
     },
     "execution_count": 390,
     "metadata": {},
     "output_type": "execute_result"
    }
   ],
   "source": [
    "t_gen.seq[0].fc.weight"
   ]
  },
  {
   "cell_type": "code",
   "execution_count": 25,
   "metadata": {
    "ExecuteTime": {
     "end_time": "2020-04-05T18:28:04.509657Z",
     "start_time": "2020-04-05T18:28:04.497623Z"
    }
   },
   "outputs": [
    {
     "data": {
      "text/plain": [
       "Parameter containing:\n",
       "tensor([[ 0.0276, -0.0188, -0.0242,  ..., -0.0074, -0.0106, -0.0201],\n",
       "        [-0.0184, -0.0083,  0.0164,  ...,  0.0073, -0.0203,  0.0027],\n",
       "        [-0.0326, -0.0228,  0.0361,  ...,  0.0227, -0.0081,  0.0250],\n",
       "        ...,\n",
       "        [-0.0074,  0.0019,  0.0148,  ...,  0.0067, -0.0137, -0.0037],\n",
       "        [ 0.0345, -0.0214, -0.0298,  ...,  0.0033,  0.0312, -0.0021],\n",
       "        [ 0.0163, -0.0061,  0.0145,  ...,  0.0071, -0.0068, -0.0286]],\n",
       "       requires_grad=True)"
      ]
     },
     "execution_count": 25,
     "metadata": {},
     "output_type": "execute_result"
    }
   ],
   "source": [
    "t_gen.seq[2].weight"
   ]
  },
  {
   "cell_type": "code",
   "execution_count": 26,
   "metadata": {
    "ExecuteTime": {
     "end_time": "2020-04-05T18:28:05.908361Z",
     "start_time": "2020-04-05T18:28:05.899916Z"
    }
   },
   "outputs": [
    {
     "data": {
      "text/plain": [
       "[<tensorflow.python.keras.engine.input_layer.InputLayer at 0x7f2f9982f910>,\n",
       " <__main__.NewResidualLayer at 0x7f2f9986ae50>,\n",
       " <__main__.NewResidualLayer at 0x7f2f96e9fa10>,\n",
       " <tensorflow.python.keras.layers.core.Dense at 0x7f2f96eadd50>]"
      ]
     },
     "execution_count": 26,
     "metadata": {},
     "output_type": "execute_result"
    }
   ],
   "source": [
    "generator.layers"
   ]
  },
  {
   "cell_type": "code",
   "execution_count": 119,
   "metadata": {
    "ExecuteTime": {
     "end_time": "2020-04-05T18:28:06.916011Z",
     "start_time": "2020-04-05T18:28:06.902128Z"
    }
   },
   "outputs": [],
   "source": [
    "generator.layers[1]._layers[0].set_weights([t_gen.seq[0].fc.weight.detach().numpy().T, t_gen.seq[0].fc.bias.detach().numpy()])\n",
    "generator.layers[2]._layers[0].set_weights([t_gen.seq[1].fc.weight.detach().numpy().T, t_gen.seq[1].fc.bias.detach().numpy()])\n",
    "generator.layers[3].set_weights([t_gen.seq[2].weight.detach().numpy().T, t_gen.seq[2].bias.detach().numpy()])"
   ]
  },
  {
   "cell_type": "code",
   "execution_count": 67,
   "metadata": {},
   "outputs": [
    {
     "data": {
      "text/plain": [
       "Sequential(\n",
       "  (0): Linear(in_features=2610, out_features=256, bias=True)\n",
       "  (1): LeakyReLU(negative_slope=0.2)\n",
       "  (2): Linear(in_features=256, out_features=256, bias=True)\n",
       "  (3): LeakyReLU(negative_slope=0.2)\n",
       "  (4): Linear(in_features=256, out_features=1, bias=True)\n",
       ")"
      ]
     },
     "execution_count": 67,
     "metadata": {},
     "output_type": "execute_result"
    }
   ],
   "source": [
    "t_critic.seq"
   ]
  },
  {
   "cell_type": "code",
   "execution_count": 68,
   "metadata": {},
   "outputs": [
    {
     "data": {
      "text/plain": [
       "[<tensorflow.python.keras.engine.input_layer.InputLayer at 0x7f2f80797d10>,\n",
       " <tensorflow.python.keras.engine.base_layer.TensorFlowOpLayer at 0x7f2f80710050>,\n",
       " <tensorflow.python.keras.layers.core.Dense at 0x7f2f80709e50>,\n",
       " <tensorflow.python.keras.layers.advanced_activations.LeakyReLU at 0x7f2f80709f90>,\n",
       " <tensorflow.python.keras.layers.core.Dense at 0x7f2f80710850>,\n",
       " <tensorflow.python.keras.layers.advanced_activations.LeakyReLU at 0x7f2f80718510>,\n",
       " <tensorflow.python.keras.layers.core.Dense at 0x7f2f8071e4d0>]"
      ]
     },
     "execution_count": 68,
     "metadata": {},
     "output_type": "execute_result"
    }
   ],
   "source": [
    "critic.layers"
   ]
  },
  {
   "cell_type": "code",
   "execution_count": 120,
   "metadata": {
    "ExecuteTime": {
     "end_time": "2020-04-05T18:28:06.916011Z",
     "start_time": "2020-04-05T18:28:06.902128Z"
    }
   },
   "outputs": [],
   "source": [
    "critic.layers[2].set_weights([t_critic.seq[0].weight.detach().numpy().T, t_critic.seq[0].bias.detach().numpy()])\n",
    "critic.layers[4].set_weights([t_critic.seq[2].weight.detach().numpy().T, t_critic.seq[2].bias.detach().numpy()])\n",
    "critic.layers[6].set_weights([t_critic.seq[4].weight.detach().numpy().T, t_critic.seq[4].bias.detach().numpy()])"
   ]
  },
  {
   "cell_type": "code",
   "execution_count": 121,
   "metadata": {
    "ExecuteTime": {
     "end_time": "2020-04-05T18:28:09.388221Z",
     "start_time": "2020-04-05T18:28:09.364924Z"
    }
   },
   "outputs": [],
   "source": [
    "tf_fake = generator(tf_fakez, training=True)"
   ]
  },
  {
   "cell_type": "code",
   "execution_count": 71,
   "metadata": {
    "ExecuteTime": {
     "end_time": "2020-04-05T18:28:09.813539Z",
     "start_time": "2020-04-05T18:28:09.792370Z"
    }
   },
   "outputs": [],
   "source": [
    "t_fake = t_gen(t_fakez)"
   ]
  },
  {
   "cell_type": "code",
   "execution_count": 72,
   "metadata": {
    "ExecuteTime": {
     "end_time": "2020-04-05T18:28:10.319991Z",
     "start_time": "2020-04-05T18:28:10.309655Z"
    }
   },
   "outputs": [
    {
     "data": {
      "text/plain": [
       "<tf.Tensor: shape=(500, 157), dtype=float32, numpy=\n",
       "array([[-0.4187798 , -0.07809828, -0.45435774, ..., -0.26270318,\n",
       "         0.26019856, -0.3573795 ],\n",
       "       [-0.02661388, -0.33855942,  0.23149277, ...,  0.36736673,\n",
       "        -0.1006417 ,  0.1564506 ],\n",
       "       [-0.78372806, -0.16788357, -0.24720077, ..., -0.1206113 ,\n",
       "         0.18430255,  0.42359757],\n",
       "       ...,\n",
       "       [-0.31727177, -0.39618668,  0.13995226, ...,  0.3078283 ,\n",
       "        -0.07440005,  0.1218283 ],\n",
       "       [-0.56266475, -0.16586661, -0.43288028, ..., -0.02165363,\n",
       "         0.04636449, -0.24160317],\n",
       "       [-0.8489312 , -0.02265953, -0.10653588, ..., -0.93605626,\n",
       "         0.5015683 ,  0.5947409 ]], dtype=float32)>"
      ]
     },
     "execution_count": 72,
     "metadata": {},
     "output_type": "execute_result"
    }
   ],
   "source": [
    "tf_fake"
   ]
  },
  {
   "cell_type": "code",
   "execution_count": 73,
   "metadata": {
    "ExecuteTime": {
     "end_time": "2020-04-05T18:28:10.892796Z",
     "start_time": "2020-04-05T18:28:10.882743Z"
    }
   },
   "outputs": [
    {
     "data": {
      "text/plain": [
       "tensor([[-0.4188, -0.0781, -0.4544,  ..., -0.2627,  0.2602, -0.3574],\n",
       "        [-0.0266, -0.3386,  0.2315,  ...,  0.3674, -0.1006,  0.1565],\n",
       "        [-0.7837, -0.1679, -0.2472,  ..., -0.1206,  0.1843,  0.4236],\n",
       "        ...,\n",
       "        [-0.3173, -0.3962,  0.1400,  ...,  0.3078, -0.0744,  0.1218],\n",
       "        [-0.5627, -0.1659, -0.4329,  ..., -0.0217,  0.0464, -0.2416],\n",
       "        [-0.8489, -0.0227, -0.1065,  ..., -0.9361,  0.5016,  0.5947]],\n",
       "       grad_fn=<AddmmBackward>)"
      ]
     },
     "execution_count": 73,
     "metadata": {},
     "output_type": "execute_result"
    }
   ],
   "source": [
    "t_fake"
   ]
  },
  {
   "cell_type": "code",
   "execution_count": 74,
   "metadata": {
    "ExecuteTime": {
     "end_time": "2020-04-05T18:28:12.735547Z",
     "start_time": "2020-04-05T18:28:12.728455Z"
    }
   },
   "outputs": [
    {
     "data": {
      "text/plain": [
       "<tf.Tensor: shape=(), dtype=float32, numpy=0.0033060154>"
      ]
     },
     "execution_count": 74,
     "metadata": {},
     "output_type": "execute_result"
    }
   ],
   "source": [
    "tf.reduce_mean(tf_fake)"
   ]
  },
  {
   "cell_type": "code",
   "execution_count": 75,
   "metadata": {
    "ExecuteTime": {
     "end_time": "2020-04-05T18:28:13.283055Z",
     "start_time": "2020-04-05T18:28:13.271993Z"
    }
   },
   "outputs": [
    {
     "data": {
      "text/plain": [
       "tensor(0.0033, grad_fn=<MeanBackward0>)"
      ]
     },
     "execution_count": 75,
     "metadata": {},
     "output_type": "execute_result"
    }
   ],
   "source": [
    "torch.mean(t_fake)"
   ]
  },
  {
   "cell_type": "code",
   "execution_count": 76,
   "metadata": {
    "ExecuteTime": {
     "end_time": "2020-04-05T18:28:13.725157Z",
     "start_time": "2020-04-05T18:28:13.638200Z"
    }
   },
   "outputs": [],
   "source": [
    "from ctgan.layers import _apply_activate\n",
    "tf_fakeact = _apply_activate(tf_fake, transformer.output_info)"
   ]
  },
  {
   "cell_type": "code",
   "execution_count": 77,
   "metadata": {
    "ExecuteTime": {
     "end_time": "2020-04-05T18:28:14.364794Z",
     "start_time": "2020-04-05T18:28:14.348798Z"
    }
   },
   "outputs": [],
   "source": [
    "from torch.nn import functional\n",
    "def torch_aa(data, transformer_info):\n",
    "    data_t = []\n",
    "    st = 0\n",
    "    for item in transformer_info:\n",
    "        if item[1] == 'tanh':\n",
    "            ed = st + item[0]\n",
    "            data_t.append(torch.tanh(data[:, st:ed]))\n",
    "            st = ed\n",
    "        elif item[1] == 'softmax':\n",
    "            ed = st + item[0]\n",
    "            data_t.append(functional.gumbel_softmax(data[:, st:ed], tau=0.2))\n",
    "            st = ed\n",
    "        else:\n",
    "            assert 0\n",
    "\n",
    "    return torch.cat(data_t, dim=1)\n",
    "t_fakeact = torch_aa(t_fake, transformer.output_info)"
   ]
  },
  {
   "cell_type": "code",
   "execution_count": 78,
   "metadata": {
    "ExecuteTime": {
     "end_time": "2020-04-05T18:28:15.538223Z",
     "start_time": "2020-04-05T18:28:15.529428Z"
    }
   },
   "outputs": [
    {
     "data": {
      "text/plain": [
       "<tf.Tensor: shape=(500, 157), dtype=float32, numpy=\n",
       "array([[-3.9590195e-01,  6.7638725e-02,  6.1131288e-07, ...,\n",
       "         1.6018544e-09,  1.0000000e+00,  7.0618520e-09],\n",
       "       [-2.6607588e-02,  8.3749292e-08,  3.6598752e-07, ...,\n",
       "         4.0921620e-13,  8.0534321e-01,  1.9465674e-01],\n",
       "       [-6.5484136e-01,  3.6336452e-04,  9.9844724e-01, ...,\n",
       "         5.5256817e-07,  6.7867586e-05,  9.9993217e-01],\n",
       "       ...,\n",
       "       [-3.0703795e-01,  2.2852166e-06,  1.6957204e-04, ...,\n",
       "         4.8890553e-04,  8.7680554e-01,  1.2319446e-01],\n",
       "       [-5.0995189e-01,  9.9998426e-01,  2.8544807e-07, ...,\n",
       "         7.2024718e-06,  9.9992454e-01,  7.5414006e-05],\n",
       "       [-6.9051075e-01,  3.9397492e-03,  2.6123038e-08, ...,\n",
       "         8.8873848e-12,  2.5070903e-03,  9.9749291e-01]], dtype=float32)>"
      ]
     },
     "execution_count": 78,
     "metadata": {},
     "output_type": "execute_result"
    }
   ],
   "source": [
    "tf_fakeact"
   ]
  },
  {
   "cell_type": "code",
   "execution_count": 79,
   "metadata": {
    "ExecuteTime": {
     "end_time": "2020-04-05T18:28:15.782431Z",
     "start_time": "2020-04-05T18:28:15.769784Z"
    }
   },
   "outputs": [
    {
     "data": {
      "text/plain": [
       "tensor([[-3.9590e-01,  8.7536e-04,  2.0724e-08,  ...,  1.0803e-12,\n",
       "          2.3546e-02,  9.7645e-01],\n",
       "        [-2.6608e-02,  1.7889e-10,  1.8408e-06,  ...,  4.0740e-07,\n",
       "          5.8393e-05,  9.9994e-01],\n",
       "        [-6.5484e-01,  3.3387e-13,  8.7678e-12,  ...,  5.9147e-12,\n",
       "          1.1216e-02,  9.8878e-01],\n",
       "        ...,\n",
       "        [-3.0704e-01,  1.6474e-12,  2.2179e-07,  ...,  4.1761e-09,\n",
       "          9.8281e-01,  1.7194e-02],\n",
       "        [-5.0995e-01,  1.8160e-04,  1.4614e-07,  ...,  2.2482e-09,\n",
       "          9.9804e-01,  1.9620e-03],\n",
       "        [-6.9051e-01,  1.0310e-04,  5.4244e-04,  ...,  6.0933e-12,\n",
       "          9.8890e-01,  1.1101e-02]], grad_fn=<CatBackward>)"
      ]
     },
     "execution_count": 79,
     "metadata": {},
     "output_type": "execute_result"
    }
   ],
   "source": [
    "t_fakeact"
   ]
  },
  {
   "cell_type": "code",
   "execution_count": 80,
   "metadata": {
    "ExecuteTime": {
     "end_time": "2020-04-05T18:28:15.985268Z",
     "start_time": "2020-04-05T18:28:15.967676Z"
    }
   },
   "outputs": [
    {
     "data": {
      "text/plain": [
       "<tf.Tensor: shape=(), dtype=float32, numpy=0.09556138>"
      ]
     },
     "execution_count": 80,
     "metadata": {},
     "output_type": "execute_result"
    }
   ],
   "source": [
    "tf.reduce_mean(tf_fakeact)"
   ]
  },
  {
   "cell_type": "code",
   "execution_count": 81,
   "metadata": {
    "ExecuteTime": {
     "end_time": "2020-04-05T18:28:16.968848Z",
     "start_time": "2020-04-05T18:28:16.960667Z"
    }
   },
   "outputs": [
    {
     "data": {
      "text/plain": [
       "tensor(0.0956, grad_fn=<MeanBackward0>)"
      ]
     },
     "execution_count": 81,
     "metadata": {},
     "output_type": "execute_result"
    }
   ],
   "source": [
    "torch.mean(t_fakeact)"
   ]
  },
  {
   "cell_type": "code",
   "execution_count": 406,
   "metadata": {
    "ExecuteTime": {
     "end_time": "2020-04-05T18:28:19.502112Z",
     "start_time": "2020-04-05T18:28:19.493322Z"
    }
   },
   "outputs": [
    {
     "data": {
      "text/plain": [
       "Generator(\n",
       "  (seq): Sequential(\n",
       "    (0): Residual(\n",
       "      (fc): Linear(in_features=232, out_features=256, bias=True)\n",
       "      (bn): BatchNorm1d(256, eps=1e-05, momentum=0.1, affine=True, track_running_stats=True)\n",
       "      (relu): ReLU()\n",
       "    )\n",
       "    (1): Residual(\n",
       "      (fc): Linear(in_features=488, out_features=256, bias=True)\n",
       "      (bn): BatchNorm1d(256, eps=1e-05, momentum=0.1, affine=True, track_running_stats=True)\n",
       "      (relu): ReLU()\n",
       "    )\n",
       "    (2): Linear(in_features=744, out_features=157, bias=True)\n",
       "  )\n",
       ")"
      ]
     },
     "execution_count": 406,
     "metadata": {},
     "output_type": "execute_result"
    }
   ],
   "source": [
    "t_gen"
   ]
  },
  {
   "cell_type": "code",
   "execution_count": 150,
   "metadata": {},
   "outputs": [],
   "source": [
    "# Copy fakeact tensor\n",
    "tf_fakeact = tf.convert_to_tensor(t_fakeact.detach().numpy())"
   ]
  },
  {
   "cell_type": "code",
   "execution_count": 83,
   "metadata": {},
   "outputs": [
    {
     "data": {
      "text/plain": [
       "<tf.Tensor: shape=(500, 157), dtype=float32, numpy=\n",
       "array([[-3.9590198e-01,  8.7536272e-04,  2.0723824e-08, ...,\n",
       "         1.0803212e-12,  2.3545912e-02,  9.7645414e-01],\n",
       "       [-2.6607743e-02,  1.7889308e-10,  1.8407518e-06, ...,\n",
       "         4.0739920e-07,  5.8392910e-05,  9.9994159e-01],\n",
       "       [-6.5484118e-01,  3.3386775e-13,  8.7677730e-12, ...,\n",
       "         5.9147361e-12,  1.1216190e-02,  9.8878378e-01],\n",
       "       ...,\n",
       "       [-3.0703804e-01,  1.6474165e-12,  2.2178554e-07, ...,\n",
       "         4.1761439e-09,  9.8280615e-01,  1.7193921e-02],\n",
       "       [-5.0995189e-01,  1.8159642e-04,  1.4613579e-07, ...,\n",
       "         2.2481750e-09,  9.9803799e-01,  1.9620107e-03],\n",
       "       [-6.9051075e-01,  1.0309785e-04,  5.4243894e-04, ...,\n",
       "         6.0932674e-12,  9.8889869e-01,  1.1101375e-02]], dtype=float32)>"
      ]
     },
     "execution_count": 83,
     "metadata": {},
     "output_type": "execute_result"
    }
   ],
   "source": [
    "tf_fakeact"
   ]
  },
  {
   "cell_type": "code",
   "execution_count": 84,
   "metadata": {
    "ExecuteTime": {
     "end_time": "2020-04-05T18:28:19.830117Z",
     "start_time": "2020-04-05T18:28:19.817873Z"
    }
   },
   "outputs": [],
   "source": [
    "tf_real = tf.convert_to_tensor(real.astype('float32'))\n",
    "t_real = torch.from_numpy(real.astype('float32'))\n",
    "\n",
    "if c1 is not None:\n",
    "    tf_fake_cat = tf.concat([tf_fakeact, c1_tf], axis=1)\n",
    "    tf_real_cat = tf.concat([tf_real, tf_c2], axis=1)\n",
    "    \n",
    "    t_fake_cat = torch.cat([t_fakeact, c1_t], dim=1)\n",
    "    t_real_cat = torch.cat([t_real, t_c2], dim=1)\n",
    "else:\n",
    "    tf_real_cat = tf_real\n",
    "    tf_fake_cat = tf_fake\n",
    "    \n",
    "    t_real_cat = t_real\n",
    "    t_fake_cat = t_fake"
   ]
  },
  {
   "cell_type": "code",
   "execution_count": 85,
   "metadata": {
    "ExecuteTime": {
     "end_time": "2020-04-05T18:28:20.064559Z",
     "start_time": "2020-04-05T18:28:20.022385Z"
    }
   },
   "outputs": [],
   "source": [
    "tf_y_fake = critic(tf_fake_cat, training=True)"
   ]
  },
  {
   "cell_type": "code",
   "execution_count": 154,
   "metadata": {
    "ExecuteTime": {
     "end_time": "2020-04-05T18:28:31.175532Z",
     "start_time": "2020-04-05T18:28:31.167118Z"
    }
   },
   "outputs": [],
   "source": [
    "t_y_fake = t_critic(t_fake_cat)"
   ]
  },
  {
   "cell_type": "code",
   "execution_count": 87,
   "metadata": {
    "ExecuteTime": {
     "end_time": "2020-04-05T17:15:08.080692Z",
     "start_time": "2020-04-05T17:15:08.073783Z"
    },
    "scrolled": true
   },
   "outputs": [
    {
     "data": {
      "text/plain": [
       "<tf.Tensor: shape=(50, 1), dtype=float32, numpy=\n",
       "array([[-0.01975694],\n",
       "       [-0.03521845],\n",
       "       [-0.02706474],\n",
       "       [-0.03040547],\n",
       "       [-0.01929938],\n",
       "       [-0.00618731],\n",
       "       [-0.04567712],\n",
       "       [-0.01789412],\n",
       "       [-0.00266659],\n",
       "       [-0.03911324],\n",
       "       [-0.00866736],\n",
       "       [-0.00561859],\n",
       "       [ 0.0058376 ],\n",
       "       [-0.01995858],\n",
       "       [-0.02778585],\n",
       "       [-0.01739288],\n",
       "       [-0.00269751],\n",
       "       [-0.005191  ],\n",
       "       [-0.01231703],\n",
       "       [-0.00492575],\n",
       "       [-0.02007423],\n",
       "       [-0.00905174],\n",
       "       [-0.00462009],\n",
       "       [-0.01143287],\n",
       "       [-0.00530553],\n",
       "       [-0.03975953],\n",
       "       [-0.02148912],\n",
       "       [ 0.00226568],\n",
       "       [ 0.01182339],\n",
       "       [-0.00433119],\n",
       "       [ 0.01670287],\n",
       "       [-0.01726979],\n",
       "       [-0.027688  ],\n",
       "       [-0.03154159],\n",
       "       [ 0.00285725],\n",
       "       [-0.02357289],\n",
       "       [-0.03529869],\n",
       "       [-0.00375376],\n",
       "       [-0.00500695],\n",
       "       [-0.0702887 ],\n",
       "       [-0.02352004],\n",
       "       [-0.03421547],\n",
       "       [-0.01750992],\n",
       "       [-0.00683172],\n",
       "       [-0.03552015],\n",
       "       [-0.02470814],\n",
       "       [-0.02625217],\n",
       "       [-0.00819324],\n",
       "       [-0.02957973],\n",
       "       [-0.01840782]], dtype=float32)>"
      ]
     },
     "execution_count": 87,
     "metadata": {},
     "output_type": "execute_result"
    }
   ],
   "source": [
    "tf_y_fake"
   ]
  },
  {
   "cell_type": "code",
   "execution_count": 88,
   "metadata": {
    "ExecuteTime": {
     "end_time": "2020-04-05T17:15:15.665387Z",
     "start_time": "2020-04-05T17:15:15.655501Z"
    },
    "scrolled": true
   },
   "outputs": [
    {
     "data": {
      "text/plain": [
       "tensor([[-0.0198],\n",
       "        [-0.0352],\n",
       "        [-0.0271],\n",
       "        [-0.0304],\n",
       "        [-0.0193],\n",
       "        [-0.0062],\n",
       "        [-0.0457],\n",
       "        [-0.0179],\n",
       "        [-0.0027],\n",
       "        [-0.0391],\n",
       "        [-0.0087],\n",
       "        [-0.0056],\n",
       "        [ 0.0058],\n",
       "        [-0.0200],\n",
       "        [-0.0278],\n",
       "        [-0.0174],\n",
       "        [-0.0027],\n",
       "        [-0.0052],\n",
       "        [-0.0123],\n",
       "        [-0.0049],\n",
       "        [-0.0201],\n",
       "        [-0.0091],\n",
       "        [-0.0046],\n",
       "        [-0.0114],\n",
       "        [-0.0053],\n",
       "        [-0.0398],\n",
       "        [-0.0215],\n",
       "        [ 0.0023],\n",
       "        [ 0.0118],\n",
       "        [-0.0043],\n",
       "        [ 0.0167],\n",
       "        [-0.0173],\n",
       "        [-0.0277],\n",
       "        [-0.0315],\n",
       "        [ 0.0029],\n",
       "        [-0.0236],\n",
       "        [-0.0353],\n",
       "        [-0.0038],\n",
       "        [-0.0050],\n",
       "        [-0.0703],\n",
       "        [-0.0235],\n",
       "        [-0.0342],\n",
       "        [-0.0175],\n",
       "        [-0.0068],\n",
       "        [-0.0355],\n",
       "        [-0.0247],\n",
       "        [-0.0263],\n",
       "        [-0.0082],\n",
       "        [-0.0296],\n",
       "        [-0.0184]], grad_fn=<AddmmBackward>)"
      ]
     },
     "execution_count": 88,
     "metadata": {},
     "output_type": "execute_result"
    }
   ],
   "source": [
    "t_y_fake"
   ]
  },
  {
   "cell_type": "code",
   "execution_count": 89,
   "metadata": {
    "ExecuteTime": {
     "end_time": "2020-04-05T17:15:35.892063Z",
     "start_time": "2020-04-05T17:15:35.883530Z"
    }
   },
   "outputs": [
    {
     "data": {
      "text/plain": [
       "<tf.Tensor: shape=(), dtype=float32, numpy=-0.017271483>"
      ]
     },
     "execution_count": 89,
     "metadata": {},
     "output_type": "execute_result"
    }
   ],
   "source": [
    "tf.reduce_mean(tf_y_fake)"
   ]
  },
  {
   "cell_type": "code",
   "execution_count": 90,
   "metadata": {
    "ExecuteTime": {
     "end_time": "2020-04-05T18:28:31.175532Z",
     "start_time": "2020-04-05T18:28:31.167118Z"
    }
   },
   "outputs": [
    {
     "data": {
      "text/plain": [
       "tensor(-0.0173, grad_fn=<MeanBackward0>)"
      ]
     },
     "execution_count": 90,
     "metadata": {},
     "output_type": "execute_result"
    }
   ],
   "source": [
    "torch.mean(t_y_fake)"
   ]
  },
  {
   "cell_type": "code",
   "execution_count": 91,
   "metadata": {
    "ExecuteTime": {
     "end_time": "2020-04-05T17:16:50.753464Z",
     "start_time": "2020-04-05T17:16:50.740524Z"
    }
   },
   "outputs": [],
   "source": [
    "tf_y_real = critic(tf_real_cat, training=True)"
   ]
  },
  {
   "cell_type": "code",
   "execution_count": 155,
   "metadata": {
    "ExecuteTime": {
     "end_time": "2020-04-05T18:28:46.246154Z",
     "start_time": "2020-04-05T18:28:46.233024Z"
    }
   },
   "outputs": [],
   "source": [
    "t_y_real = t_critic(t_real_cat)"
   ]
  },
  {
   "cell_type": "code",
   "execution_count": 93,
   "metadata": {
    "ExecuteTime": {
     "end_time": "2020-04-05T17:17:07.791889Z",
     "start_time": "2020-04-05T17:17:07.783887Z"
    }
   },
   "outputs": [
    {
     "data": {
      "text/plain": [
       "<tf.Tensor: shape=(), dtype=float32, numpy=0.007804858>"
      ]
     },
     "execution_count": 93,
     "metadata": {},
     "output_type": "execute_result"
    }
   ],
   "source": [
    "tf.reduce_mean(tf_y_real)"
   ]
  },
  {
   "cell_type": "code",
   "execution_count": 94,
   "metadata": {
    "ExecuteTime": {
     "end_time": "2020-04-05T17:17:11.414162Z",
     "start_time": "2020-04-05T17:17:11.406571Z"
    }
   },
   "outputs": [
    {
     "data": {
      "text/plain": [
       "tensor(0.0078, grad_fn=<MeanBackward0>)"
      ]
     },
     "execution_count": 94,
     "metadata": {},
     "output_type": "execute_result"
    }
   ],
   "source": [
    "torch.mean(t_y_real)"
   ]
  },
  {
   "cell_type": "code",
   "execution_count": 95,
   "metadata": {
    "ExecuteTime": {
     "end_time": "2020-04-05T18:29:03.732888Z",
     "start_time": "2020-04-05T18:29:03.714521Z"
    }
   },
   "outputs": [],
   "source": [
    "t_gp = t_critic.calc_gradient_penalty(t_real_cat, t_fake_cat)"
   ]
  },
  {
   "cell_type": "code",
   "execution_count": 96,
   "metadata": {
    "ExecuteTime": {
     "end_time": "2020-04-05T18:29:03.995264Z",
     "start_time": "2020-04-05T18:29:03.986720Z"
    }
   },
   "outputs": [
    {
     "data": {
      "text/plain": [
       "tensor(8.2349, grad_fn=<MulBackward0>)"
      ]
     },
     "execution_count": 96,
     "metadata": {},
     "output_type": "execute_result"
    }
   ],
   "source": [
    "t_gp"
   ]
  },
  {
   "cell_type": "code",
   "execution_count": 156,
   "metadata": {
    "ExecuteTime": {
     "end_time": "2020-04-05T18:29:08.110197Z",
     "start_time": "2020-04-05T18:29:08.100639Z"
    }
   },
   "outputs": [
    {
     "data": {
      "text/plain": [
       "tensor(0.0145, grad_fn=<NegBackward>)"
      ]
     },
     "execution_count": 156,
     "metadata": {},
     "output_type": "execute_result"
    }
   ],
   "source": [
    "t_loss_d = -(torch.mean(t_y_real) - torch.mean(t_y_fake))\n",
    "t_loss_d"
   ]
  },
  {
   "cell_type": "code",
   "execution_count": 98,
   "metadata": {
    "ExecuteTime": {
     "end_time": "2020-04-05T17:23:49.676648Z",
     "start_time": "2020-04-05T17:23:49.668944Z"
    }
   },
   "outputs": [
    {
     "data": {
      "text/plain": [
       "<tf.Tensor: shape=(), dtype=float32, numpy=-0.02507634>"
      ]
     },
     "execution_count": 98,
     "metadata": {},
     "output_type": "execute_result"
    }
   ],
   "source": [
    "tf_loss_d = -(tf.reduce_mean(tf_y_real) - tf.reduce_mean(tf_y_fake))\n",
    "tf_loss_d"
   ]
  },
  {
   "cell_type": "code",
   "execution_count": 99,
   "metadata": {
    "ExecuteTime": {
     "end_time": "2020-04-05T19:20:15.856558Z",
     "start_time": "2020-04-05T19:20:15.840387Z"
    }
   },
   "outputs": [],
   "source": [
    "from functools import partial\n",
    "def gradient_penalty(f, real, fake):\n",
    "    pac = 10\n",
    "    grad_penalty_lambda = 10\n",
    "    \"\"\"Calculates the gradient penalty loss for a batch of \"averaged\" samples.\n",
    "    In Improved WGANs, the 1-Lipschitz constraint is enforced by adding a term to the\n",
    "    loss function that penalizes the network if the gradient norm moves away from 1.\n",
    "    However, it is impossible to evaluate this function at all points in the input\n",
    "    space. The compromise used in the paper is to choose random points on the lines\n",
    "    between real and generated samples, and check the gradients at these points. Note\n",
    "    that it is the gradient w.r.t. the input averaged samples, not the weights of the\n",
    "    discriminator, that we're penalizing!\n",
    "    In order to evaluate the gradients, we must first run samples through the generator\n",
    "    and evaluate the loss. Then we get the gradients of the discriminator w.r.t. the\n",
    "    input averaged samples. The l2 norm and penalty can then be calculated for this\n",
    "    gradient.\n",
    "    \"\"\"\n",
    "    alpha = tf.random.uniform([real.shape[0] // pac, 1, 1], 0., 1.)\n",
    "    alpha = tf.tile(alpha, tf.constant([1, pac, real.shape[1]], tf.int32))\n",
    "    alpha = tf.reshape(alpha, [-1, real.shape[1]])\n",
    "\n",
    "    interpolates = alpha * real + ((1 - alpha) * fake)\n",
    "    with tf.GradientTape() as t:\n",
    "        t.watch(interpolates)\n",
    "        pred = f(interpolates)\n",
    "    grad = t.gradient(pred, [interpolates])[0]\n",
    "    grad = tf.reshape(grad, tf.constant([-1, pac * real.shape[1]], tf.int32))\n",
    "\n",
    "    slopes = tf.math.reduce_euclidean_norm(grad, axis=1)\n",
    "    gp = tf.reduce_mean((slopes - 1.) ** 2) * grad_penalty_lambda\n",
    "    return gp, grad"
   ]
  },
  {
   "cell_type": "code",
   "execution_count": 100,
   "metadata": {
    "ExecuteTime": {
     "end_time": "2020-04-05T17:26:35.980404Z",
     "start_time": "2020-04-05T17:26:35.942463Z"
    }
   },
   "outputs": [
    {
     "data": {
      "text/plain": [
       "(<tf.Tensor: shape=(), dtype=float32, numpy=8.223752>,\n",
       " <tf.Tensor: shape=(50, 2610), dtype=float32, numpy=\n",
       " array([[-0.00011831, -0.00010503, -0.00045025, ..., -0.00089978,\n",
       "          0.00249894,  0.00085695],\n",
       "        [ 0.00018913, -0.00010462,  0.00047823, ..., -0.00070234,\n",
       "         -0.00074406,  0.00106605],\n",
       "        [ 0.00093401,  0.00182756, -0.00192058, ..., -0.00076434,\n",
       "         -0.00104219, -0.00083124],\n",
       "        ...,\n",
       "        [-0.0005071 ,  0.00011405,  0.00043326, ..., -0.00031921,\n",
       "          0.00262569,  0.00088511],\n",
       "        [ 0.00094843, -0.00020754, -0.00157178, ..., -0.00065871,\n",
       "         -0.00173609, -0.00065214],\n",
       "        [ 0.00186859, -0.00023233,  0.00011694, ..., -0.00219127,\n",
       "         -0.00092699,  0.0004767 ]], dtype=float32)>)"
      ]
     },
     "execution_count": 100,
     "metadata": {},
     "output_type": "execute_result"
    }
   ],
   "source": [
    "tf_gp = gradient_penalty(partial(critic, training=True), tf_real_cat, tf_fake_cat)\n",
    "tf_gp"
   ]
  },
  {
   "cell_type": "code",
   "execution_count": 151,
   "metadata": {},
   "outputs": [],
   "source": [
    "with tf.GradientTape() as tape:\n",
    "    tf_gp = gradient_penalty(partial(critic, training=True), tf_real_cat, tf_fake_cat)\n",
    "    \n",
    "grad_gp = tape.gradient(tf_gp, critic.trainable_variables)"
   ]
  },
  {
   "cell_type": "code",
   "execution_count": 152,
   "metadata": {},
   "outputs": [
    {
     "data": {
      "text/plain": [
       "[<tf.Tensor: shape=(2610, 256), dtype=float32, numpy=\n",
       " array([[-1.0777783 ,  0.27094018,  0.9440666 , ..., -0.23659445,\n",
       "          0.2668177 ,  0.61972374],\n",
       "        [-1.0920055 ,  0.2741965 ,  0.9558313 , ..., -0.23971407,\n",
       "          0.26984993,  0.62760645],\n",
       "        [-1.0808088 ,  0.2720686 ,  0.9471559 , ..., -0.2374901 ,\n",
       "          0.2673103 ,  0.62190545],\n",
       "        ...,\n",
       "        [-1.0797341 ,  0.27165574,  0.9454136 , ..., -0.23714651,\n",
       "          0.26714626,  0.62146664],\n",
       "        [-1.0853784 ,  0.27275133,  0.9514272 , ..., -0.23838046,\n",
       "          0.26849732,  0.6234146 ],\n",
       "        [-1.0839667 ,  0.27244082,  0.9499051 , ..., -0.23819205,\n",
       "          0.26804805,  0.62320656]], dtype=float32)>,\n",
       " <tf.Tensor: shape=(256,), dtype=float32, numpy=\n",
       " array([0., 0., 0., 0., 0., 0., 0., 0., 0., 0., 0., 0., 0., 0., 0., 0., 0.,\n",
       "        0., 0., 0., 0., 0., 0., 0., 0., 0., 0., 0., 0., 0., 0., 0., 0., 0.,\n",
       "        0., 0., 0., 0., 0., 0., 0., 0., 0., 0., 0., 0., 0., 0., 0., 0., 0.,\n",
       "        0., 0., 0., 0., 0., 0., 0., 0., 0., 0., 0., 0., 0., 0., 0., 0., 0.,\n",
       "        0., 0., 0., 0., 0., 0., 0., 0., 0., 0., 0., 0., 0., 0., 0., 0., 0.,\n",
       "        0., 0., 0., 0., 0., 0., 0., 0., 0., 0., 0., 0., 0., 0., 0., 0., 0.,\n",
       "        0., 0., 0., 0., 0., 0., 0., 0., 0., 0., 0., 0., 0., 0., 0., 0., 0.,\n",
       "        0., 0., 0., 0., 0., 0., 0., 0., 0., 0., 0., 0., 0., 0., 0., 0., 0.,\n",
       "        0., 0., 0., 0., 0., 0., 0., 0., 0., 0., 0., 0., 0., 0., 0., 0., 0.,\n",
       "        0., 0., 0., 0., 0., 0., 0., 0., 0., 0., 0., 0., 0., 0., 0., 0., 0.,\n",
       "        0., 0., 0., 0., 0., 0., 0., 0., 0., 0., 0., 0., 0., 0., 0., 0., 0.,\n",
       "        0., 0., 0., 0., 0., 0., 0., 0., 0., 0., 0., 0., 0., 0., 0., 0., 0.,\n",
       "        0., 0., 0., 0., 0., 0., 0., 0., 0., 0., 0., 0., 0., 0., 0., 0., 0.,\n",
       "        0., 0., 0., 0., 0., 0., 0., 0., 0., 0., 0., 0., 0., 0., 0., 0., 0.,\n",
       "        0., 0., 0., 0., 0., 0., 0., 0., 0., 0., 0., 0., 0., 0., 0., 0., 0.,\n",
       "        0.], dtype=float32)>,\n",
       " <tf.Tensor: shape=(256, 256), dtype=float32, numpy=\n",
       " array([[-0.03070442, -0.03488244,  0.5275643 , ..., -0.2870517 ,\n",
       "          0.26311284, -0.53860635],\n",
       "        [ 0.04266883,  0.05087873, -0.62137216, ...,  0.43942037,\n",
       "         -0.3579237 ,  0.8257017 ],\n",
       "        [-0.0167565 , -0.01939697,  0.2580996 , ..., -0.15987591,\n",
       "          0.15785642, -0.3058465 ],\n",
       "        ...,\n",
       "        [-0.05426239, -0.06635765,  0.9135423 , ..., -0.55013746,\n",
       "          0.49807027, -1.1166253 ],\n",
       "        [ 0.04690201,  0.05660821, -0.82967   , ...,  0.46218687,\n",
       "         -0.4812994 ,  0.8916082 ],\n",
       "        [-0.00774776, -0.00861431,  0.11860702, ..., -0.06790512,\n",
       "          0.06543531, -0.1378288 ]], dtype=float32)>,\n",
       " <tf.Tensor: shape=(256,), dtype=float32, numpy=\n",
       " array([0., 0., 0., 0., 0., 0., 0., 0., 0., 0., 0., 0., 0., 0., 0., 0., 0.,\n",
       "        0., 0., 0., 0., 0., 0., 0., 0., 0., 0., 0., 0., 0., 0., 0., 0., 0.,\n",
       "        0., 0., 0., 0., 0., 0., 0., 0., 0., 0., 0., 0., 0., 0., 0., 0., 0.,\n",
       "        0., 0., 0., 0., 0., 0., 0., 0., 0., 0., 0., 0., 0., 0., 0., 0., 0.,\n",
       "        0., 0., 0., 0., 0., 0., 0., 0., 0., 0., 0., 0., 0., 0., 0., 0., 0.,\n",
       "        0., 0., 0., 0., 0., 0., 0., 0., 0., 0., 0., 0., 0., 0., 0., 0., 0.,\n",
       "        0., 0., 0., 0., 0., 0., 0., 0., 0., 0., 0., 0., 0., 0., 0., 0., 0.,\n",
       "        0., 0., 0., 0., 0., 0., 0., 0., 0., 0., 0., 0., 0., 0., 0., 0., 0.,\n",
       "        0., 0., 0., 0., 0., 0., 0., 0., 0., 0., 0., 0., 0., 0., 0., 0., 0.,\n",
       "        0., 0., 0., 0., 0., 0., 0., 0., 0., 0., 0., 0., 0., 0., 0., 0., 0.,\n",
       "        0., 0., 0., 0., 0., 0., 0., 0., 0., 0., 0., 0., 0., 0., 0., 0., 0.,\n",
       "        0., 0., 0., 0., 0., 0., 0., 0., 0., 0., 0., 0., 0., 0., 0., 0., 0.,\n",
       "        0., 0., 0., 0., 0., 0., 0., 0., 0., 0., 0., 0., 0., 0., 0., 0., 0.,\n",
       "        0., 0., 0., 0., 0., 0., 0., 0., 0., 0., 0., 0., 0., 0., 0., 0., 0.,\n",
       "        0., 0., 0., 0., 0., 0., 0., 0., 0., 0., 0., 0., 0., 0., 0., 0., 0.,\n",
       "        0.], dtype=float32)>,\n",
       " <tf.Tensor: shape=(256, 1), dtype=float32, numpy=\n",
       " array([[-1.26026087e+01],\n",
       "        [ 2.53283176e+01],\n",
       "        [-1.60551238e+00],\n",
       "        [ 9.07966423e+00],\n",
       "        [ 3.69331098e+00],\n",
       "        [ 4.91915894e+00],\n",
       "        [ 2.95994186e+01],\n",
       "        [ 6.07859993e+00],\n",
       "        [ 8.18906498e+00],\n",
       "        [ 2.73849583e+00],\n",
       "        [-3.54987812e+00],\n",
       "        [ 9.01066840e-01],\n",
       "        [ 1.33604574e+01],\n",
       "        [ 3.37599277e+00],\n",
       "        [-9.79318905e+00],\n",
       "        [-4.03361464e+00],\n",
       "        [-1.67603188e+01],\n",
       "        [-1.08937807e+01],\n",
       "        [-3.49497843e+00],\n",
       "        [-5.46329200e-01],\n",
       "        [ 1.87426478e-01],\n",
       "        [-2.18863940e+00],\n",
       "        [ 1.31951370e+01],\n",
       "        [-4.77263021e+00],\n",
       "        [-1.13981575e-01],\n",
       "        [ 5.88941336e-01],\n",
       "        [ 4.95811701e-01],\n",
       "        [ 8.07064697e-02],\n",
       "        [-6.93186855e+00],\n",
       "        [-3.97524762e+00],\n",
       "        [ 3.59082055e+00],\n",
       "        [ 1.54059196e+00],\n",
       "        [ 7.23921728e+00],\n",
       "        [-9.16399860e+00],\n",
       "        [ 9.92370510e+00],\n",
       "        [-2.19615769e+00],\n",
       "        [-1.02155268e+00],\n",
       "        [-4.40646696e+00],\n",
       "        [-5.98383024e-02],\n",
       "        [ 3.86599803e+00],\n",
       "        [-9.11785507e+00],\n",
       "        [-1.04268064e+01],\n",
       "        [ 1.31972609e+01],\n",
       "        [ 7.93636751e+00],\n",
       "        [ 1.10420680e+00],\n",
       "        [ 5.71079779e+00],\n",
       "        [ 6.55232811e+00],\n",
       "        [-1.34986839e+01],\n",
       "        [-4.05214024e+00],\n",
       "        [-6.04222178e-01],\n",
       "        [ 2.95229816e+00],\n",
       "        [-9.92114353e+00],\n",
       "        [ 7.52894306e+00],\n",
       "        [-4.73751688e+00],\n",
       "        [ 3.71327686e+00],\n",
       "        [ 3.25296831e+00],\n",
       "        [ 5.63207006e+00],\n",
       "        [ 2.13554454e+00],\n",
       "        [-3.66055489e+00],\n",
       "        [ 8.89508486e-01],\n",
       "        [-1.92361176e-02],\n",
       "        [-6.13360763e-01],\n",
       "        [ 7.59939730e-01],\n",
       "        [-6.00170326e+00],\n",
       "        [ 8.91739845e-01],\n",
       "        [-2.27836275e+00],\n",
       "        [-6.16645622e+00],\n",
       "        [ 1.86702526e+00],\n",
       "        [-3.76943302e+00],\n",
       "        [ 1.91072130e+00],\n",
       "        [ 9.09985900e-01],\n",
       "        [-4.40800935e-01],\n",
       "        [ 6.89334981e-03],\n",
       "        [ 4.65760899e+00],\n",
       "        [-1.51184349e+01],\n",
       "        [ 4.39375019e+00],\n",
       "        [ 5.90622187e+00],\n",
       "        [ 1.26673574e+01],\n",
       "        [-1.32457125e+00],\n",
       "        [-3.40714908e+00],\n",
       "        [-4.87220716e+00],\n",
       "        [ 2.28851843e+00],\n",
       "        [-1.80903518e+00],\n",
       "        [-6.32481050e+00],\n",
       "        [ 7.49011564e+00],\n",
       "        [-6.35443306e+00],\n",
       "        [ 7.50230253e-01],\n",
       "        [ 1.73277950e+01],\n",
       "        [-3.51375270e+00],\n",
       "        [-1.18614368e+01],\n",
       "        [ 1.20214999e+00],\n",
       "        [ 9.18267816e-02],\n",
       "        [ 7.54059839e+00],\n",
       "        [ 3.34038734e+00],\n",
       "        [-5.12449217e+00],\n",
       "        [ 1.50576105e+01],\n",
       "        [ 6.69053316e+00],\n",
       "        [ 6.56624269e+00],\n",
       "        [ 2.23085135e-01],\n",
       "        [ 4.65107298e+00],\n",
       "        [ 8.95449352e+00],\n",
       "        [ 8.62265944e-01],\n",
       "        [-2.01055622e+01],\n",
       "        [-3.43649209e-01],\n",
       "        [-4.14359301e-01],\n",
       "        [ 9.72924888e-01],\n",
       "        [ 9.11569595e-01],\n",
       "        [ 1.09452605e+00],\n",
       "        [-6.09849930e-01],\n",
       "        [-8.27459717e+00],\n",
       "        [-2.43644071e+00],\n",
       "        [ 4.70343971e+00],\n",
       "        [ 1.23540764e+01],\n",
       "        [-5.33255005e+00],\n",
       "        [-6.61851931e+00],\n",
       "        [ 5.23563910e+00],\n",
       "        [-2.45670080e+00],\n",
       "        [ 3.88166040e-01],\n",
       "        [-1.37631330e+01],\n",
       "        [ 2.28445148e+01],\n",
       "        [ 6.11668587e-01],\n",
       "        [-1.63183022e+00],\n",
       "        [ 2.04764515e-01],\n",
       "        [ 8.48015594e+00],\n",
       "        [ 1.17470503e+00],\n",
       "        [-2.70488143e-01],\n",
       "        [ 7.90253699e-01],\n",
       "        [ 4.28508854e+00],\n",
       "        [-1.92403889e+00],\n",
       "        [-3.77995670e-01],\n",
       "        [ 3.27465951e-01],\n",
       "        [-6.55451119e-02],\n",
       "        [ 2.18684864e+01],\n",
       "        [-1.98906469e+00],\n",
       "        [ 2.58861589e+00],\n",
       "        [-4.95047140e+00],\n",
       "        [-9.40602016e+00],\n",
       "        [-4.28852654e+00],\n",
       "        [-1.38586798e+01],\n",
       "        [ 8.66088808e-01],\n",
       "        [-9.75934029e-01],\n",
       "        [-2.14932179e+00],\n",
       "        [ 8.91067600e+00],\n",
       "        [ 3.52791524e+00],\n",
       "        [-4.93280888e+00],\n",
       "        [ 7.21675491e+00],\n",
       "        [ 1.40375781e+00],\n",
       "        [-1.19810379e+00],\n",
       "        [-8.11061573e+00],\n",
       "        [ 1.65683708e+01],\n",
       "        [-7.53613234e-01],\n",
       "        [ 1.52100778e+00],\n",
       "        [-5.21290970e+00],\n",
       "        [-5.88933086e+00],\n",
       "        [-8.94704819e+00],\n",
       "        [ 6.40608692e+00],\n",
       "        [ 3.65047383e+00],\n",
       "        [ 4.72074366e+00],\n",
       "        [ 6.21161842e+00],\n",
       "        [ 3.75111914e+00],\n",
       "        [-4.19314766e+00],\n",
       "        [ 2.47852898e+00],\n",
       "        [ 3.61866856e+00],\n",
       "        [-3.55303431e+00],\n",
       "        [-2.45106864e+00],\n",
       "        [-3.15562725e-01],\n",
       "        [-2.20745564e+00],\n",
       "        [-1.73475659e+00],\n",
       "        [-3.56451964e+00],\n",
       "        [ 2.03706071e-01],\n",
       "        [-1.08150587e+01],\n",
       "        [ 9.61146259e+00],\n",
       "        [-5.88245344e+00],\n",
       "        [ 7.04488802e+00],\n",
       "        [ 6.62549448e+00],\n",
       "        [ 2.65353279e+01],\n",
       "        [ 2.25047493e+00],\n",
       "        [ 2.92923421e-01],\n",
       "        [ 3.17560554e+00],\n",
       "        [-3.84064150e+00],\n",
       "        [-2.16373968e+00],\n",
       "        [-5.21187878e+00],\n",
       "        [ 2.17269468e+00],\n",
       "        [ 6.34330416e+00],\n",
       "        [-1.88560796e+00],\n",
       "        [-8.86238575e-01],\n",
       "        [-3.64054060e+00],\n",
       "        [ 1.12480605e+00],\n",
       "        [ 1.34951508e+00],\n",
       "        [-6.03464031e+00],\n",
       "        [ 6.48038340e+00],\n",
       "        [ 1.16733112e+01],\n",
       "        [-4.17641461e-01],\n",
       "        [ 3.65605688e+00],\n",
       "        [ 4.46405840e+00],\n",
       "        [ 8.02876282e+00],\n",
       "        [ 6.87152338e+00],\n",
       "        [-3.00376725e+00],\n",
       "        [-1.03115201e+00],\n",
       "        [-1.46197528e-01],\n",
       "        [-9.20698494e-02],\n",
       "        [ 4.90125358e-01],\n",
       "        [ 1.37275763e+01],\n",
       "        [-2.33937073e+00],\n",
       "        [ 1.78505707e+01],\n",
       "        [ 6.46694231e+00],\n",
       "        [ 5.89249182e+00],\n",
       "        [-4.16732788e+00],\n",
       "        [ 1.78738534e-01],\n",
       "        [-3.27832127e+00],\n",
       "        [ 1.73070297e+01],\n",
       "        [-4.53973198e+00],\n",
       "        [-8.15696001e-01],\n",
       "        [-9.12223339e-01],\n",
       "        [-1.07387676e+01],\n",
       "        [ 1.10428691e+00],\n",
       "        [-9.60781479e+00],\n",
       "        [-1.97995639e+00],\n",
       "        [ 8.93561459e+00],\n",
       "        [ 5.69694376e+00],\n",
       "        [ 2.48537278e+00],\n",
       "        [ 3.76327127e-01],\n",
       "        [ 4.83381081e+00],\n",
       "        [-3.45450187e+00],\n",
       "        [ 3.49106622e+00],\n",
       "        [-1.40785742e+00],\n",
       "        [-5.71820593e+00],\n",
       "        [ 6.66913700e+00],\n",
       "        [ 1.18500507e+00],\n",
       "        [-1.34088933e+00],\n",
       "        [ 1.22369432e+00],\n",
       "        [-2.86178732e+00],\n",
       "        [-5.24258947e+00],\n",
       "        [ 4.10594177e+00],\n",
       "        [-5.63532209e+00],\n",
       "        [ 7.52163982e+00],\n",
       "        [-1.25276953e-01],\n",
       "        [-1.18607407e+01],\n",
       "        [-2.77136016e+00],\n",
       "        [-1.25684083e+00],\n",
       "        [-1.22720346e+01],\n",
       "        [ 3.63901401e+00],\n",
       "        [ 3.58011651e+00],\n",
       "        [-5.72389174e+00],\n",
       "        [-1.17396212e+00],\n",
       "        [-3.25380898e+00],\n",
       "        [-1.58471596e+00],\n",
       "        [ 2.24117804e+00],\n",
       "        [ 1.87026393e+00],\n",
       "        [ 3.08838582e+00],\n",
       "        [ 3.38465881e+00],\n",
       "        [-5.22564173e+00],\n",
       "        [-4.64709187e+00],\n",
       "        [ 6.49760151e+00],\n",
       "        [-1.86250055e+00],\n",
       "        [ 5.29296112e+00]], dtype=float32)>,\n",
       " None]"
      ]
     },
     "execution_count": 152,
     "metadata": {},
     "output_type": "execute_result"
    }
   ],
   "source": [
    "grad_gp"
   ]
  },
  {
   "cell_type": "code",
   "execution_count": 354,
   "metadata": {
    "ExecuteTime": {
     "end_time": "2020-04-05T18:04:13.983742Z",
     "start_time": "2020-04-05T18:04:13.959451Z"
    },
    "scrolled": true
   },
   "outputs": [
    {
     "data": {
      "text/plain": [
       "{'defaults': {'lr': 0.0002,\n",
       "  'betas': (0.5, 0.9),\n",
       "  'eps': 1e-08,\n",
       "  'weight_decay': 0,\n",
       "  'amsgrad': False},\n",
       " 'state': defaultdict(dict, {}),\n",
       " 'param_groups': [{'params': [Parameter containing:\n",
       "    tensor([[ 0.0163,  0.0124, -0.0163,  ..., -0.0004,  0.0146, -0.0106],\n",
       "            [-0.0192,  0.0188,  0.0155,  ...,  0.0120, -0.0132, -0.0184],\n",
       "            [-0.0131,  0.0109, -0.0061,  ...,  0.0023,  0.0022,  0.0137],\n",
       "            ...,\n",
       "            [-0.0108, -0.0129, -0.0170,  ..., -0.0147,  0.0042, -0.0042],\n",
       "            [ 0.0120, -0.0030, -0.0169,  ...,  0.0191,  0.0042,  0.0146],\n",
       "            [ 0.0049,  0.0007,  0.0106,  ...,  0.0003,  0.0150, -0.0084]],\n",
       "           requires_grad=True), Parameter containing:\n",
       "    tensor([-1.3351e-02, -1.0941e-02, -6.7249e-03, -1.3250e-03,  1.1146e-02,\n",
       "             1.8301e-02, -1.4587e-02,  1.1343e-02, -2.4589e-04,  4.6031e-03,\n",
       "            -1.0602e-02, -1.2261e-02,  8.8981e-03, -4.9186e-03,  1.1596e-02,\n",
       "             8.6489e-04, -4.8088e-03, -3.2151e-03, -1.3509e-02, -8.2788e-03,\n",
       "             1.0803e-02, -3.2467e-03, -3.2161e-04,  1.5575e-02, -2.2373e-03,\n",
       "            -3.8650e-03, -1.8441e-02, -1.3485e-02,  7.1765e-03, -6.5641e-03,\n",
       "             1.0354e-02, -1.5981e-02,  2.0372e-03,  8.5229e-05,  8.3337e-03,\n",
       "            -1.7201e-02, -1.3827e-02, -1.5854e-02,  4.3468e-03, -1.8103e-02,\n",
       "             1.9361e-02, -6.8377e-03,  8.1602e-06, -1.2811e-03,  1.5956e-02,\n",
       "            -8.0711e-03, -5.6006e-03, -4.1001e-03,  1.3957e-02, -2.7761e-03,\n",
       "            -9.0524e-03, -1.1170e-02, -1.8470e-02, -1.0462e-02,  4.2619e-03,\n",
       "            -2.0413e-03,  1.5736e-02,  6.9779e-03,  1.0657e-02,  1.2539e-02,\n",
       "            -1.3701e-02,  6.5904e-04,  8.3345e-03, -1.6208e-02, -1.4159e-02,\n",
       "             1.9330e-02,  7.2940e-03,  5.5169e-03, -6.5444e-03,  1.5743e-02,\n",
       "            -1.6322e-02, -5.3820e-03, -5.8935e-03, -1.8126e-02, -8.0416e-03,\n",
       "             9.2710e-03,  5.9175e-03,  1.1171e-02, -1.6587e-02, -9.4858e-03,\n",
       "            -8.3987e-03, -6.6339e-03,  6.7379e-04,  4.5793e-03,  5.1403e-04,\n",
       "            -1.7989e-04,  1.7788e-02, -9.1642e-03, -1.9461e-04, -1.2078e-02,\n",
       "             2.7284e-03,  1.3790e-02,  1.5245e-03, -6.5975e-04, -6.6997e-04,\n",
       "             1.6106e-02, -1.2317e-02,  4.8542e-03,  1.2325e-02, -9.1813e-03,\n",
       "            -1.5945e-02, -1.5993e-03, -1.4926e-02, -4.7091e-03, -7.1346e-03,\n",
       "             1.6377e-02, -5.1371e-03,  1.4918e-02,  1.1372e-02, -5.4805e-03,\n",
       "             1.8803e-02, -8.9381e-03, -4.5692e-03, -1.2824e-02, -1.1614e-02,\n",
       "            -9.3113e-03,  9.3872e-03, -5.4867e-03, -1.6009e-02, -4.5633e-03,\n",
       "             1.3476e-02, -1.7757e-02,  1.3624e-02, -1.8564e-02,  3.2713e-03,\n",
       "             7.5689e-03, -1.8335e-02,  1.3404e-02, -1.6526e-02,  8.7409e-03,\n",
       "            -7.7006e-04, -1.6802e-02, -9.3725e-04,  2.1383e-06,  1.7095e-02,\n",
       "            -7.6797e-03,  9.2312e-03, -3.8823e-03,  1.0025e-02,  1.9302e-02,\n",
       "            -1.8392e-02,  1.4813e-02, -5.0695e-04, -1.9256e-02,  1.9373e-02,\n",
       "             6.0255e-03, -1.3309e-02, -6.5463e-03,  2.0671e-03,  7.8434e-03,\n",
       "            -1.1517e-02,  1.3008e-02,  2.1176e-03,  7.8258e-03,  9.4403e-03,\n",
       "            -1.1006e-02,  6.9180e-03,  1.2474e-02,  1.1241e-02, -1.0668e-02,\n",
       "             1.4781e-02,  1.6370e-02, -1.8242e-02,  1.1142e-02, -1.0132e-02,\n",
       "            -6.3048e-03,  1.4765e-02,  3.1663e-03,  1.9521e-02,  2.4251e-03,\n",
       "             1.1202e-02, -1.7370e-02, -9.2590e-05, -7.7043e-03,  1.4096e-02,\n",
       "             1.2554e-02, -4.9859e-04,  1.6841e-02, -1.3133e-03, -2.0970e-03,\n",
       "            -1.8757e-02, -1.5062e-02, -1.4043e-02, -4.8982e-03,  6.4999e-03,\n",
       "             5.4114e-03, -8.9030e-03,  4.1016e-03, -3.0237e-03, -1.6941e-02,\n",
       "             6.7637e-03,  9.4112e-03,  1.0343e-03,  7.9577e-03, -1.5792e-03,\n",
       "            -5.4582e-03,  1.5004e-02,  5.2925e-03, -1.3587e-02,  8.4091e-03,\n",
       "             1.2384e-02,  1.8948e-02, -1.5317e-02,  1.9399e-02,  3.5958e-03,\n",
       "             1.3318e-02,  1.0419e-02,  1.7501e-02, -9.1719e-03, -1.9445e-02,\n",
       "             1.3743e-02,  2.7858e-03, -4.2635e-04,  4.8019e-03,  5.7116e-05,\n",
       "            -3.5964e-03,  3.0729e-04, -7.8736e-03,  1.7157e-03, -1.4307e-02,\n",
       "             1.1577e-02, -1.6213e-02, -1.5274e-02, -3.2969e-03, -6.8332e-03,\n",
       "            -1.6451e-02,  1.2119e-02,  6.2459e-03, -1.3838e-02, -1.9380e-02,\n",
       "            -1.7679e-02,  1.1958e-02,  6.7096e-03, -1.1294e-02,  1.7406e-02,\n",
       "            -7.6122e-03, -1.6011e-02, -1.1668e-02,  1.1925e-02, -1.1731e-02,\n",
       "            -1.1286e-02,  1.8008e-02, -9.8283e-03,  1.2989e-03, -5.8838e-03,\n",
       "             9.6968e-03,  4.7737e-03,  7.7434e-03,  1.3042e-02,  1.0082e-03,\n",
       "            -6.0712e-03, -1.0598e-02,  1.6773e-02,  1.5750e-02, -1.6556e-02,\n",
       "             1.6182e-02], requires_grad=True), Parameter containing:\n",
       "    tensor([[ 0.0003,  0.0201, -0.0474,  ..., -0.0204,  0.0049, -0.0034],\n",
       "            [ 0.0296,  0.0339, -0.0148,  ...,  0.0498, -0.0179, -0.0237],\n",
       "            [-0.0110,  0.0374,  0.0180,  ...,  0.0071, -0.0056,  0.0403],\n",
       "            ...,\n",
       "            [ 0.0084, -0.0510,  0.0584,  ..., -0.0415, -0.0022,  0.0622],\n",
       "            [-0.0092, -0.0348,  0.0130,  ...,  0.0250,  0.0543, -0.0066],\n",
       "            [-0.0114, -0.0057, -0.0397,  ...,  0.0469,  0.0274,  0.0098]],\n",
       "           requires_grad=True), Parameter containing:\n",
       "    tensor([-5.6844e-02, -5.8808e-02,  4.1560e-02,  5.7925e-02, -4.1479e-02,\n",
       "            -6.1949e-02, -2.0645e-02, -5.5568e-02, -2.3475e-02, -5.6853e-02,\n",
       "            -3.1244e-02, -5.2394e-02, -6.1090e-02, -2.8366e-02,  8.7896e-03,\n",
       "             5.5621e-02, -4.0300e-02, -3.1717e-02,  8.4240e-03, -3.1474e-02,\n",
       "            -2.5566e-02,  2.7376e-02, -3.8632e-02,  8.6712e-03,  4.6569e-02,\n",
       "            -4.9616e-03,  4.1001e-02, -4.2979e-02,  2.4246e-02, -6.0745e-02,\n",
       "            -4.4465e-02, -5.7201e-02,  5.0052e-02, -5.5665e-02,  5.1915e-02,\n",
       "            -4.0124e-02,  2.5480e-02,  8.8852e-03,  1.4449e-02, -5.0985e-02,\n",
       "            -1.4252e-02,  3.6344e-02,  5.2467e-02, -3.2398e-02, -5.9925e-03,\n",
       "             5.4774e-02, -3.0637e-02,  2.5610e-02,  9.4082e-03,  2.1313e-02,\n",
       "            -2.3141e-02,  5.6618e-02, -5.0650e-02,  2.0479e-02,  2.5818e-02,\n",
       "             5.0924e-02, -2.2642e-02,  3.6620e-02, -5.7881e-02,  5.6650e-02,\n",
       "            -4.0965e-02, -4.5400e-02,  2.3687e-02,  5.9289e-02, -4.4550e-02,\n",
       "            -4.8334e-02, -5.9770e-02, -3.8364e-02,  5.8136e-02, -1.0122e-03,\n",
       "            -2.9308e-02, -4.6645e-02,  4.0943e-02, -4.1944e-02, -3.9082e-02,\n",
       "            -1.1553e-02,  4.8979e-02, -2.5324e-02,  4.0275e-02, -4.6082e-02,\n",
       "            -3.1290e-02,  2.6971e-02, -2.4298e-02,  4.9059e-02, -1.2891e-02,\n",
       "            -5.3462e-02, -6.1062e-03,  5.8012e-02,  2.0557e-02, -2.6827e-02,\n",
       "            -5.1581e-02, -9.4830e-03, -3.4642e-02,  2.2994e-02,  1.4159e-02,\n",
       "            -4.4173e-02,  2.8501e-02,  2.7303e-02, -3.3115e-02,  3.7731e-02,\n",
       "            -2.0135e-02, -4.1978e-02, -4.3625e-02, -5.9207e-02,  3.1274e-02,\n",
       "            -4.0485e-02,  4.0392e-02, -4.2044e-02,  3.8081e-02,  3.0001e-02,\n",
       "             2.5437e-02, -4.9588e-02, -4.7362e-02, -3.2326e-02,  4.7573e-02,\n",
       "            -4.6762e-02,  4.3002e-02, -7.1304e-03, -1.2888e-02,  2.8189e-02,\n",
       "             4.6960e-02,  2.9540e-02,  4.9375e-02, -1.6095e-02, -9.8880e-03,\n",
       "             5.0000e-02, -2.6187e-02, -4.3645e-02, -4.8748e-02, -2.9557e-02,\n",
       "            -3.0988e-02,  1.5964e-02, -3.3081e-02,  5.8959e-02,  3.3829e-03,\n",
       "             6.2087e-02, -7.8637e-03,  3.2017e-02, -1.1411e-02, -2.5997e-02,\n",
       "            -3.5283e-02,  4.5240e-02,  3.7585e-02, -5.3715e-02, -2.5705e-02,\n",
       "             6.0353e-02,  4.0463e-03,  1.6635e-02,  3.6246e-02,  2.3296e-02,\n",
       "            -3.9316e-02, -3.8265e-02,  1.3854e-02, -4.9191e-02,  2.7497e-02,\n",
       "            -4.6485e-03, -3.4554e-02,  5.8771e-03, -5.8281e-03, -3.9328e-02,\n",
       "            -5.5180e-02, -2.9585e-02,  5.0413e-02, -1.9885e-02, -6.2027e-03,\n",
       "            -1.9284e-02, -4.8960e-02,  1.4761e-02, -2.0511e-02, -2.0452e-02,\n",
       "            -1.0912e-02, -2.9334e-02, -1.4591e-02, -3.1610e-02,  1.3860e-02,\n",
       "            -6.0827e-02,  3.8136e-02,  1.1488e-02, -3.3359e-02,  4.8385e-02,\n",
       "            -2.5685e-02, -2.8612e-02,  8.5412e-03, -2.2860e-02, -1.9605e-02,\n",
       "            -6.7354e-03, -8.4297e-04, -2.7555e-02, -5.9848e-02, -4.9034e-02,\n",
       "             1.0252e-02,  1.0811e-02,  4.3746e-02, -3.5251e-02, -2.5470e-02,\n",
       "             1.4313e-02, -3.5902e-02,  5.0161e-02, -4.2474e-02, -2.2453e-02,\n",
       "             1.3019e-02, -2.4768e-02, -4.4643e-02,  2.6449e-02, -3.9981e-02,\n",
       "             2.5388e-02,  4.3488e-02, -3.5063e-02, -7.6046e-03, -2.0420e-02,\n",
       "             1.9212e-02, -5.9712e-02,  1.7155e-02, -2.4465e-02, -5.4052e-02,\n",
       "            -5.7203e-02,  1.4086e-02, -5.8411e-02,  2.6272e-02, -4.5892e-02,\n",
       "             3.4958e-02, -1.3903e-02, -3.7648e-02, -4.8765e-02, -1.4906e-02,\n",
       "            -3.0746e-02,  8.4434e-03, -1.0328e-02,  1.2553e-02,  2.4130e-02,\n",
       "            -3.5610e-02, -1.0237e-05, -6.1928e-02, -6.5578e-03, -2.1782e-02,\n",
       "            -8.2136e-03, -5.2874e-02,  4.8676e-02, -4.6341e-02,  5.7458e-02,\n",
       "             5.3557e-02,  6.2204e-02,  1.9928e-02, -6.1945e-03,  2.9511e-02,\n",
       "             2.0592e-02,  1.3944e-03, -3.3197e-02,  4.3633e-02, -5.9064e-02,\n",
       "             3.3257e-02, -3.5781e-02,  2.8212e-02, -4.3468e-02, -1.8236e-02,\n",
       "             5.4320e-02], requires_grad=True), Parameter containing:\n",
       "    tensor([[-0.0386,  0.0511, -0.0491,  0.0518, -0.0051,  0.0229, -0.0333, -0.0506,\n",
       "             -0.0196, -0.0484, -0.0137, -0.0085, -0.0349, -0.0142, -0.0049,  0.0311,\n",
       "             -0.0060,  0.0151,  0.0445,  0.0073, -0.0522, -0.0380,  0.0188,  0.0045,\n",
       "             -0.0405,  0.0133,  0.0335,  0.0104, -0.0526,  0.0095,  0.0192,  0.0621,\n",
       "             -0.0378, -0.0500,  0.0214, -0.0095, -0.0089,  0.0316,  0.0060, -0.0095,\n",
       "              0.0187,  0.0195, -0.0465,  0.0284,  0.0164, -0.0561, -0.0147, -0.0216,\n",
       "              0.0474, -0.0481,  0.0159, -0.0141, -0.0521, -0.0268,  0.0257,  0.0565,\n",
       "             -0.0412, -0.0373, -0.0134,  0.0007, -0.0296, -0.0604,  0.0494, -0.0454,\n",
       "              0.0141,  0.0414,  0.0262,  0.0254,  0.0566,  0.0543,  0.0122, -0.0290,\n",
       "              0.0110, -0.0372,  0.0192, -0.0095,  0.0316, -0.0556,  0.0494,  0.0393,\n",
       "             -0.0469, -0.0219,  0.0544, -0.0222, -0.0084, -0.0532,  0.0568,  0.0090,\n",
       "             -0.0309,  0.0431,  0.0098,  0.0064,  0.0057, -0.0519, -0.0004, -0.0609,\n",
       "             -0.0209,  0.0106, -0.0523, -0.0201, -0.0595, -0.0437,  0.0310, -0.0408,\n",
       "              0.0304,  0.0045, -0.0532, -0.0218, -0.0120,  0.0315,  0.0265,  0.0549,\n",
       "             -0.0288, -0.0325,  0.0452,  0.0246, -0.0026,  0.0282,  0.0259, -0.0438,\n",
       "              0.0120, -0.0023,  0.0618,  0.0095,  0.0318, -0.0039,  0.0019, -0.0462,\n",
       "              0.0094,  0.0619,  0.0615,  0.0401, -0.0095,  0.0566, -0.0295,  0.0330,\n",
       "             -0.0174,  0.0358,  0.0422, -0.0518, -0.0513, -0.0093,  0.0085,  0.0522,\n",
       "             -0.0479,  0.0379, -0.0067,  0.0460,  0.0234,  0.0217, -0.0513, -0.0151,\n",
       "             -0.0314, -0.0207, -0.0274,  0.0152, -0.0054, -0.0056,  0.0277,  0.0425,\n",
       "             -0.0399, -0.0389,  0.0055,  0.0475,  0.0088, -0.0562,  0.0056,  0.0405,\n",
       "              0.0468,  0.0373, -0.0164,  0.0421, -0.0232, -0.0018,  0.0133,  0.0516,\n",
       "              0.0585, -0.0528, -0.0004,  0.0577,  0.0095, -0.0603,  0.0263, -0.0109,\n",
       "             -0.0085, -0.0235, -0.0417,  0.0507,  0.0520,  0.0462,  0.0320,  0.0481,\n",
       "              0.0407, -0.0096,  0.0107,  0.0040, -0.0345,  0.0090, -0.0303,  0.0560,\n",
       "             -0.0605,  0.0014, -0.0612, -0.0501,  0.0355,  0.0025,  0.0222,  0.0483,\n",
       "              0.0468, -0.0144, -0.0350, -0.0166,  0.0610, -0.0464,  0.0308,  0.0483,\n",
       "             -0.0407, -0.0496, -0.0217, -0.0542, -0.0522,  0.0449,  0.0067, -0.0249,\n",
       "              0.0384, -0.0237,  0.0266, -0.0226, -0.0141, -0.0601,  0.0356,  0.0251,\n",
       "              0.0228,  0.0017,  0.0504,  0.0155, -0.0129,  0.0470,  0.0241,  0.0139,\n",
       "             -0.0461, -0.0113,  0.0220, -0.0128, -0.0083,  0.0178,  0.0134, -0.0561,\n",
       "             -0.0542, -0.0442,  0.0114, -0.0320, -0.0332,  0.0552,  0.0191, -0.0102]],\n",
       "           requires_grad=True), Parameter containing:\n",
       "    tensor([-0.0032], requires_grad=True)],\n",
       "   'lr': 0.0002,\n",
       "   'betas': (0.5, 0.9),\n",
       "   'eps': 1e-08,\n",
       "   'weight_decay': 0,\n",
       "   'amsgrad': False}]}"
      ]
     },
     "execution_count": 354,
     "metadata": {},
     "output_type": "execute_result"
    }
   ],
   "source": [
    "optimizerD.zero_grad()\n",
    "optimizerD.__dict__"
   ]
  },
  {
   "cell_type": "code",
   "execution_count": 101,
   "metadata": {
    "ExecuteTime": {
     "end_time": "2020-04-05T18:04:17.355729Z",
     "start_time": "2020-04-05T18:04:17.307901Z"
    }
   },
   "outputs": [
    {
     "data": {
      "text/plain": [
       "tensor(8.2349, grad_fn=<MulBackward0>)"
      ]
     },
     "execution_count": 101,
     "metadata": {},
     "output_type": "execute_result"
    }
   ],
   "source": [
    "t_gp.backward(retain_graph=True)\n",
    "t_gp"
   ]
  },
  {
   "cell_type": "code",
   "execution_count": 102,
   "metadata": {},
   "outputs": [
    {
     "data": {
      "text/plain": [
       "tensor([[ 8.1824e-04, -2.7391e-04, -6.2475e-04,  ..., -2.1064e-04,\n",
       "          4.2082e-04, -3.5965e-04],\n",
       "        [ 1.7934e-03,  5.3336e-04,  2.5052e-04,  ..., -2.9064e-04,\n",
       "          8.8117e-04, -2.0011e-04],\n",
       "        [-1.2459e-03, -3.8332e-05,  1.0386e-04,  ...,  6.1702e-04,\n",
       "         -8.9989e-04,  4.9087e-04],\n",
       "        ...,\n",
       "        [ 4.1450e-03,  4.3000e-04, -7.2197e-04,  ..., -1.8750e-03,\n",
       "          2.3605e-03, -1.4397e-03],\n",
       "        [-4.0897e-04, -1.5384e-04, -3.0192e-05,  ...,  9.3842e-05,\n",
       "         -3.5374e-04, -1.3230e-05],\n",
       "        [ 1.2421e-03,  2.6988e-04,  2.4461e-04,  ..., -3.1488e-04,\n",
       "          4.9745e-04, -4.5577e-04]])"
      ]
     },
     "execution_count": 102,
     "metadata": {},
     "output_type": "execute_result"
    }
   ],
   "source": [
    "t_critic.seq[0].weight.grad"
   ]
  },
  {
   "cell_type": "code",
   "execution_count": 103,
   "metadata": {
    "ExecuteTime": {
     "end_time": "2020-04-05T18:04:18.228362Z",
     "start_time": "2020-04-05T18:04:18.174778Z"
    }
   },
   "outputs": [],
   "source": [
    "t_loss_d.backward()"
   ]
  },
  {
   "cell_type": "code",
   "execution_count": 104,
   "metadata": {
    "ExecuteTime": {
     "end_time": "2020-04-05T18:04:22.804971Z",
     "start_time": "2020-04-05T18:04:22.797120Z"
    }
   },
   "outputs": [
    {
     "data": {
      "text/plain": [
       "tensor(-0.0251, grad_fn=<NegBackward>)"
      ]
     },
     "execution_count": 104,
     "metadata": {},
     "output_type": "execute_result"
    }
   ],
   "source": [
    "t_loss_d"
   ]
  },
  {
   "cell_type": "code",
   "execution_count": 105,
   "metadata": {},
   "outputs": [
    {
     "data": {
      "text/plain": [
       "tensor([[ 8.8448e-04,  2.8330e-04, -6.6188e-05,  ..., -2.1064e-04,\n",
       "          2.9921e-04, -9.0573e-05],\n",
       "        [ 2.7839e-03,  1.4679e-04,  1.4376e-03,  ..., -2.9064e-04,\n",
       "          1.1271e-03, -5.3652e-04],\n",
       "        [-3.1084e-03,  4.0420e-04,  6.2632e-05,  ...,  6.1702e-04,\n",
       "         -4.4518e-04,  9.5357e-04],\n",
       "        ...,\n",
       "        [ 7.6237e-03, -8.0289e-05,  9.4811e-04,  ..., -1.8750e-03,\n",
       "          2.5338e-03, -2.6250e-03],\n",
       "        [-7.6603e-04,  1.4471e-05, -2.2797e-04,  ...,  9.3842e-05,\n",
       "         -3.1771e-04,  1.4563e-04],\n",
       "        [ 2.2829e-03, -4.1431e-05,  3.8710e-04,  ..., -3.1488e-04,\n",
       "          3.8208e-04, -1.2089e-03]])"
      ]
     },
     "execution_count": 105,
     "metadata": {},
     "output_type": "execute_result"
    }
   ],
   "source": [
    "t_critic.seq[0].weight.grad"
   ]
  },
  {
   "cell_type": "code",
   "execution_count": 358,
   "metadata": {
    "ExecuteTime": {
     "end_time": "2020-04-05T18:43:32.050938Z",
     "start_time": "2020-04-05T18:43:32.043826Z"
    },
    "scrolled": true
   },
   "outputs": [
    {
     "data": {
      "text/plain": [
       "[array([[ 0.0104399 ,  0.01184333,  0.01947265, ..., -0.0027608 ,\n",
       "         -0.01557249, -0.01212248],\n",
       "        [ 0.00224579,  0.00807676, -0.01378748, ..., -0.00601036,\n",
       "          0.01693137,  0.01323721],\n",
       "        [ 0.0020137 , -0.00083041, -0.00361929, ..., -0.00249561,\n",
       "         -0.00936469,  0.010633  ],\n",
       "        ...,\n",
       "        [-0.01081521, -0.01476025,  0.0117516 , ...,  0.00693588,\n",
       "          0.01374665,  0.01564172],\n",
       "        [-0.00745518, -0.01488712,  0.0038322 , ...,  0.0155443 ,\n",
       "         -0.00698683, -0.00584035],\n",
       "        [-0.0155228 ,  0.01571267,  0.01004028, ..., -0.00628184,\n",
       "          0.00725948,  0.01036368]], dtype=float32),\n",
       " array([ 1.66940410e-02,  2.23425217e-03, -7.43286964e-03, -1.47542916e-03,\n",
       "         9.45699401e-03, -1.30710918e-02,  1.47559289e-02,  9.15290043e-03,\n",
       "         7.99017027e-03, -1.58500820e-02,  8.09426419e-03,  1.32698175e-02,\n",
       "        -1.37109384e-02, -5.47817815e-03, -1.46102719e-03,  3.40034813e-03,\n",
       "        -5.75557258e-03,  6.31612726e-03,  4.94072959e-03, -7.59696867e-03,\n",
       "         1.49971899e-02,  1.75669622e-02, -1.11858230e-02, -1.93029493e-02,\n",
       "         1.76946260e-03, -5.98674826e-03,  2.16242485e-03, -8.45250208e-03,\n",
       "         1.15816947e-02, -1.56408641e-02,  7.69775361e-04,  1.93915907e-02,\n",
       "        -1.12014078e-03, -1.44600552e-02,  1.01719499e-02,  2.05657259e-03,\n",
       "         9.14747827e-03,  1.72355790e-02, -1.76803432e-02,  1.50774810e-02,\n",
       "        -9.98609886e-03,  1.71046983e-02, -5.05145919e-03, -1.07119130e-02,\n",
       "         1.85871068e-02, -2.77787447e-03, -1.15194712e-02, -1.02071324e-02,\n",
       "         1.92811880e-02,  9.20663029e-03, -1.62584130e-02,  1.87640134e-02,\n",
       "         1.61473658e-02,  4.44881618e-03,  8.18874687e-04,  1.61161330e-02,\n",
       "        -7.20102340e-03, -1.31438561e-02,  2.05775350e-03,  3.22297588e-03,\n",
       "        -6.72044232e-04, -1.45967500e-02,  1.56512484e-03, -1.67674553e-02,\n",
       "        -9.57142003e-03, -1.04140677e-03,  5.43430448e-04, -1.68080833e-02,\n",
       "         4.33904305e-03, -2.45592557e-03, -1.54655427e-05,  8.80969875e-03,\n",
       "        -1.33657586e-02,  5.25975227e-03,  3.84771265e-03, -1.65085346e-02,\n",
       "        -1.28791835e-02, -9.02705640e-03,  6.07521273e-03, -1.84103716e-02,\n",
       "         1.39074158e-02, -1.02643715e-02, -2.05474347e-03,  5.14061376e-03,\n",
       "        -1.36276130e-02, -1.07684424e-02,  4.69452702e-03,  1.64306294e-02,\n",
       "         3.07633542e-03,  9.07606259e-03, -1.09819304e-02, -1.25076920e-02,\n",
       "         9.44690593e-03, -1.88317839e-02,  1.19404923e-02,  1.40779782e-02,\n",
       "        -3.14558670e-03, -1.19264266e-02, -9.07159131e-03, -2.62564421e-03,\n",
       "        -1.12882964e-02,  1.53502729e-02, -9.30485688e-03, -1.08771836e-02,\n",
       "         1.57735925e-02, -4.53340635e-03, -1.20043382e-02, -1.13920961e-02,\n",
       "        -1.81527585e-02, -1.07198376e-02, -4.21946589e-03, -9.93411988e-03,\n",
       "        -2.82998383e-03, -1.62495002e-02, -1.41656445e-02, -1.19072646e-02,\n",
       "         9.19902325e-03,  6.75659813e-03,  9.88270529e-03, -1.66601371e-02,\n",
       "         1.35365967e-02,  1.30179022e-02, -6.70512859e-03,  8.84739868e-03,\n",
       "        -1.16911912e-02,  1.69846695e-02,  1.88557561e-02, -1.29957693e-02,\n",
       "        -4.15150728e-03,  4.77300398e-03,  1.44600403e-02,  4.05324809e-03,\n",
       "         9.74376500e-03,  1.21522266e-02, -1.18432315e-02,  1.61960926e-02,\n",
       "         1.90852564e-02, -7.35591445e-03,  7.27230869e-03,  3.79388034e-03,\n",
       "         9.13685188e-03,  9.56380926e-03, -1.95105951e-02, -1.41548272e-02,\n",
       "        -1.21233566e-02, -1.36060473e-02, -3.27261724e-03,  1.05775837e-02,\n",
       "        -2.83644721e-03,  1.55783612e-02,  1.80222038e-02,  1.82228405e-02,\n",
       "        -1.08494535e-02, -8.27492960e-03, -1.93692371e-02, -1.81442834e-02,\n",
       "        -9.18180775e-03, -1.14896456e-02, -1.81823224e-02,  7.64733367e-03,\n",
       "        -7.90341944e-03, -1.41010433e-03,  4.20406088e-03,  2.73831002e-03,\n",
       "         1.78841874e-03, -2.22123601e-03,  1.81772802e-02,  4.20612842e-03,\n",
       "         1.94816086e-02,  1.02400109e-02, -4.52136621e-03,  1.45988893e-02,\n",
       "         5.95791265e-03, -2.72137299e-03, -8.05043336e-03, -6.66374806e-03,\n",
       "         1.71112027e-02, -3.43712606e-03,  1.29327308e-02,  1.51198562e-02,\n",
       "         9.15477797e-03,  5.57740405e-03,  1.49593670e-02,  9.39757191e-03,\n",
       "        -1.54957082e-02, -5.93053643e-03,  8.63772258e-03, -1.79088991e-02,\n",
       "        -2.55840831e-03, -8.97451676e-03,  6.26970641e-03, -1.22816171e-02,\n",
       "        -1.20344590e-02,  1.52236987e-02, -1.26550039e-02,  5.75661846e-03,\n",
       "        -2.68675573e-03, -5.68436459e-04, -1.60579272e-02,  1.28909294e-02,\n",
       "         4.33595292e-03,  7.53403269e-03,  9.15072858e-04, -1.77404657e-02,\n",
       "        -2.43514404e-03,  4.34409268e-03,  1.78867336e-02,  1.02303308e-02,\n",
       "        -7.68134929e-03, -1.86713580e-02, -7.21532665e-03, -3.27845477e-03,\n",
       "         1.01034921e-02,  9.41267051e-03, -1.70212500e-02, -1.20165572e-03,\n",
       "         6.30928203e-04,  3.19167040e-03,  1.28791500e-02, -2.58588232e-03,\n",
       "         1.73579585e-02,  1.54256653e-02, -6.79858588e-03,  1.13382451e-02,\n",
       "         4.98538651e-03, -8.03581253e-03, -1.32492986e-02,  1.67688262e-02,\n",
       "        -5.55790588e-03, -1.27672404e-02,  5.85664250e-03, -6.15719706e-04,\n",
       "         7.35627860e-03, -1.78465936e-02, -1.07479505e-02, -8.36417824e-03,\n",
       "         4.70901839e-03, -1.57876592e-02,  1.07067190e-02,  1.09119322e-02,\n",
       "        -1.03878453e-02, -1.30118225e-02, -1.56835653e-02,  7.61194900e-03,\n",
       "         5.38300723e-03,  8.42532702e-03,  1.31766442e-02,  1.33724976e-02,\n",
       "         1.27010364e-02, -1.45512950e-02,  1.09539907e-02,  5.53275645e-03,\n",
       "        -1.15062641e-02, -1.76736154e-03, -1.94328837e-02,  1.87430400e-02],\n",
       "       dtype=float32)]"
      ]
     },
     "execution_count": 358,
     "metadata": {},
     "output_type": "execute_result"
    }
   ],
   "source": [
    "critic.layers[2].get_weights()"
   ]
  },
  {
   "cell_type": "code",
   "execution_count": 359,
   "metadata": {
    "ExecuteTime": {
     "end_time": "2020-04-05T18:04:28.645935Z",
     "start_time": "2020-04-05T18:04:28.635680Z"
    }
   },
   "outputs": [
    {
     "data": {
      "text/plain": [
       "Parameter containing:\n",
       "tensor([[ 0.0163,  0.0124, -0.0163,  ..., -0.0004,  0.0146, -0.0106],\n",
       "        [-0.0192,  0.0188,  0.0155,  ...,  0.0120, -0.0132, -0.0184],\n",
       "        [-0.0131,  0.0109, -0.0061,  ...,  0.0023,  0.0022,  0.0137],\n",
       "        ...,\n",
       "        [-0.0108, -0.0129, -0.0170,  ..., -0.0147,  0.0042, -0.0042],\n",
       "        [ 0.0120, -0.0030, -0.0169,  ...,  0.0191,  0.0042,  0.0146],\n",
       "        [ 0.0049,  0.0007,  0.0106,  ...,  0.0003,  0.0150, -0.0084]],\n",
       "       requires_grad=True)"
      ]
     },
     "execution_count": 359,
     "metadata": {},
     "output_type": "execute_result"
    }
   ],
   "source": [
    "t_critic.seq[0].weight"
   ]
  },
  {
   "cell_type": "code",
   "execution_count": 360,
   "metadata": {
    "ExecuteTime": {
     "end_time": "2020-04-05T18:04:40.829039Z",
     "start_time": "2020-04-05T18:04:40.819525Z"
    }
   },
   "outputs": [
    {
     "data": {
      "text/plain": [
       "tensor([[-1.5633e-03,  1.2914e-03, -7.1314e-04,  ..., -1.0134e-03,\n",
       "         -3.5647e-04,  1.2298e-03],\n",
       "        [-3.2595e-03,  3.8940e-03, -3.3937e-03,  ..., -1.9960e-03,\n",
       "          4.3995e-03, -7.8326e-04],\n",
       "        [ 4.7520e-03, -1.3873e-02,  2.0280e-03,  ...,  1.0689e-03,\n",
       "         -1.8877e-03, -1.2008e-03],\n",
       "        ...,\n",
       "        [-2.9485e-03,  1.9002e-03, -3.4709e-04,  ...,  1.5540e-03,\n",
       "         -7.1688e-04, -1.8752e-04],\n",
       "        [ 1.4912e-04,  4.3985e-04, -1.5630e-04,  ..., -8.4302e-04,\n",
       "         -1.3910e-05,  1.6877e-04],\n",
       "        [-3.4643e-03, -4.2893e-04, -1.9360e-03,  ...,  8.4137e-04,\n",
       "          6.2718e-04, -6.1740e-04]])"
      ]
     },
     "execution_count": 360,
     "metadata": {},
     "output_type": "execute_result"
    }
   ],
   "source": [
    "t_critic.seq[0].weight.grad"
   ]
  },
  {
   "cell_type": "code",
   "execution_count": 126,
   "metadata": {},
   "outputs": [
    {
     "data": {
      "text/plain": [
       "<tf.Tensor: shape=(500, 261), dtype=float32, numpy=\n",
       "array([[-3.9590198e-01,  8.7536272e-04,  2.0723824e-08, ...,\n",
       "         0.0000000e+00,  0.0000000e+00,  0.0000000e+00],\n",
       "       [-2.6607743e-02,  1.7889308e-10,  1.8407518e-06, ...,\n",
       "         0.0000000e+00,  0.0000000e+00,  0.0000000e+00],\n",
       "       [-6.5484118e-01,  3.3386775e-13,  8.7677730e-12, ...,\n",
       "         0.0000000e+00,  0.0000000e+00,  0.0000000e+00],\n",
       "       ...,\n",
       "       [-3.0703804e-01,  1.6474165e-12,  2.2178554e-07, ...,\n",
       "         0.0000000e+00,  0.0000000e+00,  0.0000000e+00],\n",
       "       [-5.0995189e-01,  1.8159642e-04,  1.4613579e-07, ...,\n",
       "         0.0000000e+00,  0.0000000e+00,  0.0000000e+00],\n",
       "       [-6.9051075e-01,  1.0309785e-04,  5.4243894e-04, ...,\n",
       "         0.0000000e+00,  0.0000000e+00,  0.0000000e+00]], dtype=float32)>"
      ]
     },
     "execution_count": 126,
     "metadata": {},
     "output_type": "execute_result"
    }
   ],
   "source": [
    "tf_fake_cat"
   ]
  },
  {
   "cell_type": "code",
   "execution_count": 123,
   "metadata": {},
   "outputs": [
    {
     "data": {
      "text/plain": [
       "<tf.Tensor: shape=(500, 261), dtype=float32, numpy=\n",
       "array([[-0.2056393 ,  0.        ,  0.        , ...,  0.        ,\n",
       "         0.        ,  0.        ],\n",
       "       [-0.64818996,  1.        ,  0.        , ...,  0.        ,\n",
       "         0.        ,  0.        ],\n",
       "       [ 0.07623339,  0.        ,  0.        , ...,  0.        ,\n",
       "         0.        ,  0.        ],\n",
       "       ...,\n",
       "       [-0.35082757,  0.        ,  0.        , ...,  0.        ,\n",
       "         0.        ,  0.        ],\n",
       "       [ 0.22385882,  0.        ,  0.        , ...,  0.        ,\n",
       "         0.        ,  0.        ],\n",
       "       [ 0.23402095,  0.        ,  1.        , ...,  0.        ,\n",
       "         0.        ,  0.        ]], dtype=float32)>"
      ]
     },
     "execution_count": 123,
     "metadata": {},
     "output_type": "execute_result"
    }
   ],
   "source": [
    "tf_real_cat"
   ]
  },
  {
   "cell_type": "code",
   "execution_count": 124,
   "metadata": {},
   "outputs": [
    {
     "data": {
      "text/plain": [
       "tensor([[-0.2056,  0.0000,  0.0000,  ...,  0.0000,  0.0000,  0.0000],\n",
       "        [-0.6482,  1.0000,  0.0000,  ...,  0.0000,  0.0000,  0.0000],\n",
       "        [ 0.0762,  0.0000,  0.0000,  ...,  0.0000,  0.0000,  0.0000],\n",
       "        ...,\n",
       "        [-0.3508,  0.0000,  0.0000,  ...,  0.0000,  0.0000,  0.0000],\n",
       "        [ 0.2239,  0.0000,  0.0000,  ...,  0.0000,  0.0000,  0.0000],\n",
       "        [ 0.2340,  0.0000,  1.0000,  ...,  0.0000,  0.0000,  0.0000]])"
      ]
     },
     "execution_count": 124,
     "metadata": {},
     "output_type": "execute_result"
    }
   ],
   "source": [
    "t_real_cat"
   ]
  },
  {
   "cell_type": "code",
   "execution_count": 127,
   "metadata": {
    "ExecuteTime": {
     "end_time": "2020-04-05T18:29:51.526013Z",
     "start_time": "2020-04-05T18:29:51.470784Z"
    }
   },
   "outputs": [],
   "source": [
    "with tf.GradientTape(persistent=True) as t:\n",
    "    tf_y_fake = critic(tf_fake_cat, training=True)\n",
    "    tf_y_real = critic(tf_real_cat, training=True)\n",
    "    tf_loss_d = -(tf.reduce_mean(tf_y_real) - tf.reduce_mean(tf_y_fake))\n",
    "    tf_gp, gp = gradient_penalty(partial(critic, training=True), tf_real_cat, tf_fake_cat)\n",
    "    cost = tf_loss_d + tf_gp"
   ]
  },
  {
   "cell_type": "code",
   "execution_count": 128,
   "metadata": {
    "ExecuteTime": {
     "end_time": "2020-04-05T18:04:44.404901Z",
     "start_time": "2020-04-05T18:04:44.395565Z"
    }
   },
   "outputs": [
    {
     "data": {
      "text/plain": [
       "<tf.Tensor: shape=(), dtype=float32, numpy=8.229103>"
      ]
     },
     "execution_count": 128,
     "metadata": {},
     "output_type": "execute_result"
    }
   ],
   "source": [
    "tf_gp"
   ]
  },
  {
   "cell_type": "code",
   "execution_count": 129,
   "metadata": {
    "ExecuteTime": {
     "end_time": "2020-04-05T18:04:46.372800Z",
     "start_time": "2020-04-05T18:04:46.364398Z"
    }
   },
   "outputs": [
    {
     "data": {
      "text/plain": [
       "<tf.Tensor: shape=(), dtype=float32, numpy=-0.02507634>"
      ]
     },
     "execution_count": 129,
     "metadata": {},
     "output_type": "execute_result"
    }
   ],
   "source": [
    "tf_loss_d"
   ]
  },
  {
   "cell_type": "code",
   "execution_count": 130,
   "metadata": {
    "ExecuteTime": {
     "end_time": "2020-04-05T18:08:00.610758Z",
     "start_time": "2020-04-05T18:08:00.601621Z"
    }
   },
   "outputs": [
    {
     "data": {
      "text/plain": [
       "<tf.Tensor: shape=(), dtype=float32, numpy=8.204027>"
      ]
     },
     "execution_count": 130,
     "metadata": {},
     "output_type": "execute_result"
    }
   ],
   "source": [
    "cost"
   ]
  },
  {
   "cell_type": "code",
   "execution_count": 417,
   "metadata": {
    "ExecuteTime": {
     "end_time": "2020-04-05T18:30:45.689533Z",
     "start_time": "2020-04-05T18:30:45.684717Z"
    }
   },
   "outputs": [],
   "source": [
    "cost = tf.convert_to_tensor(t_loss_d.detach().numpy() + t_gp.detach().numpy())"
   ]
  },
  {
   "cell_type": "code",
   "execution_count": 418,
   "metadata": {
    "ExecuteTime": {
     "end_time": "2020-04-05T18:30:48.685546Z",
     "start_time": "2020-04-05T18:30:48.676469Z"
    }
   },
   "outputs": [
    {
     "data": {
      "text/plain": [
       "<tf.Tensor: shape=(), dtype=float32, numpy=6.3227425>"
      ]
     },
     "execution_count": 418,
     "metadata": {},
     "output_type": "execute_result"
    }
   ],
   "source": [
    "cost"
   ]
  },
  {
   "cell_type": "code",
   "execution_count": 144,
   "metadata": {
    "ExecuteTime": {
     "end_time": "2020-04-05T18:30:54.454194Z",
     "start_time": "2020-04-05T18:30:54.447752Z"
    }
   },
   "outputs": [],
   "source": [
    "grad = t.gradient(tf_gp, critic.trainable_variables)"
   ]
  },
  {
   "cell_type": "code",
   "execution_count": 145,
   "metadata": {
    "ExecuteTime": {
     "end_time": "2020-04-05T18:32:03.666111Z",
     "start_time": "2020-04-05T18:32:03.657822Z"
    }
   },
   "outputs": [
    {
     "data": {
      "text/plain": [
       "[<tf.Tensor: shape=(2610, 256), dtype=float32, numpy=\n",
       " array([[ 6.3575263e-04,  2.0147478e-03, -1.1984204e-03, ...,\n",
       "          4.4410476e-03, -5.8962184e-04,  1.3334041e-03],\n",
       "        [ 4.2708783e-04,  9.7449974e-04, -7.2358892e-04, ...,\n",
       "          2.6475592e-03, -4.3553504e-04,  7.2811614e-04],\n",
       "        [-3.2870044e-04,  5.1470415e-05,  4.0892590e-04, ...,\n",
       "         -6.2779197e-04, -4.8983213e-05,  3.5122811e-04],\n",
       "        ...,\n",
       "        [-4.4708057e-05, -3.2372115e-04,  5.9729093e-04, ...,\n",
       "         -9.5574453e-04,  2.0837701e-04, -1.6527405e-04],\n",
       "        [ 2.5272137e-04,  1.3362339e-03, -8.5645024e-04, ...,\n",
       "          2.1318488e-03, -2.6881779e-04,  3.8752810e-04],\n",
       "        [-1.5489446e-05, -4.1213314e-04,  3.3813462e-04, ...,\n",
       "         -1.3265157e-03,  3.7063481e-04, -4.4316257e-04]], dtype=float32)>,\n",
       " <tf.Tensor: shape=(256,), dtype=float32, numpy=\n",
       " array([0., 0., 0., 0., 0., 0., 0., 0., 0., 0., 0., 0., 0., 0., 0., 0., 0.,\n",
       "        0., 0., 0., 0., 0., 0., 0., 0., 0., 0., 0., 0., 0., 0., 0., 0., 0.,\n",
       "        0., 0., 0., 0., 0., 0., 0., 0., 0., 0., 0., 0., 0., 0., 0., 0., 0.,\n",
       "        0., 0., 0., 0., 0., 0., 0., 0., 0., 0., 0., 0., 0., 0., 0., 0., 0.,\n",
       "        0., 0., 0., 0., 0., 0., 0., 0., 0., 0., 0., 0., 0., 0., 0., 0., 0.,\n",
       "        0., 0., 0., 0., 0., 0., 0., 0., 0., 0., 0., 0., 0., 0., 0., 0., 0.,\n",
       "        0., 0., 0., 0., 0., 0., 0., 0., 0., 0., 0., 0., 0., 0., 0., 0., 0.,\n",
       "        0., 0., 0., 0., 0., 0., 0., 0., 0., 0., 0., 0., 0., 0., 0., 0., 0.,\n",
       "        0., 0., 0., 0., 0., 0., 0., 0., 0., 0., 0., 0., 0., 0., 0., 0., 0.,\n",
       "        0., 0., 0., 0., 0., 0., 0., 0., 0., 0., 0., 0., 0., 0., 0., 0., 0.,\n",
       "        0., 0., 0., 0., 0., 0., 0., 0., 0., 0., 0., 0., 0., 0., 0., 0., 0.,\n",
       "        0., 0., 0., 0., 0., 0., 0., 0., 0., 0., 0., 0., 0., 0., 0., 0., 0.,\n",
       "        0., 0., 0., 0., 0., 0., 0., 0., 0., 0., 0., 0., 0., 0., 0., 0., 0.,\n",
       "        0., 0., 0., 0., 0., 0., 0., 0., 0., 0., 0., 0., 0., 0., 0., 0., 0.,\n",
       "        0., 0., 0., 0., 0., 0., 0., 0., 0., 0., 0., 0., 0., 0., 0., 0., 0.,\n",
       "        0.], dtype=float32)>,\n",
       " <tf.Tensor: shape=(256, 256), dtype=float32, numpy=\n",
       " array([[ 1.34151254e-03, -7.09575215e-06, -3.54989053e-04, ...,\n",
       "         -2.66741845e-05,  2.52814061e-04, -2.38884357e-04],\n",
       "        [-1.13569694e-02,  1.59962932e-04,  1.15002915e-02, ...,\n",
       "          3.72822455e-04, -1.31307011e-02,  2.51945090e-02],\n",
       "        [ 9.09705646e-03, -1.29108594e-04, -8.63231346e-03, ...,\n",
       "         -2.56105675e-04,  1.02791153e-02, -1.79634802e-02],\n",
       "        ...,\n",
       "        [-3.24687995e-02,  4.06610459e-04,  2.52120029e-02, ...,\n",
       "          8.68609932e-04, -3.25755626e-02,  6.27660155e-02],\n",
       "        [ 5.20048384e-03, -7.27742008e-05, -3.44438874e-03, ...,\n",
       "         -1.42215664e-04,  5.22496039e-03, -1.07349725e-02],\n",
       "        [-6.19211840e-03,  7.65318764e-05,  5.67668583e-03, ...,\n",
       "          1.52035660e-04, -5.98631334e-03,  1.19472751e-02]], dtype=float32)>,\n",
       " <tf.Tensor: shape=(256,), dtype=float32, numpy=\n",
       " array([0., 0., 0., 0., 0., 0., 0., 0., 0., 0., 0., 0., 0., 0., 0., 0., 0.,\n",
       "        0., 0., 0., 0., 0., 0., 0., 0., 0., 0., 0., 0., 0., 0., 0., 0., 0.,\n",
       "        0., 0., 0., 0., 0., 0., 0., 0., 0., 0., 0., 0., 0., 0., 0., 0., 0.,\n",
       "        0., 0., 0., 0., 0., 0., 0., 0., 0., 0., 0., 0., 0., 0., 0., 0., 0.,\n",
       "        0., 0., 0., 0., 0., 0., 0., 0., 0., 0., 0., 0., 0., 0., 0., 0., 0.,\n",
       "        0., 0., 0., 0., 0., 0., 0., 0., 0., 0., 0., 0., 0., 0., 0., 0., 0.,\n",
       "        0., 0., 0., 0., 0., 0., 0., 0., 0., 0., 0., 0., 0., 0., 0., 0., 0.,\n",
       "        0., 0., 0., 0., 0., 0., 0., 0., 0., 0., 0., 0., 0., 0., 0., 0., 0.,\n",
       "        0., 0., 0., 0., 0., 0., 0., 0., 0., 0., 0., 0., 0., 0., 0., 0., 0.,\n",
       "        0., 0., 0., 0., 0., 0., 0., 0., 0., 0., 0., 0., 0., 0., 0., 0., 0.,\n",
       "        0., 0., 0., 0., 0., 0., 0., 0., 0., 0., 0., 0., 0., 0., 0., 0., 0.,\n",
       "        0., 0., 0., 0., 0., 0., 0., 0., 0., 0., 0., 0., 0., 0., 0., 0., 0.,\n",
       "        0., 0., 0., 0., 0., 0., 0., 0., 0., 0., 0., 0., 0., 0., 0., 0., 0.,\n",
       "        0., 0., 0., 0., 0., 0., 0., 0., 0., 0., 0., 0., 0., 0., 0., 0., 0.,\n",
       "        0., 0., 0., 0., 0., 0., 0., 0., 0., 0., 0., 0., 0., 0., 0., 0., 0.,\n",
       "        0.], dtype=float32)>,\n",
       " <tf.Tensor: shape=(256, 1), dtype=float32, numpy=\n",
       " array([[ 1.28246009e-01],\n",
       "        [-8.34639147e-02],\n",
       "        [-3.38747084e-01],\n",
       "        [-5.36656640e-02],\n",
       "        [ 6.96714669e-02],\n",
       "        [-9.62560624e-02],\n",
       "        [-4.68998134e-01],\n",
       "        [ 2.58223981e-01],\n",
       "        [ 1.22714713e-02],\n",
       "        [ 3.20650876e-01],\n",
       "        [ 1.19508021e-01],\n",
       "        [ 7.13726282e-02],\n",
       "        [-1.53242633e-01],\n",
       "        [ 1.79101303e-01],\n",
       "        [-8.11774552e-01],\n",
       "        [-3.93288016e-01],\n",
       "        [ 1.89365879e-01],\n",
       "        [-3.16366494e-01],\n",
       "        [-1.42577723e-01],\n",
       "        [ 7.59507641e-02],\n",
       "        [-2.30990380e-01],\n",
       "        [ 1.15295157e-01],\n",
       "        [ 3.85211669e-02],\n",
       "        [ 2.18384452e-02],\n",
       "        [ 2.14011408e-02],\n",
       "        [ 1.19551793e-02],\n",
       "        [ 4.38970923e-02],\n",
       "        [-1.28003016e-01],\n",
       "        [-8.17122459e-02],\n",
       "        [-1.97814316e-01],\n",
       "        [ 1.23448614e-02],\n",
       "        [ 3.14686894e-01],\n",
       "        [-8.05597782e-01],\n",
       "        [ 9.80278701e-02],\n",
       "        [-1.06868446e-01],\n",
       "        [-8.31932351e-02],\n",
       "        [-7.15802729e-01],\n",
       "        [ 9.26728919e-02],\n",
       "        [-4.81946975e-01],\n",
       "        [ 3.49903882e-01],\n",
       "        [-1.64694041e-01],\n",
       "        [-1.16081849e-01],\n",
       "        [ 1.31910304e-02],\n",
       "        [-2.09397972e-01],\n",
       "        [ 9.10602957e-02],\n",
       "        [-3.39888364e-01],\n",
       "        [-1.65670440e-01],\n",
       "        [-6.25785813e-02],\n",
       "        [-5.82848229e-02],\n",
       "        [ 1.01009987e-01],\n",
       "        [ 8.57714117e-02],\n",
       "        [-4.57284123e-01],\n",
       "        [-2.73282647e-01],\n",
       "        [ 9.53245908e-02],\n",
       "        [ 5.04620910e-01],\n",
       "        [ 4.23703372e-01],\n",
       "        [-4.17421795e-02],\n",
       "        [ 1.08200639e-01],\n",
       "        [-1.04641668e-01],\n",
       "        [-4.31774817e-02],\n",
       "        [ 1.87005028e-01],\n",
       "        [ 2.09018096e-01],\n",
       "        [-7.44140327e-01],\n",
       "        [-9.09705684e-02],\n",
       "        [-3.95852298e-01],\n",
       "        [ 8.23485732e-01],\n",
       "        [-6.91614002e-02],\n",
       "        [-2.78767884e-01],\n",
       "        [-1.19757853e-01],\n",
       "        [-1.29947886e-01],\n",
       "        [ 3.94543201e-01],\n",
       "        [ 1.71707749e-01],\n",
       "        [-3.02904081e-02],\n",
       "        [-3.37416381e-02],\n",
       "        [-1.71216577e-01],\n",
       "        [-5.39364014e-03],\n",
       "        [ 4.43026394e-01],\n",
       "        [ 1.80068940e-01],\n",
       "        [ 4.44690585e-01],\n",
       "        [-3.49151567e-02],\n",
       "        [-3.72032486e-02],\n",
       "        [-2.10698619e-01],\n",
       "        [ 1.85478106e-03],\n",
       "        [ 1.84921652e-01],\n",
       "        [-2.68502861e-01],\n",
       "        [ 1.12105809e-01],\n",
       "        [-6.48459256e-01],\n",
       "        [ 8.35362300e-02],\n",
       "        [-4.74865586e-02],\n",
       "        [ 6.18242957e-02],\n",
       "        [-5.44160903e-02],\n",
       "        [ 9.93525982e-03],\n",
       "        [ 2.93010563e-01],\n",
       "        [ 2.33118266e-01],\n",
       "        [-3.40383977e-01],\n",
       "        [ 1.03719866e+00],\n",
       "        [ 4.05918323e-02],\n",
       "        [-8.84043612e-03],\n",
       "        [ 2.12258220e-01],\n",
       "        [-1.56113163e-01],\n",
       "        [-6.24945462e-02],\n",
       "        [ 4.25543450e-02],\n",
       "        [-3.41164589e-01],\n",
       "        [-4.37825948e-01],\n",
       "        [-2.15917215e-01],\n",
       "        [-6.66742846e-02],\n",
       "        [ 3.73618990e-01],\n",
       "        [-1.24715932e-01],\n",
       "        [-6.62043929e-01],\n",
       "        [ 7.23294318e-02],\n",
       "        [-1.77869126e-02],\n",
       "        [-1.20570939e-02],\n",
       "        [-5.42804539e-01],\n",
       "        [-4.97657359e-01],\n",
       "        [ 2.83196308e-02],\n",
       "        [ 3.12078521e-02],\n",
       "        [-5.30569971e-01],\n",
       "        [ 1.90072611e-01],\n",
       "        [-2.51358189e-02],\n",
       "        [ 2.27416858e-01],\n",
       "        [ 2.28218827e-02],\n",
       "        [ 4.04233307e-01],\n",
       "        [ 1.36854723e-01],\n",
       "        [ 4.86663729e-02],\n",
       "        [ 5.73385000e-01],\n",
       "        [ 1.56810790e-01],\n",
       "        [-1.00302845e-01],\n",
       "        [-4.99619365e-01],\n",
       "        [ 3.88712473e-02],\n",
       "        [-4.13327143e-02],\n",
       "        [-6.92139268e-02],\n",
       "        [ 6.44034967e-02],\n",
       "        [ 6.35452345e-02],\n",
       "        [ 9.87362564e-02],\n",
       "        [ 9.63470191e-02],\n",
       "        [ 3.39654356e-01],\n",
       "        [ 2.37999052e-01],\n",
       "        [ 4.11956804e-03],\n",
       "        [-1.01733068e-02],\n",
       "        [ 3.24972510e-01],\n",
       "        [ 9.11038718e-04],\n",
       "        [ 2.32055098e-01],\n",
       "        [ 2.66143143e-01],\n",
       "        [-3.90261635e-02],\n",
       "        [-1.14607103e-01],\n",
       "        [-7.44289607e-02],\n",
       "        [ 2.33373582e-01],\n",
       "        [ 8.59391540e-02],\n",
       "        [-1.16749778e-01],\n",
       "        [-6.21121600e-02],\n",
       "        [ 1.52350530e-01],\n",
       "        [ 5.59717342e-02],\n",
       "        [ 1.37814373e-01],\n",
       "        [-2.10059553e-01],\n",
       "        [-2.18451515e-01],\n",
       "        [ 8.25070262e-01],\n",
       "        [ 7.48916566e-02],\n",
       "        [-2.59073794e-01],\n",
       "        [-3.30046117e-02],\n",
       "        [ 2.02919871e-01],\n",
       "        [-8.69679749e-02],\n",
       "        [ 4.69330810e-02],\n",
       "        [ 1.55286640e-01],\n",
       "        [-2.84783214e-01],\n",
       "        [-1.78119987e-02],\n",
       "        [-3.77508253e-03],\n",
       "        [ 5.90749979e-01],\n",
       "        [-5.08895516e-02],\n",
       "        [ 1.46034330e-01],\n",
       "        [-6.36276960e-01],\n",
       "        [ 1.60539031e-01],\n",
       "        [-6.86080009e-03],\n",
       "        [-2.36565948e-01],\n",
       "        [-1.44009262e-01],\n",
       "        [ 7.25921523e-03],\n",
       "        [ 4.72164184e-01],\n",
       "        [-2.02020667e-02],\n",
       "        [ 2.79875755e-01],\n",
       "        [ 2.10735351e-01],\n",
       "        [-9.86167938e-02],\n",
       "        [-1.05632789e-01],\n",
       "        [-6.26333952e-01],\n",
       "        [-2.54867468e-02],\n",
       "        [-2.99877107e-01],\n",
       "        [-1.50785580e-01],\n",
       "        [-2.24055111e-01],\n",
       "        [ 1.04906671e-01],\n",
       "        [-7.86099210e-02],\n",
       "        [ 3.45701486e-01],\n",
       "        [-5.51128574e-02],\n",
       "        [ 5.00374734e-02],\n",
       "        [ 4.33533609e-01],\n",
       "        [ 8.19491148e-02],\n",
       "        [ 6.80654868e-02],\n",
       "        [ 1.33811921e-01],\n",
       "        [ 3.97223055e-01],\n",
       "        [-2.05766454e-01],\n",
       "        [ 1.55765675e-02],\n",
       "        [-9.99074802e-02],\n",
       "        [-3.77449632e-01],\n",
       "        [-2.61995167e-01],\n",
       "        [-4.59787488e-01],\n",
       "        [ 7.47363150e-01],\n",
       "        [ 1.37697145e-01],\n",
       "        [ 5.28615832e-01],\n",
       "        [-3.80770117e-01],\n",
       "        [-1.96900889e-01],\n",
       "        [-9.14106239e-03],\n",
       "        [ 3.64318758e-01],\n",
       "        [-5.18723607e-01],\n",
       "        [ 5.54690778e-01],\n",
       "        [ 1.38414219e-01],\n",
       "        [ 2.20466018e-01],\n",
       "        [ 1.02497153e-01],\n",
       "        [ 9.30479392e-02],\n",
       "        [ 3.78915638e-01],\n",
       "        [-1.62187181e-02],\n",
       "        [ 6.97744712e-02],\n",
       "        [ 1.49479851e-01],\n",
       "        [-1.45047992e-01],\n",
       "        [-6.34019822e-02],\n",
       "        [-5.30639105e-03],\n",
       "        [ 1.81601107e-01],\n",
       "        [-1.17626026e-01],\n",
       "        [ 2.19113141e-01],\n",
       "        [-5.02137169e-02],\n",
       "        [ 1.05417497e-01],\n",
       "        [-1.80182397e-01],\n",
       "        [-8.32578838e-02],\n",
       "        [-2.11444154e-01],\n",
       "        [ 2.15632722e-01],\n",
       "        [-6.69285208e-02],\n",
       "        [ 1.14710405e-01],\n",
       "        [-3.13448831e-02],\n",
       "        [-1.80822745e-01],\n",
       "        [ 9.77286696e-02],\n",
       "        [ 1.91443190e-01],\n",
       "        [ 5.61886206e-02],\n",
       "        [ 3.77839744e-01],\n",
       "        [ 2.44325593e-01],\n",
       "        [ 2.13752136e-01],\n",
       "        [-2.23024487e-01],\n",
       "        [ 1.41185567e-01],\n",
       "        [-1.84958294e-01],\n",
       "        [-6.34696722e-01],\n",
       "        [-3.24214399e-01],\n",
       "        [ 4.06089246e-01],\n",
       "        [ 3.28533828e-01],\n",
       "        [-2.52988607e-01],\n",
       "        [ 8.02844644e-01],\n",
       "        [-2.58683488e-02],\n",
       "        [-1.31035671e-01],\n",
       "        [-3.77311558e-02],\n",
       "        [-1.14628347e-02],\n",
       "        [ 3.26004446e-01],\n",
       "        [-2.69558340e-01]], dtype=float32)>,\n",
       " None]"
      ]
     },
     "execution_count": 145,
     "metadata": {},
     "output_type": "execute_result"
    }
   ],
   "source": [
    "grad"
   ]
  },
  {
   "cell_type": "code",
   "execution_count": 142,
   "metadata": {
    "ExecuteTime": {
     "end_time": "2020-04-05T18:30:54.454194Z",
     "start_time": "2020-04-05T18:30:54.447752Z"
    }
   },
   "outputs": [],
   "source": [
    "grad = t.gradient(tf_loss_d, critic.trainable_variables)"
   ]
  },
  {
   "cell_type": "code",
   "execution_count": 143,
   "metadata": {
    "ExecuteTime": {
     "end_time": "2020-04-05T18:32:03.666111Z",
     "start_time": "2020-04-05T18:32:03.657822Z"
    }
   },
   "outputs": [
    {
     "data": {
      "text/plain": [
       "[<tf.Tensor: shape=(2610, 256), dtype=float32, numpy=\n",
       " array([[ 6.6245382e-05,  9.9050801e-04, -1.8625397e-03, ...,\n",
       "          3.4787126e-03, -3.5706168e-04,  1.0407791e-03],\n",
       "        [ 5.5721164e-04, -3.8657762e-04,  4.4253503e-04, ...,\n",
       "         -5.1029085e-04,  1.6830795e-04, -3.1131302e-04],\n",
       "        [ 5.5856252e-04,  1.1870896e-03, -4.1227497e-05, ...,\n",
       "          1.6700830e-03, -1.9777345e-04,  1.4248429e-04],\n",
       "        ...,\n",
       "        [ 0.0000000e+00,  0.0000000e+00,  0.0000000e+00, ...,\n",
       "          0.0000000e+00,  0.0000000e+00,  0.0000000e+00],\n",
       "        [-1.2161527e-04,  2.4590408e-04,  4.5470815e-04, ...,\n",
       "          1.7331837e-04,  3.6030549e-05, -1.1536951e-04],\n",
       "        [ 2.6907743e-04, -3.3640891e-04,  4.6269613e-04, ...,\n",
       "         -1.1852864e-03,  1.5886135e-04, -7.5309415e-04]], dtype=float32)>,\n",
       " <tf.Tensor: shape=(256,), dtype=float32, numpy=\n",
       " array([ 3.24308267e-03, -2.52615754e-03,  2.97091668e-03, -6.04660250e-04,\n",
       "         2.55767722e-04, -3.57699068e-03,  1.08886231e-03, -1.07133808e-03,\n",
       "         3.25333071e-03, -9.02238826e-04,  8.98920000e-04, -4.05953825e-03,\n",
       "         1.94640399e-03,  2.00018287e-04,  1.12394150e-03,  1.21681334e-03,\n",
       "        -2.35769618e-03, -2.15063058e-03, -4.88652894e-03, -2.84082256e-03,\n",
       "        -6.24667620e-03, -1.36737945e-03,  2.34964304e-03,  5.58062457e-04,\n",
       "        -5.07313432e-03, -2.49825418e-04, -1.78985111e-03, -7.01258983e-03,\n",
       "        -3.52539495e-03, -1.15184858e-03, -5.57889137e-03, -7.13700894e-04,\n",
       "         1.46347424e-03,  4.28419514e-03, -1.58131961e-03,  6.70368969e-03,\n",
       "         4.43273399e-04,  9.11013572e-04,  1.00964913e-03,  2.17680866e-03,\n",
       "         3.71653796e-03, -3.83936334e-04,  2.87723867e-03,  1.58134662e-03,\n",
       "         3.48602002e-03, -2.58082710e-03, -8.98570055e-04,  3.05754505e-03,\n",
       "        -6.89206319e-03,  3.30901518e-03,  1.58604933e-04, -2.25365814e-03,\n",
       "         8.81934306e-04, -4.04895889e-03, -1.61837391e-03,  9.07248817e-04,\n",
       "        -2.78987223e-03,  2.74507934e-03, -1.11699034e-03, -2.99961027e-03,\n",
       "         2.23887782e-03, -1.37456786e-03,  1.32766459e-03, -1.47661241e-03,\n",
       "         1.24896667e-03,  1.93022878e-03,  1.72795914e-03, -1.75694306e-03,\n",
       "        -1.76304462e-03,  5.24411909e-04,  5.94256679e-04,  2.65110424e-03,\n",
       "        -1.66338310e-03, -1.74223213e-03,  2.29674252e-03,  1.42490910e-03,\n",
       "         1.96562707e-03,  1.42165460e-03,  1.14460487e-03,  4.01793397e-04,\n",
       "        -3.32572404e-03,  4.71169595e-04, -9.41341044e-04, -1.49906855e-02,\n",
       "         6.75904565e-04, -1.06019480e-03,  2.18782318e-03,  1.30845769e-03,\n",
       "        -1.78787345e-03,  3.11497180e-03,  1.17409648e-03,  7.26528466e-04,\n",
       "        -1.33889215e-03, -1.66112930e-03, -2.41237879e-03, -1.85976364e-03,\n",
       "         3.65248136e-03,  1.51899667e-03, -6.73557911e-03, -2.19801394e-03,\n",
       "         4.84380126e-03, -3.28023173e-03, -7.76923029e-04, -4.16051596e-03,\n",
       "         7.18057528e-03,  1.31253363e-03,  7.80354952e-04,  1.32901268e-03,\n",
       "         1.46859116e-03,  3.70230526e-04,  8.61921813e-04, -7.71391205e-05,\n",
       "         1.34698942e-03,  1.52214104e-03,  2.70263117e-04,  2.69471388e-03,\n",
       "        -3.33993929e-03, -4.75821085e-04,  3.27083562e-03, -3.99108045e-03,\n",
       "        -3.73800285e-03,  1.64564140e-03, -1.78649207e-03,  8.43596645e-05,\n",
       "         1.80127844e-03,  1.46716950e-04,  9.58610093e-04,  8.02582595e-04,\n",
       "         2.33483431e-03,  5.67314681e-04,  1.06324803e-03, -2.91101588e-03,\n",
       "         8.94483645e-04, -3.12827807e-03, -1.41314790e-03, -5.04956115e-04,\n",
       "         8.79465835e-04, -5.08010294e-03,  2.78519280e-03, -4.33804141e-03,\n",
       "        -4.85902978e-03,  4.72436193e-03,  4.71462496e-04, -9.46694170e-04,\n",
       "         3.83837847e-03, -1.84321869e-03,  1.67732686e-03, -1.52934063e-03,\n",
       "        -2.32259231e-03, -8.87585245e-03,  6.73319213e-04,  1.01868063e-03,\n",
       "        -4.37330193e-04,  1.15902349e-03,  1.97497220e-03,  7.97625631e-03,\n",
       "        -1.60953030e-03,  6.74138311e-04, -1.83988502e-03,  2.15837080e-03,\n",
       "         4.43652971e-03, -3.39424098e-03,  6.02996489e-03,  6.56718388e-04,\n",
       "         9.43499152e-04,  1.38351531e-03, -1.87192485e-03, -5.16320113e-03,\n",
       "        -3.77775112e-04, -1.00523233e-04,  3.74209136e-03, -7.97630521e-04,\n",
       "         1.09615619e-04, -1.84030458e-03, -2.34766165e-03, -1.20067480e-03,\n",
       "        -2.85217538e-05,  1.83485681e-04, -4.61168680e-03,  1.78359868e-03,\n",
       "         1.81360054e-04, -2.02356302e-03,  1.45582180e-03, -1.53552275e-04,\n",
       "        -1.88696210e-03, -1.58838229e-03, -5.48490416e-03, -1.01635838e-03,\n",
       "         3.03464010e-04,  1.49237295e-03, -2.57721567e-03, -1.80888909e-03,\n",
       "        -4.21865843e-05, -7.11727189e-05,  3.87286767e-04,  1.38664269e-03,\n",
       "        -7.11368979e-04,  3.87298246e-03, -3.26781534e-04,  2.20969785e-04,\n",
       "        -1.67039875e-03,  1.47727120e-03,  2.89892824e-03,  6.29328191e-04,\n",
       "        -8.67727213e-05,  7.40759075e-04, -7.94204511e-03, -5.55518258e-04,\n",
       "         3.37164570e-03,  3.38619458e-03, -1.20739406e-03,  9.04193148e-05,\n",
       "        -3.97581607e-05, -1.24060782e-04,  2.07271427e-03, -4.80183959e-03,\n",
       "         2.46594287e-03, -4.21250239e-04, -3.10556660e-03, -1.12828542e-03,\n",
       "         8.76095612e-04, -2.26562796e-03, -4.48529795e-03, -2.46243714e-03,\n",
       "         1.04812346e-03, -1.21591298e-03,  4.60851891e-03,  5.57567109e-04,\n",
       "        -1.50463893e-04, -7.91735016e-04,  2.15216354e-03, -3.55212437e-03,\n",
       "         1.63680548e-03,  2.49117753e-03, -2.09568813e-03,  2.16109212e-04,\n",
       "         5.58472704e-04,  3.76028102e-03,  4.91408864e-03,  1.65895000e-03,\n",
       "         1.49007747e-03, -2.98231002e-03, -1.81465293e-03,  1.55107584e-03,\n",
       "        -1.34568661e-03, -3.60639580e-03, -1.69344991e-03,  2.64352420e-04,\n",
       "         3.81692289e-03,  2.07223813e-03,  9.84485727e-04,  1.91630982e-03,\n",
       "        -1.75547507e-03,  4.45544720e-04, -1.00348738e-03, -3.77215631e-03],\n",
       "       dtype=float32)>,\n",
       " <tf.Tensor: shape=(256, 256), dtype=float32, numpy=\n",
       " array([[ 1.6735318e-03, -1.8402341e-05, -1.2259762e-03, ...,\n",
       "         -4.3349221e-05,  1.6392034e-03, -3.1850170e-03],\n",
       "        [-9.7308174e-04,  1.0703815e-05,  5.2173249e-04, ...,\n",
       "          2.9284711e-05, -1.1042985e-03,  2.0096255e-03],\n",
       "        [-1.7868076e-03,  1.0876151e-05,  8.3693460e-04, ...,\n",
       "          1.3647426e-05, -1.2423343e-03,  2.1381704e-03],\n",
       "        ...,\n",
       "        [-1.1267406e-03,  1.0259610e-06,  6.9105532e-04, ...,\n",
       "         -3.7521386e-06, -4.6019536e-04,  9.8900683e-04],\n",
       "        [-2.6561834e-03,  1.1732716e-05,  1.2626613e-03, ...,\n",
       "          1.0549076e-05, -1.5207841e-03,  3.1755352e-03],\n",
       "        [-1.4696007e-03, -5.0064045e-07,  4.3146481e-04, ...,\n",
       "         -3.8476137e-06, -3.9219524e-04,  1.0969731e-03]], dtype=float32)>,\n",
       " <tf.Tensor: shape=(256,), dtype=float32, numpy=\n",
       " array([-6.56250678e-03, -5.07002405e-05,  1.41964853e-03, -5.39711863e-03,\n",
       "         6.53574988e-03, -1.58348726e-03, -1.16469115e-02,  5.64086437e-03,\n",
       "        -2.61562318e-03,  1.41716003e-03,  4.12654504e-03, -2.19701231e-03,\n",
       "         3.46787856e-04, -6.03730977e-03,  0.00000000e+00, -4.07291949e-03,\n",
       "        -4.81519289e-03,  1.80785358e-03, -1.93175278e-04,  2.56566331e-03,\n",
       "         2.78912904e-03, -1.92169461e-03,  2.10766308e-03,  4.98893205e-04,\n",
       "         7.06346706e-04,  1.92008447e-03,  1.01330969e-03,  5.48418984e-03,\n",
       "         3.71941924e-03,  2.10727425e-03,  9.92901623e-05, -5.17077744e-04,\n",
       "        -2.84263492e-03,  0.00000000e+00, -3.25107761e-03,  6.56616502e-03,\n",
       "        -5.19727543e-03, -6.55531883e-04, -1.18998811e-04,  2.58583575e-04,\n",
       "        -1.70408282e-03,  2.61233374e-03,  9.08183138e-05, -6.11794181e-03,\n",
       "         0.00000000e+00, -1.76464766e-03, -1.45834889e-02, -1.75690046e-04,\n",
       "        -2.99056806e-03, -3.67996923e-04, -3.37110739e-03, -7.31232576e-04,\n",
       "         0.00000000e+00,  1.42079927e-02,  8.48373771e-03,  3.03745270e-04,\n",
       "        -5.30937687e-04,  8.64089839e-03,  0.00000000e+00,  3.45849199e-04,\n",
       "         6.29173592e-03, -9.67109576e-04, -2.02725828e-03, -2.79006083e-03,\n",
       "         0.00000000e+00, -1.13364737e-02,  1.77942216e-03, -5.27523342e-04,\n",
       "         8.06977972e-04, -2.28692591e-03, -7.13107735e-03,  7.92912208e-04,\n",
       "         6.38227793e-04,  0.00000000e+00, -3.56729142e-03, -8.49579461e-04,\n",
       "         2.88271159e-03, -4.51929867e-03, -1.26001295e-02,  8.77041835e-04,\n",
       "        -8.99240375e-04, -5.55817038e-04,  1.50917284e-03, -9.01956111e-04,\n",
       "        -2.84968689e-03,  0.00000000e+00, -2.45130435e-03, -8.65295529e-04,\n",
       "        -1.38156232e-03,  2.30446924e-03, -1.24086440e-03,  6.76467456e-03,\n",
       "         3.63189727e-04,  1.51751935e-03, -1.52526051e-03, -1.07393973e-03,\n",
       "         7.57416710e-04,  0.00000000e+00,  2.54629180e-03,  1.31240487e-03,\n",
       "        -4.75974986e-04,  0.00000000e+00,  1.12458318e-03,  7.02370703e-03,\n",
       "        -1.50200464e-02,  3.16459686e-04, -2.64188461e-03,  2.41634902e-04,\n",
       "        -8.07204284e-04,  4.03802842e-03, -1.27100432e-02, -7.07216654e-03,\n",
       "        -1.92550570e-03, -1.38174873e-02,  3.45704518e-03, -3.68590700e-04,\n",
       "         6.61909766e-03, -6.38097525e-04, -7.07962550e-03, -4.18723375e-03,\n",
       "        -7.40644522e-04, -8.90838727e-03, -4.22680192e-03,  3.59383505e-03,\n",
       "        -1.68390572e-03,  4.39559110e-03,  2.33246572e-03, -5.74750826e-03,\n",
       "        -9.56132542e-04,  5.73892146e-04,  7.33172521e-04,  1.48641318e-03,\n",
       "         1.31829083e-03,  3.52985226e-04, -1.97224878e-03,  3.59123945e-03,\n",
       "         3.84451821e-03,  7.22519308e-03, -2.09463481e-03, -3.60193104e-03,\n",
       "         1.13647785e-02,  1.74528547e-03,  1.47728861e-05, -1.90299097e-03,\n",
       "        -3.85652436e-03, -6.51071128e-03,  9.07546654e-03,  2.18610046e-04,\n",
       "        -2.33704597e-03,  5.02441078e-04, -1.48037169e-03, -1.45650469e-03,\n",
       "         5.13008237e-03, -1.30546093e-03, -2.98924744e-03,  9.89034772e-04,\n",
       "         1.67634338e-03, -4.33144532e-03,  1.41657144e-03,  2.03727745e-04,\n",
       "        -2.76156352e-04, -2.77351681e-03, -5.05321473e-03, -1.85514018e-02,\n",
       "         8.29478726e-04, -1.32262241e-04, -2.63511762e-03,  9.52043105e-04,\n",
       "        -1.24660525e-02, -1.72441080e-03, -1.59804896e-03,  4.46916558e-04,\n",
       "         3.04269997e-06,  3.94930597e-04, -5.37799497e-06, -4.12025303e-03,\n",
       "         2.00024433e-03, -1.64782591e-02,  8.89413059e-04, -3.99660785e-05,\n",
       "        -4.69433423e-03, -1.80097297e-03,  8.27357173e-04,  1.85627956e-03,\n",
       "        -7.29122199e-04, -1.11939237e-02, -8.26982781e-04, -8.17727670e-03,\n",
       "         1.05327684e-02,  0.00000000e+00, -1.30425906e-05,  1.27188750e-02,\n",
       "         1.23474747e-03,  2.08704174e-03,  9.72942915e-04,  8.74971412e-03,\n",
       "        -2.32830644e-10, -2.90496368e-03,  8.50608759e-03, -3.70484591e-03,\n",
       "        -2.46342644e-03, -1.17746536e-02, -1.25151090e-02, -1.60895078e-03,\n",
       "         0.00000000e+00, -1.96191669e-03, -1.74751040e-03,  2.42826436e-03,\n",
       "        -3.43456306e-03,  9.32150707e-03, -3.87246162e-03, -1.05666369e-03,\n",
       "        -3.10758129e-03,  7.92587176e-03, -4.22273111e-03,  2.01372616e-03,\n",
       "        -4.53898683e-04,  2.07720837e-03, -3.77738103e-03,  3.72875948e-05,\n",
       "         0.00000000e+00, -1.91900600e-03,  2.00600177e-03,  2.17474997e-04,\n",
       "         2.98280269e-04, -3.04978713e-03, -1.47558632e-04, -8.13797116e-04,\n",
       "         5.67849958e-03,  4.99699730e-04, -7.14397058e-04,  5.23211621e-03,\n",
       "        -1.86694833e-03,  1.87436119e-03,  3.43668647e-03,  6.04048371e-04,\n",
       "        -6.67486340e-03,  1.01215253e-03,  6.32643327e-03, -1.27344858e-04,\n",
       "         1.40768811e-02,  3.46731395e-04, -1.83426775e-03,  2.59596668e-03,\n",
       "         9.50286165e-04,  2.04872526e-03,  7.94314221e-03,  2.95176357e-03,\n",
       "        -3.22397985e-03,  7.46525824e-04, -5.46161318e-05, -1.31124817e-03,\n",
       "        -8.21701018e-04, -3.05980153e-04,  1.31368451e-03, -1.73953176e-03],\n",
       "       dtype=float32)>,\n",
       " <tf.Tensor: shape=(256, 1), dtype=float32, numpy=\n",
       " array([[ 0.01356338],\n",
       "        [-0.03832347],\n",
       "        [ 0.00120024],\n",
       "        [ 0.00455471],\n",
       "        [-0.00479011],\n",
       "        [ 0.00574518],\n",
       "        [-0.02030249],\n",
       "        [ 0.03086347],\n",
       "        [ 0.01128069],\n",
       "        [ 0.00267146],\n",
       "        [-0.00344873],\n",
       "        [-0.00850788],\n",
       "        [ 0.00543369],\n",
       "        [ 0.0052081 ],\n",
       "        [ 0.00465288],\n",
       "        [-0.0627787 ],\n",
       "        [ 0.04878188],\n",
       "        [ 0.00532539],\n",
       "        [-0.00397075],\n",
       "        [-0.00434287],\n",
       "        [ 0.0234731 ],\n",
       "        [ 0.02273801],\n",
       "        [ 0.00781305],\n",
       "        [-0.00026469],\n",
       "        [-0.00444043],\n",
       "        [ 0.049562  ],\n",
       "        [ 0.00163985],\n",
       "        [ 0.00813452],\n",
       "        [-0.02461843],\n",
       "        [-0.00464805],\n",
       "        [ 0.00837652],\n",
       "        [ 0.0006075 ],\n",
       "        [-0.03643172],\n",
       "        [-0.00596534],\n",
       "        [-0.04371288],\n",
       "        [ 0.00756305],\n",
       "        [-0.03536554],\n",
       "        [ 0.01073765],\n",
       "        [ 0.02545118],\n",
       "        [-0.01585855],\n",
       "        [-0.00795816],\n",
       "        [ 0.00384768],\n",
       "        [-0.01068717],\n",
       "        [-0.04111769],\n",
       "        [ 0.00717644],\n",
       "        [-0.00428184],\n",
       "        [-0.0205818 ],\n",
       "        [-0.0005861 ],\n",
       "        [-0.02498559],\n",
       "        [ 0.00890888],\n",
       "        [ 0.00722613],\n",
       "        [-0.06698236],\n",
       "        [ 0.00485778],\n",
       "        [-0.02854548],\n",
       "        [-0.00978245],\n",
       "        [-0.0342088 ],\n",
       "        [-0.0052954 ],\n",
       "        [-0.01754121],\n",
       "        [-0.001094  ],\n",
       "        [-0.00767494],\n",
       "        [-0.00612437],\n",
       "        [-0.00067998],\n",
       "        [-0.02198325],\n",
       "        [-0.01148691],\n",
       "        [ 0.00275749],\n",
       "        [ 0.03613569],\n",
       "        [ 0.01818425],\n",
       "        [-0.0215525 ],\n",
       "        [-0.01696057],\n",
       "        [ 0.00762295],\n",
       "        [ 0.01086122],\n",
       "        [-0.01433898],\n",
       "        [ 0.0031363 ],\n",
       "        [ 0.00240576],\n",
       "        [-0.03909235],\n",
       "        [ 0.00773527],\n",
       "        [-0.00780783],\n",
       "        [ 0.00361179],\n",
       "        [ 0.00887064],\n",
       "        [-0.00115652],\n",
       "        [-0.00308545],\n",
       "        [-0.01024062],\n",
       "        [ 0.0016675 ],\n",
       "        [-0.00219611],\n",
       "        [-0.03125496],\n",
       "        [ 0.01620385],\n",
       "        [-0.02118848],\n",
       "        [ 0.00621911],\n",
       "        [ 0.00366269],\n",
       "        [ 0.01313674],\n",
       "        [ 0.0022248 ],\n",
       "        [ 0.00996039],\n",
       "        [ 0.00052305],\n",
       "        [-0.00038334],\n",
       "        [-0.00145021],\n",
       "        [ 0.0076799 ],\n",
       "        [ 0.00479332],\n",
       "        [-0.0017239 ],\n",
       "        [-0.03220364],\n",
       "        [ 0.02759203],\n",
       "        [ 0.00456307],\n",
       "        [ 0.00233016],\n",
       "        [ 0.02450892],\n",
       "        [ 0.02157659],\n",
       "        [-0.02432439],\n",
       "        [-0.00607995],\n",
       "        [ 0.00194275],\n",
       "        [-0.00911025],\n",
       "        [-0.00766653],\n",
       "        [ 0.02270304],\n",
       "        [ 0.02493972],\n",
       "        [ 0.02071849],\n",
       "        [-0.03049444],\n",
       "        [-0.05019245],\n",
       "        [-0.00207575],\n",
       "        [-0.00525874],\n",
       "        [ 0.0251273 ],\n",
       "        [-0.00048857],\n",
       "        [-0.00828381],\n",
       "        [ 0.01080181],\n",
       "        [-0.00645743],\n",
       "        [ 0.02907389],\n",
       "        [ 0.00665914],\n",
       "        [ 0.00045648],\n",
       "        [ 0.01009297],\n",
       "        [-0.01035387],\n",
       "        [ 0.01501683],\n",
       "        [-0.01682873],\n",
       "        [ 0.00204773],\n",
       "        [-0.00058662],\n",
       "        [ 0.00371538],\n",
       "        [ 0.01437619],\n",
       "        [ 0.00615699],\n",
       "        [ 0.00050726],\n",
       "        [ 0.00724986],\n",
       "        [-0.00415967],\n",
       "        [-0.00463312],\n",
       "        [-0.01669734],\n",
       "        [ 0.00661991],\n",
       "        [ 0.0095676 ],\n",
       "        [-0.02297979],\n",
       "        [-0.00072908],\n",
       "        [ 0.01450901],\n",
       "        [ 0.00592386],\n",
       "        [-0.0147847 ],\n",
       "        [-0.00832016],\n",
       "        [-0.01810867],\n",
       "        [-0.00388631],\n",
       "        [ 0.02509056],\n",
       "        [-0.00188465],\n",
       "        [ 0.00805223],\n",
       "        [ 0.01694562],\n",
       "        [-0.03292921],\n",
       "        [ 0.01916718],\n",
       "        [-0.02177614],\n",
       "        [-0.00472712],\n",
       "        [-0.00480375],\n",
       "        [-0.0139288 ],\n",
       "        [ 0.00068424],\n",
       "        [ 0.00322378],\n",
       "        [-0.00873327],\n",
       "        [-0.02341873],\n",
       "        [ 0.01382978],\n",
       "        [-0.05255152],\n",
       "        [-0.00032366],\n",
       "        [ 0.0061387 ],\n",
       "        [ 0.00640426],\n",
       "        [-0.00289947],\n",
       "        [ 0.01955198],\n",
       "        [ 0.00293765],\n",
       "        [-0.0001033 ],\n",
       "        [-0.00039155],\n",
       "        [-0.02097623],\n",
       "        [-0.00698189],\n",
       "        [-0.00250364],\n",
       "        [ 0.01422291],\n",
       "        [ 0.03284848],\n",
       "        [ 0.0522142 ],\n",
       "        [-0.03451944],\n",
       "        [-0.00520067],\n",
       "        [-0.05115225],\n",
       "        [-0.00415549],\n",
       "        [ 0.00784124],\n",
       "        [ 0.02240463],\n",
       "        [-0.00453452],\n",
       "        [-0.02494539],\n",
       "        [ 0.00111207],\n",
       "        [-0.01249398],\n",
       "        [-0.00795702],\n",
       "        [-0.00734284],\n",
       "        [-0.00064785],\n",
       "        [-0.01448133],\n",
       "        [ 0.01360789],\n",
       "        [-0.00587024],\n",
       "        [ 0.00088246],\n",
       "        [-0.01500995],\n",
       "        [-0.00136242],\n",
       "        [-0.0006843 ],\n",
       "        [ 0.00995027],\n",
       "        [-0.04055834],\n",
       "        [-0.00875324],\n",
       "        [-0.05110087],\n",
       "        [ 0.04196037],\n",
       "        [ 0.0135401 ],\n",
       "        [-0.00256299],\n",
       "        [-0.00208254],\n",
       "        [ 0.00135406],\n",
       "        [ 0.00213224],\n",
       "        [ 0.01744591],\n",
       "        [ 0.01965727],\n",
       "        [ 0.01782741],\n",
       "        [ 0.00620174],\n",
       "        [ 0.01582019],\n",
       "        [-0.01005293],\n",
       "        [ 0.01238129],\n",
       "        [ 0.00068994],\n",
       "        [ 0.0004468 ],\n",
       "        [ 0.01411436],\n",
       "        [ 0.00821837],\n",
       "        [ 0.01180484],\n",
       "        [-0.01095308],\n",
       "        [-0.00469261],\n",
       "        [-0.0231394 ],\n",
       "        [-0.01604757],\n",
       "        [-0.01108924],\n",
       "        [ 0.00849573],\n",
       "        [-0.00083889],\n",
       "        [-0.00451077],\n",
       "        [ 0.00846455],\n",
       "        [-0.01305254],\n",
       "        [-0.00179794],\n",
       "        [-0.00167436],\n",
       "        [ 0.00947988],\n",
       "        [-0.00150542],\n",
       "        [ 0.00311597],\n",
       "        [ 0.01316411],\n",
       "        [ 0.01586369],\n",
       "        [ 0.0228746 ],\n",
       "        [-0.03871648],\n",
       "        [ 0.00961902],\n",
       "        [-0.01468435],\n",
       "        [ 0.00666891],\n",
       "        [ 0.01159844],\n",
       "        [ 0.02578867],\n",
       "        [ 0.01973202],\n",
       "        [ 0.00798325],\n",
       "        [-0.02230648],\n",
       "        [-0.02383092],\n",
       "        [-0.00891534],\n",
       "        [-0.00146043],\n",
       "        [ 0.00046858],\n",
       "        [-0.00260505],\n",
       "        [ 0.01068297],\n",
       "        [-0.01004066],\n",
       "        [-0.0111556 ],\n",
       "        [ 0.00846067]], dtype=float32)>,\n",
       " <tf.Tensor: shape=(1,), dtype=float32, numpy=array([0.], dtype=float32)>]"
      ]
     },
     "execution_count": 143,
     "metadata": {},
     "output_type": "execute_result"
    }
   ],
   "source": [
    "grad"
   ]
  },
  {
   "cell_type": "code",
   "execution_count": 133,
   "metadata": {
    "ExecuteTime": {
     "end_time": "2020-04-05T18:41:13.941586Z",
     "start_time": "2020-04-05T18:41:13.937755Z"
    }
   },
   "outputs": [
    {
     "data": {
      "text/plain": [
       "tensor([[ 8.8448e-04,  2.8330e-04, -6.6188e-05,  ..., -2.1064e-04,\n",
       "          2.9921e-04, -9.0573e-05],\n",
       "        [ 2.7839e-03,  1.4679e-04,  1.4376e-03,  ..., -2.9064e-04,\n",
       "          1.1271e-03, -5.3652e-04],\n",
       "        [-3.1084e-03,  4.0420e-04,  6.2632e-05,  ...,  6.1702e-04,\n",
       "         -4.4518e-04,  9.5357e-04],\n",
       "        ...,\n",
       "        [ 7.6237e-03, -8.0289e-05,  9.4811e-04,  ..., -1.8750e-03,\n",
       "          2.5338e-03, -2.6250e-03],\n",
       "        [-7.6603e-04,  1.4471e-05, -2.2797e-04,  ...,  9.3842e-05,\n",
       "         -3.1771e-04,  1.4563e-04],\n",
       "        [ 2.2829e-03, -4.1431e-05,  3.8710e-04,  ..., -3.1488e-04,\n",
       "          3.8208e-04, -1.2089e-03]])"
      ]
     },
     "execution_count": 133,
     "metadata": {},
     "output_type": "execute_result"
    }
   ],
   "source": [
    "t_critic.seq[0].weight.grad"
   ]
  },
  {
   "cell_type": "code",
   "execution_count": 427,
   "metadata": {
    "ExecuteTime": {
     "end_time": "2020-04-05T18:41:18.881224Z",
     "start_time": "2020-04-05T18:41:18.876451Z"
    }
   },
   "outputs": [],
   "source": [
    "optimizerD.step()"
   ]
  },
  {
   "cell_type": "code",
   "execution_count": 428,
   "metadata": {
    "ExecuteTime": {
     "end_time": "2020-04-05T18:41:19.584917Z",
     "start_time": "2020-04-05T18:41:19.574689Z"
    }
   },
   "outputs": [
    {
     "data": {
      "text/plain": [
       "Parameter containing:\n",
       "tensor([[-0.0084,  0.0095, -0.0161,  ...,  0.0129, -0.0152,  0.0041],\n",
       "        [-0.0060, -0.0086,  0.0018,  ...,  0.0002,  0.0185,  0.0077],\n",
       "        [-0.0010,  0.0117,  0.0085,  ..., -0.0044, -0.0011, -0.0188],\n",
       "        ...,\n",
       "        [-0.0051,  0.0191, -0.0106,  ...,  0.0106, -0.0060, -0.0164],\n",
       "        [-0.0182,  0.0036, -0.0121,  ..., -0.0116, -0.0085,  0.0102],\n",
       "        [ 0.0094, -0.0041,  0.0078,  ...,  0.0011, -0.0084,  0.0101]],\n",
       "       requires_grad=True)"
      ]
     },
     "execution_count": 428,
     "metadata": {},
     "output_type": "execute_result"
    }
   ],
   "source": [
    "t_critic.seq[0].weight"
   ]
  },
  {
   "cell_type": "code",
   "execution_count": 369,
   "metadata": {
    "ExecuteTime": {
     "end_time": "2020-04-05T18:05:35.217145Z",
     "start_time": "2020-04-05T18:05:35.190071Z"
    }
   },
   "outputs": [
    {
     "data": {
      "text/plain": [
       "<tf.Variable 'UnreadVariable' shape=() dtype=int64, numpy=1>"
      ]
     },
     "execution_count": 369,
     "metadata": {},
     "output_type": "execute_result"
    }
   ],
   "source": [
    "c_opt.apply_gradients(zip(grad, critic.trainable_variables))"
   ]
  },
  {
   "cell_type": "code",
   "execution_count": 370,
   "metadata": {
    "ExecuteTime": {
     "end_time": "2020-04-05T18:05:36.442939Z",
     "start_time": "2020-04-05T18:05:36.427454Z"
    },
    "scrolled": true
   },
   "outputs": [
    {
     "data": {
      "text/plain": [
       "[array([[ 0.01023991,  0.01164333,  0.01967265, ..., -0.0029608 ,\n",
       "         -0.01577247, -0.01232242],\n",
       "        [ 0.0020458 ,  0.00827675, -0.01398748, ..., -0.00581037,\n",
       "          0.01713137,  0.01343718],\n",
       "        [ 0.0022137 , -0.0010304 , -0.00381926, ..., -0.00229566,\n",
       "         -0.00956469,  0.01083299],\n",
       "        ...,\n",
       "        [-0.01061529, -0.01496025,  0.01195158, ...,  0.0071358 ,\n",
       "          0.01354668,  0.01584167],\n",
       "        [-0.00725519, -0.01508712,  0.00363221, ...,  0.0157443 ,\n",
       "         -0.00718683, -0.00604033],\n",
       "        [-0.01532289,  0.01551268,  0.01024026, ..., -0.00608184,\n",
       "          0.0070595 ,  0.01016369]], dtype=float32),\n",
       " array([ 0.01689404,  0.00203425, -0.00763287, -0.00127543,  0.00965699,\n",
       "        -0.0128711 ,  0.01495593,  0.0089529 ,  0.00779017, -0.01565008,\n",
       "         0.00789427,  0.01306982, -0.01351094, -0.00567817, -0.00166103,\n",
       "         0.00360035, -0.00595557,  0.00651611,  0.00474073, -0.00739698,\n",
       "         0.01519718,  0.01776695, -0.01098582, -0.01950295,  0.00156946,\n",
       "        -0.00578675,  0.00236242, -0.0082525 ,  0.0113817 , -0.01584086,\n",
       "         0.00056978,  0.01919159, -0.00132014, -0.01466005,  0.01037195,\n",
       "         0.00185658,  0.00934748,  0.01743558, -0.01788034,  0.01487748,\n",
       "        -0.0101861 ,  0.0173047 , -0.00485146, -0.01051193,  0.01838711,\n",
       "        -0.00257788, -0.01171947, -0.01040713,  0.01948119,  0.00940663,\n",
       "        -0.01605842,  0.01896401,  0.01634734,  0.00464881,  0.00101887,\n",
       "         0.01631613, -0.00700103, -0.01294386,  0.00185776,  0.00342297,\n",
       "        -0.00047205, -0.01439675,  0.00176511, -0.01656746, -0.00937142,\n",
       "        -0.0012414 ,  0.00034343, -0.01660809,  0.00413905, -0.00265592,\n",
       "        -0.00021544,  0.00860972, -0.01316578,  0.00505976,  0.00364772,\n",
       "        -0.01630854, -0.01307918, -0.00882706,  0.00627521, -0.01821037,\n",
       "         0.01370742, -0.01046437, -0.00225474,  0.00494062, -0.01382761,\n",
       "        -0.01056845,  0.00489453,  0.01663063,  0.00327633,  0.00887607,\n",
       "        -0.01118193, -0.01270769,  0.00964691, -0.01863179,  0.01214049,\n",
       "         0.01427797, -0.0029456 , -0.01212642, -0.00887159, -0.00242565,\n",
       "        -0.0110883 ,  0.01555027, -0.00910487, -0.01107718,  0.01597359,\n",
       "        -0.0047334 , -0.01220434, -0.01159209, -0.01795276, -0.01091984,\n",
       "        -0.00441946, -0.01013409, -0.00302998, -0.0160495 , -0.01436564,\n",
       "        -0.01170727,  0.00899903,  0.0065566 ,  0.0100827 , -0.01686013,\n",
       "         0.01373659,  0.0132179 , -0.00690513,  0.00904739, -0.0114912 ,\n",
       "         0.01718461,  0.01865576, -0.01319576, -0.00435151,  0.00457301,\n",
       "         0.01426004,  0.00425324,  0.00994376,  0.01235222, -0.01164324,\n",
       "         0.01599609,  0.01888526, -0.00755591,  0.0074723 ,  0.00399388,\n",
       "         0.00893685,  0.00976381, -0.0193106 , -0.01435483, -0.01232335,\n",
       "        -0.01380605, -0.00307262,  0.01077758, -0.00303645,  0.01537836,\n",
       "         0.0182222 ,  0.01802284, -0.01104944, -0.00847493, -0.01956921,\n",
       "        -0.01834427, -0.00898181, -0.01128965, -0.01838232,  0.00784729,\n",
       "        -0.00810341, -0.0012101 ,  0.00400406,  0.0029383 ,  0.00158842,\n",
       "        -0.00202124,  0.01797728,  0.00440613,  0.01968161,  0.01004001,\n",
       "        -0.00472136,  0.0143989 ,  0.00575792, -0.00292137, -0.00785044,\n",
       "        -0.00686375,  0.01691121, -0.00363712,  0.01273274,  0.01531985,\n",
       "         0.00895478,  0.00537741,  0.01475937,  0.00919758, -0.01529572,\n",
       "        -0.00613053,  0.00883771, -0.01770891, -0.00235841, -0.00877452,\n",
       "         0.0064697 , -0.01248162, -0.01223446,  0.01542368, -0.01245506,\n",
       "         0.00555662, -0.00248676, -0.00076844, -0.01625791,  0.0130909 ,\n",
       "         0.00453595,  0.00773401,  0.00071507, -0.01794044, -0.00223515,\n",
       "         0.00454409,  0.01768674,  0.01003035, -0.00788135, -0.01887135,\n",
       "        -0.00701533, -0.00307847,  0.01030349,  0.00921267, -0.01722125,\n",
       "        -0.00100166,  0.00083093,  0.00299167,  0.01307915, -0.00238588,\n",
       "         0.01715796,  0.01562566, -0.00699858,  0.01153823,  0.00478539,\n",
       "        -0.00823581, -0.0130493 ,  0.01696882, -0.0057579 , -0.01256724,\n",
       "         0.00605664, -0.00041573,  0.00755628, -0.01804659, -0.01054796,\n",
       "        -0.00816419,  0.00450902, -0.01598766,  0.01050672,  0.01071193,\n",
       "        -0.01018785, -0.01321177, -0.01548357,  0.00741195,  0.00558301,\n",
       "         0.00862532,  0.01337664,  0.0135725 ,  0.01290104, -0.01435131,\n",
       "         0.01115399,  0.00573275, -0.01130627, -0.00156737, -0.01963288,\n",
       "         0.01854304], dtype=float32)]"
      ]
     },
     "execution_count": 370,
     "metadata": {},
     "output_type": "execute_result"
    }
   ],
   "source": [
    "critic.layers[2].get_weights()"
   ]
  },
  {
   "cell_type": "code",
   "execution_count": 373,
   "metadata": {
    "ExecuteTime": {
     "end_time": "2020-04-05T18:21:41.502343Z",
     "start_time": "2020-04-05T18:21:41.491083Z"
    }
   },
   "outputs": [
    {
     "data": {
      "text/plain": [
       "0.010239904726065846"
      ]
     },
     "execution_count": 373,
     "metadata": {},
     "output_type": "execute_result"
    }
   ],
   "source": [
    "a = 2e-4\n",
    "e = 1e-08\n",
    "b1 = 0.5\n",
    "b2 = 0.9\n",
    "m0 = 0\n",
    "v0 = 0\n",
    "t = 0\n",
    "\n",
    "t = t+1\n",
    "\n",
    "gt = 4.23174963e-04\n",
    "mt = b1 * m0 + (1-b1)*gt\n",
    "vt = b2 * v0 + (1-b2) * gt**2\n",
    "mt_hat = mt / (1 - b1**t)\n",
    "vt_hat = vt / (1 - b2**t)\n",
    "teta_t_1 = 0.0104399\n",
    "teta_t = teta_t_1 - a * mt_hat / (math.sqrt(vt_hat) + e)\n",
    "teta_t"
   ]
  },
  {
   "cell_type": "markdown",
   "metadata": {},
   "source": [
    "# Weights analysis"
   ]
  },
  {
   "cell_type": "code",
   "execution_count": 42,
   "metadata": {
    "ExecuteTime": {
     "end_time": "2020-04-05T16:04:39.187698Z",
     "start_time": "2020-04-05T16:04:39.176417Z"
    }
   },
   "outputs": [
    {
     "name": "stdout",
     "output_type": "stream",
     "text": [
      "Model: \"Generator\"\n",
      "_________________________________________________________________\n",
      "Layer (type)                 Output Shape              Param #   \n",
      "=================================================================\n",
      "input_4 (InputLayer)         [(None, 232)]             0         \n",
      "_________________________________________________________________\n",
      "new_residual_layer (NewResid (None, 488)               60672     \n",
      "_________________________________________________________________\n",
      "new_residual_layer_1 (NewRes (None, 744)               126208    \n",
      "_________________________________________________________________\n",
      "dense_4 (Dense)              (None, 157)               116965    \n",
      "=================================================================\n",
      "Total params: 303,845\n",
      "Trainable params: 302,821\n",
      "Non-trainable params: 1,024\n",
      "_________________________________________________________________\n"
     ]
    }
   ],
   "source": [
    "generator.summary()"
   ]
  },
  {
   "cell_type": "code",
   "execution_count": 429,
   "metadata": {
    "ExecuteTime": {
     "end_time": "2020-04-05T18:43:19.029787Z",
     "start_time": "2020-04-05T18:43:19.016227Z"
    }
   },
   "outputs": [
    {
     "name": "stdout",
     "output_type": "stream",
     "text": [
      "Model: \"Critic\"\n",
      "_________________________________________________________________\n",
      "Layer (type)                 Output Shape              Param #   \n",
      "=================================================================\n",
      "input_23 (InputLayer)        [(None, 261)]             0         \n",
      "_________________________________________________________________\n",
      "tf_op_layer_Reshape_11 (Tens [(None, 2610)]            0         \n",
      "_________________________________________________________________\n",
      "dense_42 (Dense)             (None, 256)               668416    \n",
      "_________________________________________________________________\n",
      "leaky_re_lu_22 (LeakyReLU)   (None, 256)               0         \n",
      "_________________________________________________________________\n",
      "dropout_22 (Dropout)         (None, 256)               0         \n",
      "_________________________________________________________________\n",
      "dense_43 (Dense)             (None, 256)               65792     \n",
      "_________________________________________________________________\n",
      "leaky_re_lu_23 (LeakyReLU)   (None, 256)               0         \n",
      "_________________________________________________________________\n",
      "dropout_23 (Dropout)         (None, 256)               0         \n",
      "_________________________________________________________________\n",
      "dense_44 (Dense)             (None, 1)                 257       \n",
      "=================================================================\n",
      "Total params: 734,465\n",
      "Trainable params: 734,465\n",
      "Non-trainable params: 0\n",
      "_________________________________________________________________\n"
     ]
    }
   ],
   "source": [
    "critic.summary()"
   ]
  },
  {
   "cell_type": "code",
   "execution_count": 430,
   "metadata": {
    "ExecuteTime": {
     "end_time": "2020-04-05T18:43:32.050938Z",
     "start_time": "2020-04-05T18:43:32.043826Z"
    },
    "scrolled": true
   },
   "outputs": [
    {
     "data": {
      "text/plain": [
       "Discriminator(\n",
       "  (seq): Sequential(\n",
       "    (0): Linear(in_features=2610, out_features=256, bias=True)\n",
       "    (1): LeakyReLU(negative_slope=0.2)\n",
       "    (2): Dropout(p=0.5, inplace=False)\n",
       "    (3): Linear(in_features=256, out_features=256, bias=True)\n",
       "    (4): LeakyReLU(negative_slope=0.2)\n",
       "    (5): Dropout(p=0.5, inplace=False)\n",
       "    (6): Linear(in_features=256, out_features=1, bias=True)\n",
       "  )\n",
       ")"
      ]
     },
     "execution_count": 430,
     "metadata": {},
     "output_type": "execute_result"
    }
   ],
   "source": [
    "t_critic"
   ]
  },
  {
   "cell_type": "code",
   "execution_count": 230,
   "metadata": {
    "ExecuteTime": {
     "end_time": "2020-04-05T17:19:17.000563Z",
     "start_time": "2020-04-05T17:19:16.991698Z"
    }
   },
   "outputs": [
    {
     "data": {
      "text/plain": [
       "Dropout(p=0.5, inplace=False)"
      ]
     },
     "execution_count": 230,
     "metadata": {},
     "output_type": "execute_result"
    }
   ],
   "source": [
    "t_critic.seq[2]"
   ]
  },
  {
   "cell_type": "code",
   "execution_count": 223,
   "metadata": {
    "ExecuteTime": {
     "end_time": "2020-04-05T17:18:30.051360Z",
     "start_time": "2020-04-05T17:18:30.034346Z"
    },
    "scrolled": true
   },
   "outputs": [
    {
     "data": {
      "text/plain": [
       "{'training': True, '_parameters': OrderedDict([('weight', Parameter containing:\n",
       "               tensor([[ 0.0321, -0.0210, -0.0292,  ..., -0.0442, -0.0548, -0.0533],\n",
       "                       [ 0.0163, -0.0244, -0.0453,  ..., -0.0620,  0.0426,  0.0186],\n",
       "                       [-0.0309,  0.0498,  0.0440,  ...,  0.0140, -0.0274, -0.0631],\n",
       "                       ...,\n",
       "                       [-0.0633, -0.0458, -0.0442,  ...,  0.0272,  0.0087,  0.0544],\n",
       "                       [-0.0562, -0.0516,  0.0057,  ..., -0.0579, -0.0136,  0.0151],\n",
       "                       [-0.0354,  0.0062, -0.0506,  ..., -0.0583,  0.0075, -0.0525]],\n",
       "                      requires_grad=True)), ('bias', Parameter containing:\n",
       "               tensor([-0.0456,  0.0136, -0.0099, -0.0207,  0.0614,  0.0270, -0.0398,  0.0073,\n",
       "                       -0.0231,  0.0609,  0.0078,  0.0114,  0.0619, -0.0558,  0.0586, -0.0359,\n",
       "                        0.0387,  0.0053,  0.0514,  0.0602, -0.0121, -0.0345,  0.0118,  0.0539,\n",
       "                        0.0347, -0.0526, -0.0229, -0.0489, -0.0038,  0.0415, -0.0218, -0.0336,\n",
       "                        0.0441, -0.0654, -0.0064,  0.0215, -0.0041, -0.0057,  0.0483,  0.0107,\n",
       "                       -0.0031, -0.0542, -0.0077,  0.0475,  0.0488, -0.0642,  0.0018, -0.0194,\n",
       "                        0.0324,  0.0649, -0.0633, -0.0370, -0.0600,  0.0040, -0.0300,  0.0271,\n",
       "                        0.0567,  0.0102,  0.0373, -0.0482, -0.0618, -0.0198,  0.0420, -0.0079,\n",
       "                       -0.0365, -0.0232,  0.0142, -0.0294, -0.0163, -0.0560,  0.0641,  0.0455,\n",
       "                       -0.0273, -0.0612,  0.0601, -0.0454,  0.0018, -0.0130, -0.0539, -0.0610,\n",
       "                        0.0134, -0.0259, -0.0194,  0.0028, -0.0298, -0.0417,  0.0234,  0.0566,\n",
       "                        0.0492, -0.0568, -0.0396,  0.0243,  0.0304,  0.0417,  0.0004,  0.0569,\n",
       "                       -0.0333,  0.0322,  0.0243,  0.0333, -0.0139, -0.0033,  0.0593, -0.0389,\n",
       "                       -0.0403, -0.0498,  0.0463, -0.0337, -0.0277, -0.0562, -0.0506,  0.0115,\n",
       "                       -0.0318, -0.0122,  0.0353, -0.0246, -0.0631,  0.0635,  0.0434, -0.0187,\n",
       "                        0.0228,  0.0479, -0.0499, -0.0497, -0.0370, -0.0549, -0.0332, -0.0202,\n",
       "                       -0.0489,  0.0525, -0.0402,  0.0555, -0.0489,  0.0108, -0.0133,  0.0078,\n",
       "                       -0.0265,  0.0454, -0.0066, -0.0189,  0.0025, -0.0256, -0.0272,  0.0397,\n",
       "                       -0.0124, -0.0115, -0.0420,  0.0075,  0.0287, -0.0072,  0.0091, -0.0477,\n",
       "                        0.0136, -0.0088, -0.0082, -0.0400,  0.0027, -0.0536, -0.0389,  0.0174,\n",
       "                       -0.0464,  0.0045,  0.0413, -0.0643,  0.0167,  0.0574, -0.0063, -0.0619,\n",
       "                        0.0635,  0.0598,  0.0056,  0.0149, -0.0437,  0.0103,  0.0552,  0.0211,\n",
       "                       -0.0459, -0.0231,  0.0625, -0.0523, -0.0605,  0.0394,  0.0182, -0.0573,\n",
       "                       -0.0441, -0.0598, -0.0115,  0.0584, -0.0027, -0.0140,  0.0049,  0.0366,\n",
       "                        0.0441, -0.0536, -0.0342, -0.0436, -0.0302, -0.0362,  0.0350,  0.0160,\n",
       "                       -0.0065,  0.0074,  0.0265, -0.0097, -0.0645, -0.0106, -0.0016, -0.0211,\n",
       "                        0.0364, -0.0598,  0.0320,  0.0218,  0.0122,  0.0475, -0.0069, -0.0304,\n",
       "                        0.0399, -0.0053, -0.0393,  0.0279, -0.0247,  0.0619, -0.0512,  0.0140,\n",
       "                       -0.0586,  0.0423, -0.0354,  0.0373, -0.0061, -0.0424,  0.0650,  0.0579,\n",
       "                        0.0273,  0.0031,  0.0469,  0.0006, -0.0177, -0.0325, -0.0355, -0.0524,\n",
       "                        0.0254,  0.0030, -0.0584, -0.0151,  0.0473,  0.0556,  0.0181,  0.0328,\n",
       "                        0.0191, -0.0626, -0.0041,  0.0417, -0.0135, -0.0039,  0.0061, -0.0475],\n",
       "                      requires_grad=True))]), '_buffers': OrderedDict(), '_backward_hooks': OrderedDict(), '_forward_hooks': OrderedDict(), '_forward_pre_hooks': OrderedDict(), '_state_dict_hooks': OrderedDict(), '_load_state_dict_pre_hooks': OrderedDict(), '_modules': OrderedDict(), 'in_features': 232, 'out_features': 256}"
      ]
     },
     "execution_count": 223,
     "metadata": {},
     "output_type": "execute_result"
    }
   ],
   "source": [
    "t_gen.seq[0].fc.__dict__"
   ]
  },
  {
   "cell_type": "code",
   "execution_count": 19,
   "metadata": {
    "ExecuteTime": {
     "end_time": "2020-04-05T15:59:05.186095Z",
     "start_time": "2020-04-05T15:59:05.172231Z"
    },
    "scrolled": true
   },
   "outputs": [
    {
     "data": {
      "text/plain": [
       "Parameter containing:\n",
       "tensor([[ 0.0557,  0.0051,  0.0178,  ...,  0.0059, -0.0437,  0.0192],\n",
       "        [ 0.0598,  0.0122, -0.0496,  ..., -0.0309,  0.0007, -0.0353],\n",
       "        [-0.0426, -0.0476, -0.0007,  ..., -0.0435, -0.0279,  0.0050],\n",
       "        ...,\n",
       "        [-0.0433, -0.0627, -0.0525,  ...,  0.0386, -0.0249,  0.0096],\n",
       "        [ 0.0022, -0.0080,  0.0066,  ...,  0.0379,  0.0377, -0.0396],\n",
       "        [-0.0605,  0.0140,  0.0401,  ..., -0.0610, -0.0245,  0.0022]],\n",
       "       requires_grad=True)"
      ]
     },
     "execution_count": 19,
     "metadata": {},
     "output_type": "execute_result"
    }
   ],
   "source": [
    "t_gen.seq[0].fc.weight"
   ]
  },
  {
   "cell_type": "code",
   "execution_count": 20,
   "metadata": {
    "ExecuteTime": {
     "end_time": "2020-04-05T15:59:05.268548Z",
     "start_time": "2020-04-05T15:59:05.259876Z"
    }
   },
   "outputs": [
    {
     "data": {
      "text/plain": [
       "tensor(0.0656, grad_fn=<MaxBackward1>)"
      ]
     },
     "execution_count": 20,
     "metadata": {},
     "output_type": "execute_result"
    }
   ],
   "source": [
    "torch.max(t_gen.seq[0].fc.weight)"
   ]
  },
  {
   "cell_type": "code",
   "execution_count": 21,
   "metadata": {
    "ExecuteTime": {
     "end_time": "2020-04-05T15:59:05.357004Z",
     "start_time": "2020-04-05T15:59:05.349588Z"
    }
   },
   "outputs": [
    {
     "data": {
      "text/plain": [
       "tensor(-0.0656, grad_fn=<MinBackward1>)"
      ]
     },
     "execution_count": 21,
     "metadata": {},
     "output_type": "execute_result"
    }
   ],
   "source": [
    "torch.min(t_gen.seq[0].fc.weight)"
   ]
  },
  {
   "cell_type": "code",
   "execution_count": 22,
   "metadata": {
    "ExecuteTime": {
     "end_time": "2020-04-05T15:59:05.472287Z",
     "start_time": "2020-04-05T15:59:05.453349Z"
    }
   },
   "outputs": [
    {
     "data": {
      "text/plain": [
       "tensor(0.0649, grad_fn=<MaxBackward1>)"
      ]
     },
     "execution_count": 22,
     "metadata": {},
     "output_type": "execute_result"
    }
   ],
   "source": [
    "torch.max(t_gen.seq[0].fc.bias)"
   ]
  },
  {
   "cell_type": "code",
   "execution_count": 23,
   "metadata": {
    "ExecuteTime": {
     "end_time": "2020-04-05T15:59:05.593127Z",
     "start_time": "2020-04-05T15:59:05.583620Z"
    }
   },
   "outputs": [
    {
     "data": {
      "text/plain": [
       "tensor(-0.0647, grad_fn=<MinBackward1>)"
      ]
     },
     "execution_count": 23,
     "metadata": {},
     "output_type": "execute_result"
    }
   ],
   "source": [
    "torch.min(t_gen.seq[0].fc.bias)"
   ]
  },
  {
   "cell_type": "code",
   "execution_count": 57,
   "metadata": {
    "ExecuteTime": {
     "end_time": "2020-04-05T16:07:41.922338Z",
     "start_time": "2020-04-05T16:07:41.909086Z"
    }
   },
   "outputs": [
    {
     "data": {
      "text/plain": [
       "<tf.Variable 'new_residual_layer_2/dense_4/bias:0' shape=(256,) dtype=float32, numpy=\n",
       "array([ 3.95834520e-02,  4.45201620e-02, -6.20588660e-02, -1.14606805e-02,\n",
       "       -4.30193394e-02,  1.20168477e-02,  3.58882174e-02, -5.10992818e-02,\n",
       "        5.33343330e-02,  2.54857689e-02,  4.09751758e-02,  2.58846357e-02,\n",
       "        1.46324858e-02,  9.20889527e-03,  9.13396478e-04, -8.98681208e-03,\n",
       "       -1.52903013e-02,  5.06731123e-02, -1.67899616e-02,  5.98243326e-02,\n",
       "       -3.93688679e-05,  6.54381216e-02,  2.62883604e-02,  5.20920679e-02,\n",
       "        3.57714891e-02,  5.34080267e-02,  5.41621745e-02, -6.87585399e-03,\n",
       "       -1.82708390e-02,  3.64252105e-02, -2.54938155e-02, -4.53027263e-02,\n",
       "       -8.83751363e-03, -6.30356744e-02,  2.83373147e-03, -4.48373817e-02,\n",
       "       -1.44139230e-02, -3.06499265e-02,  1.17988661e-02, -2.56478079e-02,\n",
       "        4.73580062e-02,  3.81351635e-02,  3.14024910e-02,  2.74070874e-02,\n",
       "       -5.15160263e-02,  3.24527100e-02,  1.04488432e-02, -5.35535216e-02,\n",
       "       -2.04678401e-02,  6.46527410e-02,  5.00734374e-02, -3.58284563e-02,\n",
       "        1.33459568e-02, -2.07947828e-02,  3.63272950e-02, -9.67636704e-04,\n",
       "        3.60987335e-02, -1.21275447e-02, -3.09206545e-04, -4.77655977e-02,\n",
       "       -5.69520444e-02,  5.92987835e-02, -6.95707649e-03,  2.47706920e-02,\n",
       "       -3.66523638e-02, -7.87049159e-03, -9.01838392e-03,  2.81440616e-02,\n",
       "       -1.80181563e-02, -1.95717104e-02,  3.21586952e-02, -4.08298522e-02,\n",
       "       -5.83642051e-02,  6.47280961e-02,  2.38179639e-02,  4.39193696e-02,\n",
       "        2.19350532e-02, -1.30696930e-02, -5.39686382e-02, -3.95695418e-02,\n",
       "       -5.47081605e-03, -5.32961264e-02,  9.44699347e-03,  2.50227228e-02,\n",
       "        4.54530269e-02,  3.64728197e-02,  2.46242434e-02,  2.65652761e-02,\n",
       "       -2.76108757e-02,  2.95477062e-02, -4.72857691e-02, -4.20986488e-02,\n",
       "       -2.94500589e-03,  1.30392984e-02,  4.34465408e-02, -1.16312504e-02,\n",
       "        5.02798334e-02, -1.05021894e-02,  8.95171613e-03,  3.31638679e-02,\n",
       "       -3.20635289e-02,  2.82350928e-03, -4.04511131e-02, -2.71878690e-02,\n",
       "       -3.17877233e-02, -4.27992418e-02, -1.55064985e-02,  3.83674875e-02,\n",
       "        1.18985549e-02,  4.50906977e-02,  2.38969922e-02, -2.25530341e-02,\n",
       "       -3.42954211e-02, -2.19430849e-02,  4.15794104e-02,  1.03244931e-03,\n",
       "        1.74221843e-02, -4.36730832e-02, -4.27817591e-02,  5.29828444e-02,\n",
       "        3.71572822e-02, -1.28316134e-02, -4.44986373e-02,  2.97276899e-02,\n",
       "       -2.40778476e-02,  5.89477643e-02,  3.61100063e-02,  5.85668981e-02,\n",
       "        5.25671691e-02, -1.33225061e-02,  2.36357749e-03, -1.78292394e-05,\n",
       "        1.88234523e-02, -1.48295872e-02,  6.19974732e-02, -4.16119695e-02,\n",
       "       -1.62415281e-02, -5.66020757e-02,  3.26745138e-02, -1.97887532e-02,\n",
       "        1.99762136e-02,  2.28687823e-02, -4.70754281e-02, -1.62687972e-02,\n",
       "        2.21328884e-02,  2.22711042e-02, -7.14159384e-03, -4.80896235e-03,\n",
       "       -5.65411523e-02, -1.88733228e-02, -5.83265908e-02, -3.80559638e-02,\n",
       "        1.15578845e-02, -1.52830221e-02, -1.10482723e-02,  4.45654094e-02,\n",
       "       -1.80848688e-02, -3.19480412e-02, -2.98433006e-03,  6.64448738e-03,\n",
       "       -2.71417424e-02,  4.87737879e-02,  5.20090014e-02, -6.44282326e-02,\n",
       "       -3.59610841e-02, -1.22440159e-02, -6.10266477e-02, -2.43471749e-02,\n",
       "       -2.66275406e-02, -1.34816654e-02,  2.37218216e-02,  4.97327819e-02,\n",
       "        1.45148188e-02, -5.85339293e-02, -3.11858058e-02,  8.40569288e-03,\n",
       "       -7.01615214e-03, -2.64382362e-02,  2.84316540e-02,  1.89650357e-02,\n",
       "       -5.63847050e-02,  4.23521623e-02, -5.33651412e-02, -3.82285677e-02,\n",
       "        6.12949282e-02, -8.04996490e-03,  6.22670650e-02,  1.50565878e-02,\n",
       "       -3.25532928e-02, -4.53988686e-02, -1.17378682e-03, -1.62528157e-02,\n",
       "       -2.69171521e-02, -3.68158445e-02, -4.49364483e-02,  7.05262274e-03,\n",
       "       -5.18518277e-02, -4.44394201e-02,  2.32507288e-03, -3.90404090e-02,\n",
       "        2.97504291e-02, -5.76660372e-02,  6.32371008e-02, -5.77303395e-02,\n",
       "        2.07130611e-03, -1.27755925e-02, -4.87105623e-02, -1.63063183e-02,\n",
       "        1.27522647e-02,  4.73001227e-02,  1.36933997e-02, -4.04173657e-02,\n",
       "       -2.92544179e-02,  4.56088558e-02,  5.91970831e-02,  3.58257443e-02,\n",
       "        5.92544675e-02,  3.19694877e-02, -4.78507802e-02, -4.77948822e-02,\n",
       "        6.44164681e-02,  3.98628935e-02,  5.12109622e-02,  1.83624104e-02,\n",
       "        5.33857569e-02, -2.27714851e-02, -4.36844155e-02, -4.66248840e-02,\n",
       "        4.67099920e-02, -1.42996870e-02, -4.73392867e-02,  6.97695464e-03,\n",
       "       -3.99240181e-02, -3.33880633e-03, -1.82995312e-02, -8.23406130e-03,\n",
       "        3.77772152e-02, -1.89241618e-02,  8.53081048e-03, -3.79193425e-02,\n",
       "       -9.44811851e-03,  2.90800110e-02, -6.14452846e-02, -5.46522513e-02,\n",
       "       -3.61090824e-02,  1.53296515e-02,  3.60001996e-02, -4.59675118e-02,\n",
       "        4.90747318e-02, -1.99625939e-02, -1.15731470e-02,  2.72979289e-02,\n",
       "        1.75245404e-02,  2.19590962e-02, -8.30990076e-03,  3.50417942e-03],\n",
       "      dtype=float32)>"
      ]
     },
     "execution_count": 57,
     "metadata": {},
     "output_type": "execute_result"
    }
   ],
   "source": [
    "generator.layers[1]._layers[0]._trainable_weights[1]"
   ]
  },
  {
   "cell_type": "code",
   "execution_count": 52,
   "metadata": {
    "ExecuteTime": {
     "end_time": "2020-04-05T16:06:48.931095Z",
     "start_time": "2020-04-05T16:06:48.921514Z"
    }
   },
   "outputs": [
    {
     "data": {
      "text/plain": [
       "<tf.Tensor: shape=(), dtype=float32, numpy=0.06565292>"
      ]
     },
     "execution_count": 52,
     "metadata": {},
     "output_type": "execute_result"
    }
   ],
   "source": [
    "tf.math.reduce_max(generator.layers[1]._layers[0]._trainable_weights[0])"
   ]
  },
  {
   "cell_type": "code",
   "execution_count": 53,
   "metadata": {
    "ExecuteTime": {
     "end_time": "2020-04-05T16:08:12.126928Z",
     "start_time": "2020-04-05T16:08:12.117082Z"
    }
   },
   "outputs": [
    {
     "data": {
      "text/plain": [
       "<tf.Tensor: shape=(), dtype=float32, numpy=-0.06565309>"
      ]
     },
     "execution_count": 53,
     "metadata": {},
     "output_type": "execute_result"
    }
   ],
   "source": [
    "tf.math.reduce_min(generator.layers[1]._layers[0]._trainable_weights[0])"
   ]
  },
  {
   "cell_type": "code",
   "execution_count": 59,
   "metadata": {
    "ExecuteTime": {
     "end_time": "2020-04-05T16:08:12.126928Z",
     "start_time": "2020-04-05T16:08:12.117082Z"
    }
   },
   "outputs": [
    {
     "data": {
      "text/plain": [
       "<tf.Tensor: shape=(), dtype=float32, numpy=0.06543812>"
      ]
     },
     "execution_count": 59,
     "metadata": {},
     "output_type": "execute_result"
    }
   ],
   "source": [
    "tf.math.reduce_max(generator.layers[1]._layers[0]._trainable_weights[1])"
   ]
  },
  {
   "cell_type": "code",
   "execution_count": 60,
   "metadata": {
    "ExecuteTime": {
     "end_time": "2020-04-05T16:08:12.126928Z",
     "start_time": "2020-04-05T16:08:12.117082Z"
    }
   },
   "outputs": [
    {
     "data": {
      "text/plain": [
       "<tf.Tensor: shape=(), dtype=float32, numpy=-0.06442823>"
      ]
     },
     "execution_count": 60,
     "metadata": {},
     "output_type": "execute_result"
    }
   ],
   "source": [
    "tf.math.reduce_min(generator.layers[1]._layers[0]._trainable_weights[1])"
   ]
  },
  {
   "cell_type": "code",
   "execution_count": 107,
   "metadata": {
    "ExecuteTime": {
     "end_time": "2020-04-05T15:52:34.857253Z",
     "start_time": "2020-04-05T15:52:34.848800Z"
    }
   },
   "outputs": [
    {
     "data": {
      "text/plain": [
       "0.16081688022566923"
      ]
     },
     "execution_count": 107,
     "metadata": {},
     "output_type": "execute_result"
    }
   ],
   "source": [
    "import math\n",
    "math.sqrt(6/232)"
   ]
  },
  {
   "cell_type": "code",
   "execution_count": 110,
   "metadata": {
    "ExecuteTime": {
     "end_time": "2020-04-05T15:54:01.099658Z",
     "start_time": "2020-04-05T15:54:01.091265Z"
    }
   },
   "outputs": [
    {
     "data": {
      "text/plain": [
       "{'training': True,\n",
       " '_parameters': OrderedDict(),\n",
       " '_buffers': OrderedDict(),\n",
       " '_backward_hooks': OrderedDict(),\n",
       " '_forward_hooks': OrderedDict(),\n",
       " '_forward_pre_hooks': OrderedDict(),\n",
       " '_state_dict_hooks': OrderedDict(),\n",
       " '_load_state_dict_pre_hooks': OrderedDict(),\n",
       " '_modules': OrderedDict([('fc',\n",
       "               Linear(in_features=232, out_features=256, bias=True)),\n",
       "              ('bn',\n",
       "               BatchNorm1d(256, eps=1e-05, momentum=0.1, affine=True, track_running_stats=True)),\n",
       "              ('relu', ReLU())])}"
      ]
     },
     "execution_count": 110,
     "metadata": {},
     "output_type": "execute_result"
    }
   ],
   "source": [
    "t_gen.seq[0].__dict__"
   ]
  },
  {
   "cell_type": "code",
   "execution_count": 111,
   "metadata": {
    "ExecuteTime": {
     "end_time": "2020-04-05T15:54:54.931303Z",
     "start_time": "2020-04-05T15:54:54.922144Z"
    }
   },
   "outputs": [
    {
     "data": {
      "text/plain": [
       "tensor(0.0453, grad_fn=<MaxBackward1>)"
      ]
     },
     "execution_count": 111,
     "metadata": {},
     "output_type": "execute_result"
    }
   ],
   "source": [
    "torch.max(t_gen.seq[1].fc.weight)"
   ]
  },
  {
   "cell_type": "code",
   "execution_count": 114,
   "metadata": {
    "ExecuteTime": {
     "end_time": "2020-04-05T15:55:39.143878Z",
     "start_time": "2020-04-05T15:55:39.134844Z"
    }
   },
   "outputs": [
    {
     "data": {
      "text/plain": [
       "tensor(-0.0453, grad_fn=<MinBackward1>)"
      ]
     },
     "execution_count": 114,
     "metadata": {},
     "output_type": "execute_result"
    }
   ],
   "source": [
    "torch.min(t_gen.seq[1].fc.weight)"
   ]
  },
  {
   "cell_type": "code",
   "execution_count": 118,
   "metadata": {
    "ExecuteTime": {
     "end_time": "2020-04-05T15:57:46.704470Z",
     "start_time": "2020-04-05T15:57:46.695122Z"
    }
   },
   "outputs": [
    {
     "data": {
      "text/plain": [
       "(256, 488)"
      ]
     },
     "execution_count": 118,
     "metadata": {},
     "output_type": "execute_result"
    }
   ],
   "source": [
    "t_gen.seq[1].fc.weight.detach().numpy().shape"
   ]
  },
  {
   "cell_type": "code",
   "execution_count": 108,
   "metadata": {
    "ExecuteTime": {
     "end_time": "2020-04-05T16:08:21.519187Z",
     "start_time": "2020-04-05T16:08:19.675515Z"
    }
   },
   "outputs": [
    {
     "data": {
      "image/png": "[encoded data removed]",
      "text/plain": [
       "<Figure size 432x288 with 1 Axes>"
      ]
     },
     "metadata": {
      "needs_background": "light"
     },
     "output_type": "display_data"
    }
   ],
   "source": [
    "pd.DataFrame(generator.layers[1]._layers[0]._trainable_weights[0].numpy()[:,:50]).plot(kind='hist', legend=None)\n",
    "plt.show()"
   ]
  },
  {
   "cell_type": "code",
   "execution_count": 109,
   "metadata": {
    "ExecuteTime": {
     "end_time": "2020-04-05T16:00:03.690667Z",
     "start_time": "2020-04-05T16:00:02.273492Z"
    }
   },
   "outputs": [
    {
     "data": {
      "image/png": "[encoded data removed]",
      "text/plain": [
       "<Figure size 432x288 with 1 Axes>"
      ]
     },
     "metadata": {
      "needs_background": "light"
     },
     "output_type": "display_data"
    }
   ],
   "source": [
    "pd.DataFrame(t_gen.seq[1].fc.weight.detach().numpy()[:,:50]).plot(kind='hist', legend=None)\n",
    "plt.show()"
   ]
  },
  {
   "cell_type": "code",
   "execution_count": 30,
   "metadata": {
    "ExecuteTime": {
     "end_time": "2020-04-05T16:01:31.388188Z",
     "start_time": "2020-04-05T16:01:31.380711Z"
    }
   },
   "outputs": [
    {
     "data": {
      "text/plain": [
       "0.045267873021259265"
      ]
     },
     "execution_count": 30,
     "metadata": {},
     "output_type": "execute_result"
    }
   ],
   "source": [
    "math.sqrt(1/488)"
   ]
  },
  {
   "cell_type": "code",
   "execution_count": 165,
   "metadata": {
    "ExecuteTime": {
     "end_time": "2020-04-05T16:37:03.447328Z",
     "start_time": "2020-04-05T16:37:03.422577Z"
    },
    "scrolled": true
   },
   "outputs": [
    {
     "data": {
      "text/plain": [
       "{'training': True, '_parameters': OrderedDict([('weight', Parameter containing:\n",
       "               tensor([1., 1., 1., 1., 1., 1., 1., 1., 1., 1., 1., 1., 1., 1., 1., 1., 1., 1.,\n",
       "                       1., 1., 1., 1., 1., 1., 1., 1., 1., 1., 1., 1., 1., 1., 1., 1., 1., 1.,\n",
       "                       1., 1., 1., 1., 1., 1., 1., 1., 1., 1., 1., 1., 1., 1., 1., 1., 1., 1.,\n",
       "                       1., 1., 1., 1., 1., 1., 1., 1., 1., 1., 1., 1., 1., 1., 1., 1., 1., 1.,\n",
       "                       1., 1., 1., 1., 1., 1., 1., 1., 1., 1., 1., 1., 1., 1., 1., 1., 1., 1.,\n",
       "                       1., 1., 1., 1., 1., 1., 1., 1., 1., 1., 1., 1., 1., 1., 1., 1., 1., 1.,\n",
       "                       1., 1., 1., 1., 1., 1., 1., 1., 1., 1., 1., 1., 1., 1., 1., 1., 1., 1.,\n",
       "                       1., 1., 1., 1., 1., 1., 1., 1., 1., 1., 1., 1., 1., 1., 1., 1., 1., 1.,\n",
       "                       1., 1., 1., 1., 1., 1., 1., 1., 1., 1., 1., 1., 1., 1., 1., 1., 1., 1.,\n",
       "                       1., 1., 1., 1., 1., 1., 1., 1., 1., 1., 1., 1., 1., 1., 1., 1., 1., 1.,\n",
       "                       1., 1., 1., 1., 1., 1., 1., 1., 1., 1., 1., 1., 1., 1., 1., 1., 1., 1.,\n",
       "                       1., 1., 1., 1., 1., 1., 1., 1., 1., 1., 1., 1., 1., 1., 1., 1., 1., 1.,\n",
       "                       1., 1., 1., 1., 1., 1., 1., 1., 1., 1., 1., 1., 1., 1., 1., 1., 1., 1.,\n",
       "                       1., 1., 1., 1., 1., 1., 1., 1., 1., 1., 1., 1., 1., 1., 1., 1., 1., 1.,\n",
       "                       1., 1., 1., 1.], requires_grad=True)),\n",
       "              ('bias', Parameter containing:\n",
       "               tensor([0., 0., 0., 0., 0., 0., 0., 0., 0., 0., 0., 0., 0., 0., 0., 0., 0., 0., 0., 0., 0., 0., 0., 0.,\n",
       "                       0., 0., 0., 0., 0., 0., 0., 0., 0., 0., 0., 0., 0., 0., 0., 0., 0., 0., 0., 0., 0., 0., 0., 0.,\n",
       "                       0., 0., 0., 0., 0., 0., 0., 0., 0., 0., 0., 0., 0., 0., 0., 0., 0., 0., 0., 0., 0., 0., 0., 0.,\n",
       "                       0., 0., 0., 0., 0., 0., 0., 0., 0., 0., 0., 0., 0., 0., 0., 0., 0., 0., 0., 0., 0., 0., 0., 0.,\n",
       "                       0., 0., 0., 0., 0., 0., 0., 0., 0., 0., 0., 0., 0., 0., 0., 0., 0., 0., 0., 0., 0., 0., 0., 0.,\n",
       "                       0., 0., 0., 0., 0., 0., 0., 0., 0., 0., 0., 0., 0., 0., 0., 0., 0., 0., 0., 0., 0., 0., 0., 0.,\n",
       "                       0., 0., 0., 0., 0., 0., 0., 0., 0., 0., 0., 0., 0., 0., 0., 0., 0., 0., 0., 0., 0., 0., 0., 0.,\n",
       "                       0., 0., 0., 0., 0., 0., 0., 0., 0., 0., 0., 0., 0., 0., 0., 0., 0., 0., 0., 0., 0., 0., 0., 0.,\n",
       "                       0., 0., 0., 0., 0., 0., 0., 0., 0., 0., 0., 0., 0., 0., 0., 0., 0., 0., 0., 0., 0., 0., 0., 0.,\n",
       "                       0., 0., 0., 0., 0., 0., 0., 0., 0., 0., 0., 0., 0., 0., 0., 0., 0., 0., 0., 0., 0., 0., 0., 0.,\n",
       "                       0., 0., 0., 0., 0., 0., 0., 0., 0., 0., 0., 0., 0., 0., 0., 0.],\n",
       "                      requires_grad=True))]), '_buffers': OrderedDict([('running_mean',\n",
       "               tensor([ 6.8915e-03, -4.7757e-03, -1.7640e-03, -1.5002e-03, -2.5753e-03,\n",
       "                       -1.4615e-03, -9.7410e-04,  1.3671e-03, -3.8583e-03,  5.3308e-03,\n",
       "                        4.1364e-03,  9.1175e-04,  5.6305e-03, -7.4281e-04, -1.0133e-03,\n",
       "                       -4.4011e-03, -8.6974e-04, -4.0408e-03,  2.9123e-03,  8.0544e-04,\n",
       "                        4.9804e-03, -1.1148e-03,  5.8445e-03,  2.7176e-04, -5.7170e-03,\n",
       "                        5.9518e-03,  4.8240e-03,  7.2270e-03, -2.0194e-04, -2.1882e-03,\n",
       "                       -1.9078e-03, -3.8621e-04, -7.4870e-03, -4.2520e-03,  7.9766e-03,\n",
       "                        9.4007e-04, -2.6111e-03,  7.1500e-03,  5.4026e-03, -1.4992e-03,\n",
       "                       -9.5348e-04, -3.1981e-03, -5.3804e-04,  3.2758e-03, -1.2466e-03,\n",
       "                       -1.1860e-03, -2.7153e-03, -2.2862e-03, -5.8886e-03,  3.7534e-03,\n",
       "                        7.0550e-04,  8.0679e-03,  7.7637e-03, -3.0892e-03,  1.1165e-03,\n",
       "                        2.1349e-03, -8.0794e-03,  3.3096e-03,  5.0938e-03, -2.7028e-03,\n",
       "                        2.8475e-03, -4.2797e-03, -3.7972e-03,  4.1018e-03, -3.4769e-03,\n",
       "                       -9.9714e-04,  5.1072e-05, -8.6130e-03,  5.9199e-03,  1.4853e-03,\n",
       "                       -1.3544e-03, -5.8350e-03, -9.5271e-04, -4.8040e-03,  1.5214e-03,\n",
       "                       -5.5276e-03,  6.1374e-04, -2.3874e-03,  3.8845e-03, -4.4790e-03,\n",
       "                        2.4058e-03, -4.8361e-03, -7.6929e-04,  8.1304e-03,  5.5575e-04,\n",
       "                        6.5919e-04,  5.6896e-03,  2.7094e-03,  8.2526e-04,  1.2001e-04,\n",
       "                       -2.4894e-03, -1.7030e-03, -3.6379e-03,  4.2041e-04,  1.1652e-04,\n",
       "                       -5.4530e-03, -1.1524e-03, -4.8495e-03,  1.0370e-03,  2.5828e-03,\n",
       "                       -1.6886e-03,  4.4289e-03, -3.1960e-03,  7.4763e-04, -6.5570e-04,\n",
       "                       -3.9906e-03, -6.5737e-03, -3.7076e-03, -1.0938e-03,  2.4483e-03,\n",
       "                        3.6214e-04, -3.1800e-03,  3.3766e-03, -6.4538e-03,  6.5865e-04,\n",
       "                       -1.0366e-03,  1.8510e-03, -1.0883e-03,  2.0336e-03, -2.8228e-03,\n",
       "                        3.8000e-03,  6.5265e-04, -1.4703e-03, -1.2236e-03,  3.7796e-03,\n",
       "                        1.7741e-03,  7.9130e-03,  5.4884e-03, -6.9174e-03,  6.1081e-03,\n",
       "                       -6.5070e-03, -1.2819e-03, -3.7448e-03, -2.6543e-03, -2.1898e-03,\n",
       "                        4.5736e-03,  9.7859e-04, -2.7985e-03,  1.1599e-03, -5.9263e-03,\n",
       "                       -2.2925e-03,  2.5426e-03, -4.3469e-03,  5.5370e-03,  3.0771e-03,\n",
       "                        5.8281e-03, -4.2532e-03,  7.5705e-05, -8.6057e-04, -1.3533e-03,\n",
       "                        1.9203e-04, -5.8657e-03, -6.9764e-03,  1.2141e-03,  4.1124e-03,\n",
       "                       -2.2854e-03,  2.0554e-03, -1.7539e-03, -6.8474e-04,  8.1719e-03,\n",
       "                       -2.0251e-05,  1.8308e-03,  2.0918e-03,  2.4450e-03,  1.6502e-03,\n",
       "                       -4.6463e-03,  4.0630e-03, -1.7458e-03,  5.5608e-03, -8.1345e-03,\n",
       "                       -3.3739e-03,  3.3577e-03, -4.6301e-03, -2.4362e-03,  4.1012e-03,\n",
       "                       -6.0789e-03, -6.7011e-03,  6.2518e-03, -1.8534e-03,  6.5758e-03,\n",
       "                       -3.7809e-03,  5.3459e-03, -4.8562e-03, -1.3758e-03,  6.1790e-03,\n",
       "                       -8.7957e-04,  5.7004e-03,  6.8734e-04,  5.6774e-03, -2.9157e-03,\n",
       "                        4.1949e-03, -5.2391e-04, -3.7995e-03,  1.2026e-02, -7.3386e-03,\n",
       "                        5.1079e-03, -5.6953e-04, -3.9231e-03, -6.1533e-04,  1.0708e-03,\n",
       "                        1.5055e-03, -9.0087e-04,  2.5515e-03, -4.0521e-03,  1.6733e-04,\n",
       "                        2.0467e-03,  4.5428e-03,  2.6409e-03, -4.8234e-03, -2.0729e-04,\n",
       "                        1.9041e-03,  1.1148e-04,  4.5440e-03, -1.1458e-03, -5.5920e-03,\n",
       "                        5.1755e-03,  4.5084e-03,  2.3934e-03, -4.3843e-03,  5.3512e-04,\n",
       "                        4.2537e-04, -2.3590e-03, -1.1599e-03,  4.5679e-04, -4.1572e-03,\n",
       "                       -2.6938e-03, -4.8631e-03, -1.6414e-03, -6.3912e-03,  1.1240e-03,\n",
       "                        2.2992e-04,  5.2847e-03,  5.2260e-03,  4.5502e-03, -3.9904e-04,\n",
       "                        3.9116e-03, -6.0686e-03,  8.1977e-04,  4.5164e-03,  5.8069e-03,\n",
       "                        4.2265e-03,  1.4737e-04,  3.9275e-03,  1.1593e-03, -9.4964e-03,\n",
       "                        1.8554e-03,  3.5783e-04, -2.6910e-03,  1.5132e-03, -9.4635e-03,\n",
       "                        1.6066e-03,  4.7390e-04,  5.8663e-04,  1.9342e-03, -1.0105e-02,\n",
       "                       -2.3004e-03])),\n",
       "              ('running_var',\n",
       "               tensor([0.9168, 0.9202, 0.9171, 0.9196, 0.9183, 0.9193, 0.9190, 0.9194, 0.9211,\n",
       "                       0.9212, 0.9155, 0.9225, 0.9177, 0.9181, 0.9187, 0.9183, 0.9194, 0.9178,\n",
       "                       0.9156, 0.9162, 0.9204, 0.9158, 0.9203, 0.9163, 0.9208, 0.9212, 0.9178,\n",
       "                       0.9166, 0.9186, 0.9183, 0.9209, 0.9179, 0.9179, 0.9191, 0.9201, 0.9192,\n",
       "                       0.9173, 0.9175, 0.9197, 0.9185, 0.9143, 0.9189, 0.9204, 0.9211, 0.9164,\n",
       "                       0.9170, 0.9166, 0.9166, 0.9187, 0.9187, 0.9174, 0.9197, 0.9215, 0.9213,\n",
       "                       0.9181, 0.9170, 0.9182, 0.9165, 0.9178, 0.9182, 0.9184, 0.9156, 0.9187,\n",
       "                       0.9182, 0.9220, 0.9195, 0.9192, 0.9192, 0.9203, 0.9188, 0.9188, 0.9222,\n",
       "                       0.9171, 0.9191, 0.9191, 0.9204, 0.9164, 0.9170, 0.9208, 0.9198, 0.9157,\n",
       "                       0.9168, 0.9182, 0.9182, 0.9175, 0.9163, 0.9194, 0.9178, 0.9189, 0.9207,\n",
       "                       0.9211, 0.9172, 0.9181, 0.9176, 0.9219, 0.9215, 0.9173, 0.9195, 0.9216,\n",
       "                       0.9185, 0.9154, 0.9208, 0.9191, 0.9176, 0.9224, 0.9174, 0.9177, 0.9185,\n",
       "                       0.9188, 0.9186, 0.9191, 0.9200, 0.9185, 0.9166, 0.9163, 0.9178, 0.9185,\n",
       "                       0.9166, 0.9190, 0.9183, 0.9190, 0.9219, 0.9186, 0.9197, 0.9172, 0.9191,\n",
       "                       0.9160, 0.9177, 0.9198, 0.9204, 0.9207, 0.9181, 0.9181, 0.9211, 0.9184,\n",
       "                       0.9189, 0.9179, 0.9176, 0.9145, 0.9152, 0.9159, 0.9171, 0.9169, 0.9214,\n",
       "                       0.9191, 0.9193, 0.9161, 0.9195, 0.9182, 0.9217, 0.9180, 0.9171, 0.9194,\n",
       "                       0.9187, 0.9176, 0.9185, 0.9164, 0.9196, 0.9174, 0.9211, 0.9207, 0.9180,\n",
       "                       0.9198, 0.9160, 0.9190, 0.9188, 0.9193, 0.9164, 0.9219, 0.9178, 0.9187,\n",
       "                       0.9159, 0.9182, 0.9192, 0.9172, 0.9169, 0.9155, 0.9179, 0.9172, 0.9207,\n",
       "                       0.9193, 0.9182, 0.9232, 0.9177, 0.9174, 0.9198, 0.9200, 0.9175, 0.9182,\n",
       "                       0.9176, 0.9215, 0.9179, 0.9167, 0.9164, 0.9180, 0.9180, 0.9197, 0.9174,\n",
       "                       0.9215, 0.9179, 0.9187, 0.9179, 0.9180, 0.9207, 0.9205, 0.9186, 0.9175,\n",
       "                       0.9209, 0.9175, 0.9199, 0.9181, 0.9184, 0.9163, 0.9180, 0.9173, 0.9184,\n",
       "                       0.9163, 0.9158, 0.9183, 0.9152, 0.9194, 0.9170, 0.9155, 0.9196, 0.9203,\n",
       "                       0.9202, 0.9190, 0.9166, 0.9189, 0.9203, 0.9164, 0.9188, 0.9199, 0.9221,\n",
       "                       0.9181, 0.9184, 0.9189, 0.9197, 0.9179, 0.9187, 0.9195, 0.9162, 0.9169,\n",
       "                       0.9168, 0.9201, 0.9184, 0.9181, 0.9182, 0.9176, 0.9164, 0.9167, 0.9212,\n",
       "                       0.9176, 0.9149, 0.9180, 0.9158])),\n",
       "              ('num_batches_tracked',\n",
       "               tensor(1))]), '_backward_hooks': OrderedDict(), '_forward_hooks': OrderedDict(), '_forward_pre_hooks': OrderedDict(), '_state_dict_hooks': OrderedDict(), '_load_state_dict_pre_hooks': OrderedDict(), '_modules': OrderedDict(), 'num_features': 256, 'eps': 1e-05, 'momentum': 0.1, 'affine': True, 'track_running_stats': True}"
      ]
     },
     "execution_count": 165,
     "metadata": {},
     "output_type": "execute_result"
    }
   ],
   "source": [
    "t_gen.seq[0].bn.__dict__"
   ]
  },
  {
   "cell_type": "code",
   "execution_count": 182,
   "metadata": {
    "ExecuteTime": {
     "end_time": "2020-04-05T16:39:59.616001Z",
     "start_time": "2020-04-05T16:39:59.540960Z"
    },
    "scrolled": true
   },
   "outputs": [
    {
     "data": {
      "text/plain": [
       "{'_self_setattr_tracking': True,\n",
       " '_stateful': False,\n",
       " '_input_spec': InputSpec(ndim=2, axes={1: 256}),\n",
       " '_supports_ragged_inputs': False,\n",
       " '_name': 'batch_normalization_6',\n",
       " '_activity_regularizer': None,\n",
       " '_trainable_weights': [<tf.Variable 'new_residual_layer_5/batch_normalization_6/gamma:0' shape=(256,) dtype=float32, numpy=\n",
       "  array([1., 1., 1., 1., 1., 1., 1., 1., 1., 1., 1., 1., 1., 1., 1., 1., 1.,\n",
       "         1., 1., 1., 1., 1., 1., 1., 1., 1., 1., 1., 1., 1., 1., 1., 1., 1.,\n",
       "         1., 1., 1., 1., 1., 1., 1., 1., 1., 1., 1., 1., 1., 1., 1., 1., 1.,\n",
       "         1., 1., 1., 1., 1., 1., 1., 1., 1., 1., 1., 1., 1., 1., 1., 1., 1.,\n",
       "         1., 1., 1., 1., 1., 1., 1., 1., 1., 1., 1., 1., 1., 1., 1., 1., 1.,\n",
       "         1., 1., 1., 1., 1., 1., 1., 1., 1., 1., 1., 1., 1., 1., 1., 1., 1.,\n",
       "         1., 1., 1., 1., 1., 1., 1., 1., 1., 1., 1., 1., 1., 1., 1., 1., 1.,\n",
       "         1., 1., 1., 1., 1., 1., 1., 1., 1., 1., 1., 1., 1., 1., 1., 1., 1.,\n",
       "         1., 1., 1., 1., 1., 1., 1., 1., 1., 1., 1., 1., 1., 1., 1., 1., 1.,\n",
       "         1., 1., 1., 1., 1., 1., 1., 1., 1., 1., 1., 1., 1., 1., 1., 1., 1.,\n",
       "         1., 1., 1., 1., 1., 1., 1., 1., 1., 1., 1., 1., 1., 1., 1., 1., 1.,\n",
       "         1., 1., 1., 1., 1., 1., 1., 1., 1., 1., 1., 1., 1., 1., 1., 1., 1.,\n",
       "         1., 1., 1., 1., 1., 1., 1., 1., 1., 1., 1., 1., 1., 1., 1., 1., 1.,\n",
       "         1., 1., 1., 1., 1., 1., 1., 1., 1., 1., 1., 1., 1., 1., 1., 1., 1.,\n",
       "         1., 1., 1., 1., 1., 1., 1., 1., 1., 1., 1., 1., 1., 1., 1., 1., 1.,\n",
       "         1.], dtype=float32)>,\n",
       "  <tf.Variable 'new_residual_layer_5/batch_normalization_6/beta:0' shape=(256,) dtype=float32, numpy=\n",
       "  array([0., 0., 0., 0., 0., 0., 0., 0., 0., 0., 0., 0., 0., 0., 0., 0., 0.,\n",
       "         0., 0., 0., 0., 0., 0., 0., 0., 0., 0., 0., 0., 0., 0., 0., 0., 0.,\n",
       "         0., 0., 0., 0., 0., 0., 0., 0., 0., 0., 0., 0., 0., 0., 0., 0., 0.,\n",
       "         0., 0., 0., 0., 0., 0., 0., 0., 0., 0., 0., 0., 0., 0., 0., 0., 0.,\n",
       "         0., 0., 0., 0., 0., 0., 0., 0., 0., 0., 0., 0., 0., 0., 0., 0., 0.,\n",
       "         0., 0., 0., 0., 0., 0., 0., 0., 0., 0., 0., 0., 0., 0., 0., 0., 0.,\n",
       "         0., 0., 0., 0., 0., 0., 0., 0., 0., 0., 0., 0., 0., 0., 0., 0., 0.,\n",
       "         0., 0., 0., 0., 0., 0., 0., 0., 0., 0., 0., 0., 0., 0., 0., 0., 0.,\n",
       "         0., 0., 0., 0., 0., 0., 0., 0., 0., 0., 0., 0., 0., 0., 0., 0., 0.,\n",
       "         0., 0., 0., 0., 0., 0., 0., 0., 0., 0., 0., 0., 0., 0., 0., 0., 0.,\n",
       "         0., 0., 0., 0., 0., 0., 0., 0., 0., 0., 0., 0., 0., 0., 0., 0., 0.,\n",
       "         0., 0., 0., 0., 0., 0., 0., 0., 0., 0., 0., 0., 0., 0., 0., 0., 0.,\n",
       "         0., 0., 0., 0., 0., 0., 0., 0., 0., 0., 0., 0., 0., 0., 0., 0., 0.,\n",
       "         0., 0., 0., 0., 0., 0., 0., 0., 0., 0., 0., 0., 0., 0., 0., 0., 0.,\n",
       "         0., 0., 0., 0., 0., 0., 0., 0., 0., 0., 0., 0., 0., 0., 0., 0., 0.,\n",
       "         0.], dtype=float32)>],\n",
       " '_non_trainable_weights': [<tf.Variable 'new_residual_layer_5/batch_normalization_6/moving_mean:0' shape=(256,) dtype=float32, numpy=\n",
       "  array([ 6.51714066e-03,  2.30142730e-03,  4.60033159e-04, -5.32750739e-03,\n",
       "          1.71615544e-03, -5.30933670e-04, -1.17801991e-03, -3.14330170e-03,\n",
       "         -3.92233720e-03, -6.77448371e-03, -7.17857480e-03, -7.13660335e-03,\n",
       "          3.09922709e-03,  2.02323892e-04,  2.11807710e-04, -2.47953250e-03,\n",
       "         -9.29334294e-03, -3.71433049e-03,  3.08452593e-03, -7.02913327e-04,\n",
       "          6.44937670e-03, -7.33915658e-04,  3.94159136e-03,  5.75245544e-03,\n",
       "         -6.32172509e-04, -4.76494199e-03,  1.16610085e-03, -6.65454834e-04,\n",
       "         -2.67590466e-03,  3.94987827e-03,  1.65653601e-03,  5.03763603e-03,\n",
       "          1.84128329e-03,  1.96808460e-03,  9.59212426e-03, -3.32484883e-03,\n",
       "          4.90213418e-03,  4.03533271e-03, -8.04383773e-03,  4.65342356e-03,\n",
       "         -8.70590471e-03,  1.40043243e-03,  1.47881953e-03,  6.45787630e-04,\n",
       "          2.38258019e-03,  5.79424296e-03,  7.77193753e-04,  8.96087103e-03,\n",
       "          1.22181652e-03, -5.09389443e-03, -7.65549624e-03, -2.38262792e-03,\n",
       "          5.13490755e-03, -1.92820956e-03, -6.77986583e-03,  2.06702854e-03,\n",
       "          3.72299552e-03,  4.07613115e-03, -7.12531665e-03,  6.03066757e-03,\n",
       "         -3.32676852e-03,  4.78516147e-03,  1.79087080e-03,  3.78279877e-03,\n",
       "         -6.65312121e-03, -3.35305318e-04, -1.04116742e-03,  3.64680961e-03,\n",
       "          5.92084136e-03,  4.11159685e-03,  1.56327174e-03,  9.77449119e-03,\n",
       "          4.48294962e-03,  2.01208191e-03,  2.98688863e-03, -5.17258327e-03,\n",
       "          6.94394985e-04, -1.58930884e-03, -3.44872708e-03,  7.71522848e-03,\n",
       "         -5.89906937e-03,  7.09067378e-03, -7.22365081e-03,  2.07847729e-03,\n",
       "         -1.57177262e-03, -5.01852110e-03,  8.50874744e-03,  7.34033471e-04,\n",
       "          2.66295765e-03,  1.36886246e-03,  5.42898243e-03,  1.46775751e-03,\n",
       "          1.94871635e-03,  1.56413054e-03,  3.78756039e-03,  3.83898430e-03,\n",
       "          6.07097009e-03,  5.01724193e-03,  9.80778364e-04, -1.06404645e-04,\n",
       "         -2.83303577e-03, -1.75150845e-03,  1.18329539e-03, -2.73385202e-03,\n",
       "         -9.12133791e-03,  5.77358110e-03, -3.21766245e-03, -9.47073218e-04,\n",
       "          1.81894095e-04,  6.71329675e-03, -3.12162633e-03,  7.72168205e-05,\n",
       "          4.97464137e-03, -3.35535267e-03,  8.49133183e-04, -3.67023773e-03,\n",
       "         -8.09926167e-03, -3.17308679e-03,  3.64045403e-03, -5.80398599e-03,\n",
       "         -2.43629538e-03,  4.60102176e-03,  7.09794404e-04, -6.68516476e-03,\n",
       "         -5.70229895e-04,  5.71477320e-03, -5.65385027e-03, -8.94005527e-04,\n",
       "          5.32997446e-03,  1.68582797e-03,  3.81784211e-03,  9.87241603e-03,\n",
       "         -7.28231017e-03,  2.44148867e-03,  3.49309365e-03,  3.53051978e-03,\n",
       "          3.34674492e-03, -5.18844055e-04,  1.16382050e-03, -2.36490113e-03,\n",
       "          4.93330229e-03, -6.35022298e-03,  7.88527634e-03, -9.27042391e-04,\n",
       "          1.30878552e-03,  4.11210628e-03,  2.37744884e-03,  6.33060187e-03,\n",
       "          9.07801185e-03, -2.78669805e-03,  1.07070396e-03,  5.17334964e-04,\n",
       "         -1.04328233e-03, -5.15313062e-04, -7.52760039e-04,  8.57138541e-03,\n",
       "          2.56859721e-03, -3.52010131e-04, -4.66459012e-03,  1.72553619e-03,\n",
       "         -5.83416200e-04, -2.56258086e-03, -7.82800745e-03,  5.01727080e-03,\n",
       "          4.36711311e-03,  5.96349942e-04, -4.82197432e-03,  5.01997396e-03,\n",
       "         -2.40443763e-03, -7.43521552e-04, -1.64219178e-03, -3.22807929e-03,\n",
       "          4.67819441e-03, -8.47851671e-03, -2.19640997e-03, -1.77416357e-03,\n",
       "         -6.04696339e-03, -5.06284600e-03,  2.73713516e-03,  2.84639723e-03,\n",
       "          7.37938052e-03, -3.09345592e-03, -1.47140920e-04,  2.05769436e-03,\n",
       "         -3.19192186e-03,  4.94128144e-05, -4.63909470e-03,  9.16226394e-03,\n",
       "          7.16833572e-04, -1.57539384e-03, -1.70410087e-03, -6.53604185e-03,\n",
       "         -3.66550358e-03, -8.02564714e-03, -1.34892634e-03, -7.97365885e-03,\n",
       "         -3.26081784e-03,  1.78068512e-04,  4.95619839e-03,  2.01150286e-03,\n",
       "          8.53340141e-04,  1.64045207e-03, -7.26836617e-04,  8.42038821e-03,\n",
       "         -2.62392103e-03, -1.35877330e-04,  1.94459211e-03, -5.06208790e-03,\n",
       "          6.62212772e-03, -2.78940354e-03,  5.12247032e-04,  5.14841033e-03,\n",
       "         -3.54128075e-03,  8.41612183e-03, -3.99207650e-03,  5.30353701e-03,\n",
       "         -4.49999515e-03,  7.74887903e-03,  4.33754595e-03, -3.36037646e-03,\n",
       "         -1.29120715e-03, -4.15011635e-03,  1.87608134e-03, -2.55016563e-03,\n",
       "          2.23212014e-03,  5.33115724e-03,  3.48250009e-03, -4.73749405e-03,\n",
       "         -3.94864148e-03,  5.34516713e-03, -6.70039793e-03,  4.32384526e-03,\n",
       "         -6.00303523e-03, -7.47459987e-03,  4.12872154e-03, -8.20314046e-03,\n",
       "         -6.64648274e-03, -5.06236684e-03,  2.48245569e-03,  6.97685359e-03,\n",
       "         -3.24480864e-03,  7.37680728e-03, -5.67352353e-03, -4.78053093e-03,\n",
       "          8.78476910e-03,  1.58687809e-03, -3.77635146e-03, -6.38021901e-03,\n",
       "         -2.02235742e-03, -7.40046380e-03, -1.68658921e-03, -4.52529918e-03,\n",
       "          2.83213984e-03, -2.28300036e-04, -4.78066759e-05, -3.59853402e-05],\n",
       "        dtype=float32)>,\n",
       "  <tf.Variable 'new_residual_layer_5/batch_normalization_6/moving_variance:0' shape=(256,) dtype=float32, numpy=\n",
       "  array([0.91908586, 0.92259705, 0.9162888 , 0.9152027 , 0.91754836,\n",
       "         0.9189263 , 0.9199994 , 0.9191595 , 0.9180291 , 0.91657037,\n",
       "         0.91576254, 0.91667926, 0.91534835, 0.91853833, 0.9178021 ,\n",
       "         0.91848093, 0.9190011 , 0.9193947 , 0.9195564 , 0.91826165,\n",
       "         0.91907775, 0.91686136, 0.9197755 , 0.9180535 , 0.9199338 ,\n",
       "         0.920712  , 0.920406  , 0.91981435, 0.9191996 , 0.9205129 ,\n",
       "         0.91986334, 0.9188376 , 0.91611624, 0.922383  , 0.9215546 ,\n",
       "         0.9202386 , 0.92361504, 0.91414934, 0.91830194, 0.9202733 ,\n",
       "         0.9180884 , 0.9185008 , 0.9208193 , 0.92114455, 0.9197999 ,\n",
       "         0.91626686, 0.9243205 , 0.91676533, 0.91900134, 0.91613376,\n",
       "         0.91819274, 0.91653574, 0.9172291 , 0.9173131 , 0.91764134,\n",
       "         0.9170915 , 0.91850513, 0.9201317 , 0.9162452 , 0.9218497 ,\n",
       "         0.91903406, 0.91675776, 0.91739696, 0.9212173 , 0.91802657,\n",
       "         0.915726  , 0.91701216, 0.9181717 , 0.9177502 , 0.9210613 ,\n",
       "         0.9192629 , 0.9167598 , 0.91649127, 0.9197802 , 0.9192216 ,\n",
       "         0.91715384, 0.9171663 , 0.9185083 , 0.9201095 , 0.9214383 ,\n",
       "         0.9184483 , 0.9172007 , 0.9147455 , 0.91827434, 0.9174402 ,\n",
       "         0.91900146, 0.9176267 , 0.9192774 , 0.9165709 , 0.9200698 ,\n",
       "         0.91747963, 0.9177429 , 0.917679  , 0.9181578 , 0.91671   ,\n",
       "         0.91922337, 0.9196151 , 0.92304134, 0.917179  , 0.919057  ,\n",
       "         0.917902  , 0.920487  , 0.91835827, 0.91986334, 0.9199973 ,\n",
       "         0.9221857 , 0.917607  , 0.91740924, 0.9176606 , 0.9175721 ,\n",
       "         0.92091125, 0.91915053, 0.91999906, 0.9188316 , 0.92031664,\n",
       "         0.9184566 , 0.9165292 , 0.9171925 , 0.91944695, 0.91846657,\n",
       "         0.9216732 , 0.9187359 , 0.9209531 , 0.9199623 , 0.91832584,\n",
       "         0.91927546, 0.9179013 , 0.9168763 , 0.91684544, 0.91744465,\n",
       "         0.91783583, 0.918137  , 0.9201889 , 0.9183953 , 0.91869044,\n",
       "         0.91845536, 0.91770226, 0.92043495, 0.9206766 , 0.9193636 ,\n",
       "         0.9165777 , 0.92045504, 0.9171113 , 0.91811514, 0.9171395 ,\n",
       "         0.9154447 , 0.9211386 , 0.9204891 , 0.9174831 , 0.91757   ,\n",
       "         0.9204882 , 0.91886675, 0.91837823, 0.91970265, 0.9219909 ,\n",
       "         0.9178499 , 0.91810375, 0.91831225, 0.91785544, 0.9193918 ,\n",
       "         0.915788  , 0.9153741 , 0.91942906, 0.9178617 , 0.9158414 ,\n",
       "         0.91814584, 0.918781  , 0.9189259 , 0.9181734 , 0.91950154,\n",
       "         0.91589797, 0.920774  , 0.9161336 , 0.92107064, 0.9214096 ,\n",
       "         0.9169283 , 0.9205243 , 0.9181629 , 0.9168083 , 0.9199371 ,\n",
       "         0.9206686 , 0.91795117, 0.91913927, 0.91765785, 0.9175494 ,\n",
       "         0.9158781 , 0.91797847, 0.91705394, 0.9182028 , 0.9159108 ,\n",
       "         0.9153841 , 0.91863155, 0.91821223, 0.9193492 , 0.91772455,\n",
       "         0.91887075, 0.9211205 , 0.92184263, 0.9194972 , 0.9178577 ,\n",
       "         0.9191124 , 0.91994774, 0.919625  , 0.9176323 , 0.9181673 ,\n",
       "         0.9228005 , 0.9192864 , 0.91980284, 0.91629344, 0.9168484 ,\n",
       "         0.91807693, 0.91980225, 0.9149875 , 0.9226001 , 0.9179238 ,\n",
       "         0.9187385 , 0.9200238 , 0.9218247 , 0.91708726, 0.9148601 ,\n",
       "         0.9176656 , 0.9176803 , 0.9208802 , 0.9166845 , 0.9209149 ,\n",
       "         0.91569436, 0.9198904 , 0.9152101 , 0.9160834 , 0.9154632 ,\n",
       "         0.9161168 , 0.9181587 , 0.9155739 , 0.91898704, 0.91746974,\n",
       "         0.9214117 , 0.92004377, 0.9178123 , 0.91810036, 0.91609424,\n",
       "         0.91819686, 0.91711557, 0.9151828 , 0.9186208 , 0.92071575,\n",
       "         0.91612995, 0.9140483 , 0.9159768 , 0.9222589 , 0.9151703 ,\n",
       "         0.91626453, 0.91485363, 0.9225158 , 0.9209864 , 0.91688895,\n",
       "         0.91829216], dtype=float32)>],\n",
       " '_updates': [<function tensorflow.python.keras.engine.base_layer.Layer.add_update.<locals>.process_update.<locals>.<lambda>()>,\n",
       "  <function tensorflow.python.keras.engine.base_layer.Layer.add_update.<locals>.process_update.<locals>.<lambda>()>],\n",
       " '_thread_local': <_thread._local at 0x150f76410>,\n",
       " '_callable_losses': [],\n",
       " '_losses': [],\n",
       " '_metrics': [],\n",
       " '_dtype_policy': <Policy \"float32\", loss_scale=None>,\n",
       " '_dtype_defaulted_to_floatx': True,\n",
       " '_autocast': True,\n",
       " '_layers': [ListWrapper([1])],\n",
       " '_inbound_nodes': [<tensorflow.python.keras.engine.node.Node at 0x14c3a7ed0>],\n",
       " '_outbound_nodes': [<tensorflow.python.keras.engine.node.Node at 0x14b5b6090>],\n",
       " '_expects_training_arg': True,\n",
       " '_expects_mask_arg': False,\n",
       " '_dynamic': False,\n",
       " '_initial_weights': None,\n",
       " '_obj_reference_counts_dict': ObjectIdentityDictionary({<_ObjectIdentityWrapper wrapping 0.9>: 1, <_ObjectIdentityWrapper wrapping 1e-05>: 1, <_ObjectIdentityWrapper wrapping True>: 5, <_ObjectIdentityWrapper wrapping <tensorflow.python.ops.init_ops_v2.Zeros object at 0x150cdc290>>: 1, <_ObjectIdentityWrapper wrapping <tensorflow.python.ops.init_ops_v2.Ones object at 0x150cdce50>>: 1, <_ObjectIdentityWrapper wrapping <tensorflow.python.ops.init_ops_v2.Zeros object at 0x150ce19d0>>: 1, <_ObjectIdentityWrapper wrapping <tensorflow.python.ops.init_ops_v2.Ones object at 0x150ce12d0>>: 1, <_ObjectIdentityWrapper wrapping ListWrapper([1])>: 1, <_ObjectIdentityWrapper wrapping <tf.Variable 'new_residual_layer_5/batch_normalization_6/gamma:0' shape=(256,) dtype=float32, numpy=\n",
       " array([1., 1., 1., 1., 1., 1., 1., 1., 1., 1., 1., 1., 1., 1., 1., 1., 1.,\n",
       "        1., 1., 1., 1., 1., 1., 1., 1., 1., 1., 1., 1., 1., 1., 1., 1., 1.,\n",
       "        1., 1., 1., 1., 1., 1., 1., 1., 1., 1., 1., 1., 1., 1., 1., 1., 1.,\n",
       "        1., 1., 1., 1., 1., 1., 1., 1., 1., 1., 1., 1., 1., 1., 1., 1., 1.,\n",
       "        1., 1., 1., 1., 1., 1., 1., 1., 1., 1., 1., 1., 1., 1., 1., 1., 1.,\n",
       "        1., 1., 1., 1., 1., 1., 1., 1., 1., 1., 1., 1., 1., 1., 1., 1., 1.,\n",
       "        1., 1., 1., 1., 1., 1., 1., 1., 1., 1., 1., 1., 1., 1., 1., 1., 1.,\n",
       "        1., 1., 1., 1., 1., 1., 1., 1., 1., 1., 1., 1., 1., 1., 1., 1., 1.,\n",
       "        1., 1., 1., 1., 1., 1., 1., 1., 1., 1., 1., 1., 1., 1., 1., 1., 1.,\n",
       "        1., 1., 1., 1., 1., 1., 1., 1., 1., 1., 1., 1., 1., 1., 1., 1., 1.,\n",
       "        1., 1., 1., 1., 1., 1., 1., 1., 1., 1., 1., 1., 1., 1., 1., 1., 1.,\n",
       "        1., 1., 1., 1., 1., 1., 1., 1., 1., 1., 1., 1., 1., 1., 1., 1., 1.,\n",
       "        1., 1., 1., 1., 1., 1., 1., 1., 1., 1., 1., 1., 1., 1., 1., 1., 1.,\n",
       "        1., 1., 1., 1., 1., 1., 1., 1., 1., 1., 1., 1., 1., 1., 1., 1., 1.,\n",
       "        1., 1., 1., 1., 1., 1., 1., 1., 1., 1., 1., 1., 1., 1., 1., 1., 1.,\n",
       "        1.], dtype=float32)>>: 1, <_ObjectIdentityWrapper wrapping <tf.Variable 'new_residual_layer_5/batch_normalization_6/beta:0' shape=(256,) dtype=float32, numpy=\n",
       " array([0., 0., 0., 0., 0., 0., 0., 0., 0., 0., 0., 0., 0., 0., 0., 0., 0.,\n",
       "        0., 0., 0., 0., 0., 0., 0., 0., 0., 0., 0., 0., 0., 0., 0., 0., 0.,\n",
       "        0., 0., 0., 0., 0., 0., 0., 0., 0., 0., 0., 0., 0., 0., 0., 0., 0.,\n",
       "        0., 0., 0., 0., 0., 0., 0., 0., 0., 0., 0., 0., 0., 0., 0., 0., 0.,\n",
       "        0., 0., 0., 0., 0., 0., 0., 0., 0., 0., 0., 0., 0., 0., 0., 0., 0.,\n",
       "        0., 0., 0., 0., 0., 0., 0., 0., 0., 0., 0., 0., 0., 0., 0., 0., 0.,\n",
       "        0., 0., 0., 0., 0., 0., 0., 0., 0., 0., 0., 0., 0., 0., 0., 0., 0.,\n",
       "        0., 0., 0., 0., 0., 0., 0., 0., 0., 0., 0., 0., 0., 0., 0., 0., 0.,\n",
       "        0., 0., 0., 0., 0., 0., 0., 0., 0., 0., 0., 0., 0., 0., 0., 0., 0.,\n",
       "        0., 0., 0., 0., 0., 0., 0., 0., 0., 0., 0., 0., 0., 0., 0., 0., 0.,\n",
       "        0., 0., 0., 0., 0., 0., 0., 0., 0., 0., 0., 0., 0., 0., 0., 0., 0.,\n",
       "        0., 0., 0., 0., 0., 0., 0., 0., 0., 0., 0., 0., 0., 0., 0., 0., 0.,\n",
       "        0., 0., 0., 0., 0., 0., 0., 0., 0., 0., 0., 0., 0., 0., 0., 0., 0.,\n",
       "        0., 0., 0., 0., 0., 0., 0., 0., 0., 0., 0., 0., 0., 0., 0., 0., 0.,\n",
       "        0., 0., 0., 0., 0., 0., 0., 0., 0., 0., 0., 0., 0., 0., 0., 0., 0.,\n",
       "        0.], dtype=float32)>>: 1, <_ObjectIdentityWrapper wrapping <tf.Variable 'new_residual_layer_5/batch_normalization_6/moving_mean:0' shape=(256,) dtype=float32, numpy=\n",
       " array([ 6.51714066e-03,  2.30142730e-03,  4.60033159e-04, -5.32750739e-03,\n",
       "         1.71615544e-03, -5.30933670e-04, -1.17801991e-03, -3.14330170e-03,\n",
       "        -3.92233720e-03, -6.77448371e-03, -7.17857480e-03, -7.13660335e-03,\n",
       "         3.09922709e-03,  2.02323892e-04,  2.11807710e-04, -2.47953250e-03,\n",
       "        -9.29334294e-03, -3.71433049e-03,  3.08452593e-03, -7.02913327e-04,\n",
       "         6.44937670e-03, -7.33915658e-04,  3.94159136e-03,  5.75245544e-03,\n",
       "        -6.32172509e-04, -4.76494199e-03,  1.16610085e-03, -6.65454834e-04,\n",
       "        -2.67590466e-03,  3.94987827e-03,  1.65653601e-03,  5.03763603e-03,\n",
       "         1.84128329e-03,  1.96808460e-03,  9.59212426e-03, -3.32484883e-03,\n",
       "         4.90213418e-03,  4.03533271e-03, -8.04383773e-03,  4.65342356e-03,\n",
       "        -8.70590471e-03,  1.40043243e-03,  1.47881953e-03,  6.45787630e-04,\n",
       "         2.38258019e-03,  5.79424296e-03,  7.77193753e-04,  8.96087103e-03,\n",
       "         1.22181652e-03, -5.09389443e-03, -7.65549624e-03, -2.38262792e-03,\n",
       "         5.13490755e-03, -1.92820956e-03, -6.77986583e-03,  2.06702854e-03,\n",
       "         3.72299552e-03,  4.07613115e-03, -7.12531665e-03,  6.03066757e-03,\n",
       "        -3.32676852e-03,  4.78516147e-03,  1.79087080e-03,  3.78279877e-03,\n",
       "        -6.65312121e-03, -3.35305318e-04, -1.04116742e-03,  3.64680961e-03,\n",
       "         5.92084136e-03,  4.11159685e-03,  1.56327174e-03,  9.77449119e-03,\n",
       "         4.48294962e-03,  2.01208191e-03,  2.98688863e-03, -5.17258327e-03,\n",
       "         6.94394985e-04, -1.58930884e-03, -3.44872708e-03,  7.71522848e-03,\n",
       "        -5.89906937e-03,  7.09067378e-03, -7.22365081e-03,  2.07847729e-03,\n",
       "        -1.57177262e-03, -5.01852110e-03,  8.50874744e-03,  7.34033471e-04,\n",
       "         2.66295765e-03,  1.36886246e-03,  5.42898243e-03,  1.46775751e-03,\n",
       "         1.94871635e-03,  1.56413054e-03,  3.78756039e-03,  3.83898430e-03,\n",
       "         6.07097009e-03,  5.01724193e-03,  9.80778364e-04, -1.06404645e-04,\n",
       "        -2.83303577e-03, -1.75150845e-03,  1.18329539e-03, -2.73385202e-03,\n",
       "        -9.12133791e-03,  5.77358110e-03, -3.21766245e-03, -9.47073218e-04,\n",
       "         1.81894095e-04,  6.71329675e-03, -3.12162633e-03,  7.72168205e-05,\n",
       "         4.97464137e-03, -3.35535267e-03,  8.49133183e-04, -3.67023773e-03,\n",
       "        -8.09926167e-03, -3.17308679e-03,  3.64045403e-03, -5.80398599e-03,\n",
       "        -2.43629538e-03,  4.60102176e-03,  7.09794404e-04, -6.68516476e-03,\n",
       "        -5.70229895e-04,  5.71477320e-03, -5.65385027e-03, -8.94005527e-04,\n",
       "         5.32997446e-03,  1.68582797e-03,  3.81784211e-03,  9.87241603e-03,\n",
       "        -7.28231017e-03,  2.44148867e-03,  3.49309365e-03,  3.53051978e-03,\n",
       "         3.34674492e-03, -5.18844055e-04,  1.16382050e-03, -2.36490113e-03,\n",
       "         4.93330229e-03, -6.35022298e-03,  7.88527634e-03, -9.27042391e-04,\n",
       "         1.30878552e-03,  4.11210628e-03,  2.37744884e-03,  6.33060187e-03,\n",
       "         9.07801185e-03, -2.78669805e-03,  1.07070396e-03,  5.17334964e-04,\n",
       "        -1.04328233e-03, -5.15313062e-04, -7.52760039e-04,  8.57138541e-03,\n",
       "         2.56859721e-03, -3.52010131e-04, -4.66459012e-03,  1.72553619e-03,\n",
       "        -5.83416200e-04, -2.56258086e-03, -7.82800745e-03,  5.01727080e-03,\n",
       "         4.36711311e-03,  5.96349942e-04, -4.82197432e-03,  5.01997396e-03,\n",
       "        -2.40443763e-03, -7.43521552e-04, -1.64219178e-03, -3.22807929e-03,\n",
       "         4.67819441e-03, -8.47851671e-03, -2.19640997e-03, -1.77416357e-03,\n",
       "        -6.04696339e-03, -5.06284600e-03,  2.73713516e-03,  2.84639723e-03,\n",
       "         7.37938052e-03, -3.09345592e-03, -1.47140920e-04,  2.05769436e-03,\n",
       "        -3.19192186e-03,  4.94128144e-05, -4.63909470e-03,  9.16226394e-03,\n",
       "         7.16833572e-04, -1.57539384e-03, -1.70410087e-03, -6.53604185e-03,\n",
       "        -3.66550358e-03, -8.02564714e-03, -1.34892634e-03, -7.97365885e-03,\n",
       "        -3.26081784e-03,  1.78068512e-04,  4.95619839e-03,  2.01150286e-03,\n",
       "         8.53340141e-04,  1.64045207e-03, -7.26836617e-04,  8.42038821e-03,\n",
       "        -2.62392103e-03, -1.35877330e-04,  1.94459211e-03, -5.06208790e-03,\n",
       "         6.62212772e-03, -2.78940354e-03,  5.12247032e-04,  5.14841033e-03,\n",
       "        -3.54128075e-03,  8.41612183e-03, -3.99207650e-03,  5.30353701e-03,\n",
       "        -4.49999515e-03,  7.74887903e-03,  4.33754595e-03, -3.36037646e-03,\n",
       "        -1.29120715e-03, -4.15011635e-03,  1.87608134e-03, -2.55016563e-03,\n",
       "         2.23212014e-03,  5.33115724e-03,  3.48250009e-03, -4.73749405e-03,\n",
       "        -3.94864148e-03,  5.34516713e-03, -6.70039793e-03,  4.32384526e-03,\n",
       "        -6.00303523e-03, -7.47459987e-03,  4.12872154e-03, -8.20314046e-03,\n",
       "        -6.64648274e-03, -5.06236684e-03,  2.48245569e-03,  6.97685359e-03,\n",
       "        -3.24480864e-03,  7.37680728e-03, -5.67352353e-03, -4.78053093e-03,\n",
       "         8.78476910e-03,  1.58687809e-03, -3.77635146e-03, -6.38021901e-03,\n",
       "        -2.02235742e-03, -7.40046380e-03, -1.68658921e-03, -4.52529918e-03,\n",
       "         2.83213984e-03, -2.28300036e-04, -4.78066759e-05, -3.59853402e-05],\n",
       "       dtype=float32)>>: 1, <_ObjectIdentityWrapper wrapping <tf.Variable 'new_residual_layer_5/batch_normalization_6/moving_variance:0' shape=(256,) dtype=float32, numpy=\n",
       " array([0.91908586, 0.92259705, 0.9162888 , 0.9152027 , 0.91754836,\n",
       "        0.9189263 , 0.9199994 , 0.9191595 , 0.9180291 , 0.91657037,\n",
       "        0.91576254, 0.91667926, 0.91534835, 0.91853833, 0.9178021 ,\n",
       "        0.91848093, 0.9190011 , 0.9193947 , 0.9195564 , 0.91826165,\n",
       "        0.91907775, 0.91686136, 0.9197755 , 0.9180535 , 0.9199338 ,\n",
       "        0.920712  , 0.920406  , 0.91981435, 0.9191996 , 0.9205129 ,\n",
       "        0.91986334, 0.9188376 , 0.91611624, 0.922383  , 0.9215546 ,\n",
       "        0.9202386 , 0.92361504, 0.91414934, 0.91830194, 0.9202733 ,\n",
       "        0.9180884 , 0.9185008 , 0.9208193 , 0.92114455, 0.9197999 ,\n",
       "        0.91626686, 0.9243205 , 0.91676533, 0.91900134, 0.91613376,\n",
       "        0.91819274, 0.91653574, 0.9172291 , 0.9173131 , 0.91764134,\n",
       "        0.9170915 , 0.91850513, 0.9201317 , 0.9162452 , 0.9218497 ,\n",
       "        0.91903406, 0.91675776, 0.91739696, 0.9212173 , 0.91802657,\n",
       "        0.915726  , 0.91701216, 0.9181717 , 0.9177502 , 0.9210613 ,\n",
       "        0.9192629 , 0.9167598 , 0.91649127, 0.9197802 , 0.9192216 ,\n",
       "        0.91715384, 0.9171663 , 0.9185083 , 0.9201095 , 0.9214383 ,\n",
       "        0.9184483 , 0.9172007 , 0.9147455 , 0.91827434, 0.9174402 ,\n",
       "        0.91900146, 0.9176267 , 0.9192774 , 0.9165709 , 0.9200698 ,\n",
       "        0.91747963, 0.9177429 , 0.917679  , 0.9181578 , 0.91671   ,\n",
       "        0.91922337, 0.9196151 , 0.92304134, 0.917179  , 0.919057  ,\n",
       "        0.917902  , 0.920487  , 0.91835827, 0.91986334, 0.9199973 ,\n",
       "        0.9221857 , 0.917607  , 0.91740924, 0.9176606 , 0.9175721 ,\n",
       "        0.92091125, 0.91915053, 0.91999906, 0.9188316 , 0.92031664,\n",
       "        0.9184566 , 0.9165292 , 0.9171925 , 0.91944695, 0.91846657,\n",
       "        0.9216732 , 0.9187359 , 0.9209531 , 0.9199623 , 0.91832584,\n",
       "        0.91927546, 0.9179013 , 0.9168763 , 0.91684544, 0.91744465,\n",
       "        0.91783583, 0.918137  , 0.9201889 , 0.9183953 , 0.91869044,\n",
       "        0.91845536, 0.91770226, 0.92043495, 0.9206766 , 0.9193636 ,\n",
       "        0.9165777 , 0.92045504, 0.9171113 , 0.91811514, 0.9171395 ,\n",
       "        0.9154447 , 0.9211386 , 0.9204891 , 0.9174831 , 0.91757   ,\n",
       "        0.9204882 , 0.91886675, 0.91837823, 0.91970265, 0.9219909 ,\n",
       "        0.9178499 , 0.91810375, 0.91831225, 0.91785544, 0.9193918 ,\n",
       "        0.915788  , 0.9153741 , 0.91942906, 0.9178617 , 0.9158414 ,\n",
       "        0.91814584, 0.918781  , 0.9189259 , 0.9181734 , 0.91950154,\n",
       "        0.91589797, 0.920774  , 0.9161336 , 0.92107064, 0.9214096 ,\n",
       "        0.9169283 , 0.9205243 , 0.9181629 , 0.9168083 , 0.9199371 ,\n",
       "        0.9206686 , 0.91795117, 0.91913927, 0.91765785, 0.9175494 ,\n",
       "        0.9158781 , 0.91797847, 0.91705394, 0.9182028 , 0.9159108 ,\n",
       "        0.9153841 , 0.91863155, 0.91821223, 0.9193492 , 0.91772455,\n",
       "        0.91887075, 0.9211205 , 0.92184263, 0.9194972 , 0.9178577 ,\n",
       "        0.9191124 , 0.91994774, 0.919625  , 0.9176323 , 0.9181673 ,\n",
       "        0.9228005 , 0.9192864 , 0.91980284, 0.91629344, 0.9168484 ,\n",
       "        0.91807693, 0.91980225, 0.9149875 , 0.9226001 , 0.9179238 ,\n",
       "        0.9187385 , 0.9200238 , 0.9218247 , 0.91708726, 0.9148601 ,\n",
       "        0.9176656 , 0.9176803 , 0.9208802 , 0.9166845 , 0.9209149 ,\n",
       "        0.91569436, 0.9198904 , 0.9152101 , 0.9160834 , 0.9154632 ,\n",
       "        0.9161168 , 0.9181587 , 0.9155739 , 0.91898704, 0.91746974,\n",
       "        0.9214117 , 0.92004377, 0.9178123 , 0.91810036, 0.91609424,\n",
       "        0.91819686, 0.91711557, 0.9151828 , 0.9186208 , 0.92071575,\n",
       "        0.91612995, 0.9140483 , 0.9159768 , 0.9222589 , 0.9151703 ,\n",
       "        0.91626453, 0.91485363, 0.9225158 , 0.9209864 , 0.91688895,\n",
       "        0.91829216], dtype=float32)>>: 1, <_ObjectIdentityWrapper wrapping <tf.Tensor 'new_residual_layer_5/batch_normalization_6/batch_normalization_6_trainable:0' shape=<unknown> dtype=bool>>: 1}),\n",
       " 'momentum': 0.9,\n",
       " 'epsilon': 1e-05,\n",
       " 'center': True,\n",
       " 'scale': True,\n",
       " 'beta_initializer': <tensorflow.python.ops.init_ops_v2.Zeros at 0x150cdc290>,\n",
       " 'gamma_initializer': <tensorflow.python.ops.init_ops_v2.Ones at 0x150cdce50>,\n",
       " 'moving_mean_initializer': <tensorflow.python.ops.init_ops_v2.Zeros at 0x150ce19d0>,\n",
       " 'moving_variance_initializer': <tensorflow.python.ops.init_ops_v2.Ones at 0x150ce12d0>,\n",
       " 'beta_regularizer': None,\n",
       " 'gamma_regularizer': None,\n",
       " 'beta_constraint': None,\n",
       " 'gamma_constraint': None,\n",
       " 'renorm': False,\n",
       " 'virtual_batch_size': None,\n",
       " 'adjustment': None,\n",
       " 'supports_masking': True,\n",
       " '_bessels_correction_test_only': True,\n",
       " '_trainable': True,\n",
       " '_self_unconditional_checkpoint_dependencies': [TrackableReference(name='axis', ref=ListWrapper([1])),\n",
       "  TrackableReference(name='gamma', ref=<tf.Variable 'new_residual_layer_5/batch_normalization_6/gamma:0' shape=(256,) dtype=float32, numpy=\n",
       "  array([1., 1., 1., 1., 1., 1., 1., 1., 1., 1., 1., 1., 1., 1., 1., 1., 1.,\n",
       "         1., 1., 1., 1., 1., 1., 1., 1., 1., 1., 1., 1., 1., 1., 1., 1., 1.,\n",
       "         1., 1., 1., 1., 1., 1., 1., 1., 1., 1., 1., 1., 1., 1., 1., 1., 1.,\n",
       "         1., 1., 1., 1., 1., 1., 1., 1., 1., 1., 1., 1., 1., 1., 1., 1., 1.,\n",
       "         1., 1., 1., 1., 1., 1., 1., 1., 1., 1., 1., 1., 1., 1., 1., 1., 1.,\n",
       "         1., 1., 1., 1., 1., 1., 1., 1., 1., 1., 1., 1., 1., 1., 1., 1., 1.,\n",
       "         1., 1., 1., 1., 1., 1., 1., 1., 1., 1., 1., 1., 1., 1., 1., 1., 1.,\n",
       "         1., 1., 1., 1., 1., 1., 1., 1., 1., 1., 1., 1., 1., 1., 1., 1., 1.,\n",
       "         1., 1., 1., 1., 1., 1., 1., 1., 1., 1., 1., 1., 1., 1., 1., 1., 1.,\n",
       "         1., 1., 1., 1., 1., 1., 1., 1., 1., 1., 1., 1., 1., 1., 1., 1., 1.,\n",
       "         1., 1., 1., 1., 1., 1., 1., 1., 1., 1., 1., 1., 1., 1., 1., 1., 1.,\n",
       "         1., 1., 1., 1., 1., 1., 1., 1., 1., 1., 1., 1., 1., 1., 1., 1., 1.,\n",
       "         1., 1., 1., 1., 1., 1., 1., 1., 1., 1., 1., 1., 1., 1., 1., 1., 1.,\n",
       "         1., 1., 1., 1., 1., 1., 1., 1., 1., 1., 1., 1., 1., 1., 1., 1., 1.,\n",
       "         1., 1., 1., 1., 1., 1., 1., 1., 1., 1., 1., 1., 1., 1., 1., 1., 1.,\n",
       "         1.], dtype=float32)>),\n",
       "  TrackableReference(name='beta', ref=<tf.Variable 'new_residual_layer_5/batch_normalization_6/beta:0' shape=(256,) dtype=float32, numpy=\n",
       "  array([0., 0., 0., 0., 0., 0., 0., 0., 0., 0., 0., 0., 0., 0., 0., 0., 0.,\n",
       "         0., 0., 0., 0., 0., 0., 0., 0., 0., 0., 0., 0., 0., 0., 0., 0., 0.,\n",
       "         0., 0., 0., 0., 0., 0., 0., 0., 0., 0., 0., 0., 0., 0., 0., 0., 0.,\n",
       "         0., 0., 0., 0., 0., 0., 0., 0., 0., 0., 0., 0., 0., 0., 0., 0., 0.,\n",
       "         0., 0., 0., 0., 0., 0., 0., 0., 0., 0., 0., 0., 0., 0., 0., 0., 0.,\n",
       "         0., 0., 0., 0., 0., 0., 0., 0., 0., 0., 0., 0., 0., 0., 0., 0., 0.,\n",
       "         0., 0., 0., 0., 0., 0., 0., 0., 0., 0., 0., 0., 0., 0., 0., 0., 0.,\n",
       "         0., 0., 0., 0., 0., 0., 0., 0., 0., 0., 0., 0., 0., 0., 0., 0., 0.,\n",
       "         0., 0., 0., 0., 0., 0., 0., 0., 0., 0., 0., 0., 0., 0., 0., 0., 0.,\n",
       "         0., 0., 0., 0., 0., 0., 0., 0., 0., 0., 0., 0., 0., 0., 0., 0., 0.,\n",
       "         0., 0., 0., 0., 0., 0., 0., 0., 0., 0., 0., 0., 0., 0., 0., 0., 0.,\n",
       "         0., 0., 0., 0., 0., 0., 0., 0., 0., 0., 0., 0., 0., 0., 0., 0., 0.,\n",
       "         0., 0., 0., 0., 0., 0., 0., 0., 0., 0., 0., 0., 0., 0., 0., 0., 0.,\n",
       "         0., 0., 0., 0., 0., 0., 0., 0., 0., 0., 0., 0., 0., 0., 0., 0., 0.,\n",
       "         0., 0., 0., 0., 0., 0., 0., 0., 0., 0., 0., 0., 0., 0., 0., 0., 0.,\n",
       "         0.], dtype=float32)>),\n",
       "  TrackableReference(name='moving_mean', ref=<tf.Variable 'new_residual_layer_5/batch_normalization_6/moving_mean:0' shape=(256,) dtype=float32, numpy=\n",
       "  array([ 6.51714066e-03,  2.30142730e-03,  4.60033159e-04, -5.32750739e-03,\n",
       "          1.71615544e-03, -5.30933670e-04, -1.17801991e-03, -3.14330170e-03,\n",
       "         -3.92233720e-03, -6.77448371e-03, -7.17857480e-03, -7.13660335e-03,\n",
       "          3.09922709e-03,  2.02323892e-04,  2.11807710e-04, -2.47953250e-03,\n",
       "         -9.29334294e-03, -3.71433049e-03,  3.08452593e-03, -7.02913327e-04,\n",
       "          6.44937670e-03, -7.33915658e-04,  3.94159136e-03,  5.75245544e-03,\n",
       "         -6.32172509e-04, -4.76494199e-03,  1.16610085e-03, -6.65454834e-04,\n",
       "         -2.67590466e-03,  3.94987827e-03,  1.65653601e-03,  5.03763603e-03,\n",
       "          1.84128329e-03,  1.96808460e-03,  9.59212426e-03, -3.32484883e-03,\n",
       "          4.90213418e-03,  4.03533271e-03, -8.04383773e-03,  4.65342356e-03,\n",
       "         -8.70590471e-03,  1.40043243e-03,  1.47881953e-03,  6.45787630e-04,\n",
       "          2.38258019e-03,  5.79424296e-03,  7.77193753e-04,  8.96087103e-03,\n",
       "          1.22181652e-03, -5.09389443e-03, -7.65549624e-03, -2.38262792e-03,\n",
       "          5.13490755e-03, -1.92820956e-03, -6.77986583e-03,  2.06702854e-03,\n",
       "          3.72299552e-03,  4.07613115e-03, -7.12531665e-03,  6.03066757e-03,\n",
       "         -3.32676852e-03,  4.78516147e-03,  1.79087080e-03,  3.78279877e-03,\n",
       "         -6.65312121e-03, -3.35305318e-04, -1.04116742e-03,  3.64680961e-03,\n",
       "          5.92084136e-03,  4.11159685e-03,  1.56327174e-03,  9.77449119e-03,\n",
       "          4.48294962e-03,  2.01208191e-03,  2.98688863e-03, -5.17258327e-03,\n",
       "          6.94394985e-04, -1.58930884e-03, -3.44872708e-03,  7.71522848e-03,\n",
       "         -5.89906937e-03,  7.09067378e-03, -7.22365081e-03,  2.07847729e-03,\n",
       "         -1.57177262e-03, -5.01852110e-03,  8.50874744e-03,  7.34033471e-04,\n",
       "          2.66295765e-03,  1.36886246e-03,  5.42898243e-03,  1.46775751e-03,\n",
       "          1.94871635e-03,  1.56413054e-03,  3.78756039e-03,  3.83898430e-03,\n",
       "          6.07097009e-03,  5.01724193e-03,  9.80778364e-04, -1.06404645e-04,\n",
       "         -2.83303577e-03, -1.75150845e-03,  1.18329539e-03, -2.73385202e-03,\n",
       "         -9.12133791e-03,  5.77358110e-03, -3.21766245e-03, -9.47073218e-04,\n",
       "          1.81894095e-04,  6.71329675e-03, -3.12162633e-03,  7.72168205e-05,\n",
       "          4.97464137e-03, -3.35535267e-03,  8.49133183e-04, -3.67023773e-03,\n",
       "         -8.09926167e-03, -3.17308679e-03,  3.64045403e-03, -5.80398599e-03,\n",
       "         -2.43629538e-03,  4.60102176e-03,  7.09794404e-04, -6.68516476e-03,\n",
       "         -5.70229895e-04,  5.71477320e-03, -5.65385027e-03, -8.94005527e-04,\n",
       "          5.32997446e-03,  1.68582797e-03,  3.81784211e-03,  9.87241603e-03,\n",
       "         -7.28231017e-03,  2.44148867e-03,  3.49309365e-03,  3.53051978e-03,\n",
       "          3.34674492e-03, -5.18844055e-04,  1.16382050e-03, -2.36490113e-03,\n",
       "          4.93330229e-03, -6.35022298e-03,  7.88527634e-03, -9.27042391e-04,\n",
       "          1.30878552e-03,  4.11210628e-03,  2.37744884e-03,  6.33060187e-03,\n",
       "          9.07801185e-03, -2.78669805e-03,  1.07070396e-03,  5.17334964e-04,\n",
       "         -1.04328233e-03, -5.15313062e-04, -7.52760039e-04,  8.57138541e-03,\n",
       "          2.56859721e-03, -3.52010131e-04, -4.66459012e-03,  1.72553619e-03,\n",
       "         -5.83416200e-04, -2.56258086e-03, -7.82800745e-03,  5.01727080e-03,\n",
       "          4.36711311e-03,  5.96349942e-04, -4.82197432e-03,  5.01997396e-03,\n",
       "         -2.40443763e-03, -7.43521552e-04, -1.64219178e-03, -3.22807929e-03,\n",
       "          4.67819441e-03, -8.47851671e-03, -2.19640997e-03, -1.77416357e-03,\n",
       "         -6.04696339e-03, -5.06284600e-03,  2.73713516e-03,  2.84639723e-03,\n",
       "          7.37938052e-03, -3.09345592e-03, -1.47140920e-04,  2.05769436e-03,\n",
       "         -3.19192186e-03,  4.94128144e-05, -4.63909470e-03,  9.16226394e-03,\n",
       "          7.16833572e-04, -1.57539384e-03, -1.70410087e-03, -6.53604185e-03,\n",
       "         -3.66550358e-03, -8.02564714e-03, -1.34892634e-03, -7.97365885e-03,\n",
       "         -3.26081784e-03,  1.78068512e-04,  4.95619839e-03,  2.01150286e-03,\n",
       "          8.53340141e-04,  1.64045207e-03, -7.26836617e-04,  8.42038821e-03,\n",
       "         -2.62392103e-03, -1.35877330e-04,  1.94459211e-03, -5.06208790e-03,\n",
       "          6.62212772e-03, -2.78940354e-03,  5.12247032e-04,  5.14841033e-03,\n",
       "         -3.54128075e-03,  8.41612183e-03, -3.99207650e-03,  5.30353701e-03,\n",
       "         -4.49999515e-03,  7.74887903e-03,  4.33754595e-03, -3.36037646e-03,\n",
       "         -1.29120715e-03, -4.15011635e-03,  1.87608134e-03, -2.55016563e-03,\n",
       "          2.23212014e-03,  5.33115724e-03,  3.48250009e-03, -4.73749405e-03,\n",
       "         -3.94864148e-03,  5.34516713e-03, -6.70039793e-03,  4.32384526e-03,\n",
       "         -6.00303523e-03, -7.47459987e-03,  4.12872154e-03, -8.20314046e-03,\n",
       "         -6.64648274e-03, -5.06236684e-03,  2.48245569e-03,  6.97685359e-03,\n",
       "         -3.24480864e-03,  7.37680728e-03, -5.67352353e-03, -4.78053093e-03,\n",
       "          8.78476910e-03,  1.58687809e-03, -3.77635146e-03, -6.38021901e-03,\n",
       "         -2.02235742e-03, -7.40046380e-03, -1.68658921e-03, -4.52529918e-03,\n",
       "          2.83213984e-03, -2.28300036e-04, -4.78066759e-05, -3.59853402e-05],\n",
       "        dtype=float32)>),\n",
       "  TrackableReference(name='moving_variance', ref=<tf.Variable 'new_residual_layer_5/batch_normalization_6/moving_variance:0' shape=(256,) dtype=float32, numpy=\n",
       "  array([0.91908586, 0.92259705, 0.9162888 , 0.9152027 , 0.91754836,\n",
       "         0.9189263 , 0.9199994 , 0.9191595 , 0.9180291 , 0.91657037,\n",
       "         0.91576254, 0.91667926, 0.91534835, 0.91853833, 0.9178021 ,\n",
       "         0.91848093, 0.9190011 , 0.9193947 , 0.9195564 , 0.91826165,\n",
       "         0.91907775, 0.91686136, 0.9197755 , 0.9180535 , 0.9199338 ,\n",
       "         0.920712  , 0.920406  , 0.91981435, 0.9191996 , 0.9205129 ,\n",
       "         0.91986334, 0.9188376 , 0.91611624, 0.922383  , 0.9215546 ,\n",
       "         0.9202386 , 0.92361504, 0.91414934, 0.91830194, 0.9202733 ,\n",
       "         0.9180884 , 0.9185008 , 0.9208193 , 0.92114455, 0.9197999 ,\n",
       "         0.91626686, 0.9243205 , 0.91676533, 0.91900134, 0.91613376,\n",
       "         0.91819274, 0.91653574, 0.9172291 , 0.9173131 , 0.91764134,\n",
       "         0.9170915 , 0.91850513, 0.9201317 , 0.9162452 , 0.9218497 ,\n",
       "         0.91903406, 0.91675776, 0.91739696, 0.9212173 , 0.91802657,\n",
       "         0.915726  , 0.91701216, 0.9181717 , 0.9177502 , 0.9210613 ,\n",
       "         0.9192629 , 0.9167598 , 0.91649127, 0.9197802 , 0.9192216 ,\n",
       "         0.91715384, 0.9171663 , 0.9185083 , 0.9201095 , 0.9214383 ,\n",
       "         0.9184483 , 0.9172007 , 0.9147455 , 0.91827434, 0.9174402 ,\n",
       "         0.91900146, 0.9176267 , 0.9192774 , 0.9165709 , 0.9200698 ,\n",
       "         0.91747963, 0.9177429 , 0.917679  , 0.9181578 , 0.91671   ,\n",
       "         0.91922337, 0.9196151 , 0.92304134, 0.917179  , 0.919057  ,\n",
       "         0.917902  , 0.920487  , 0.91835827, 0.91986334, 0.9199973 ,\n",
       "         0.9221857 , 0.917607  , 0.91740924, 0.9176606 , 0.9175721 ,\n",
       "         0.92091125, 0.91915053, 0.91999906, 0.9188316 , 0.92031664,\n",
       "         0.9184566 , 0.9165292 , 0.9171925 , 0.91944695, 0.91846657,\n",
       "         0.9216732 , 0.9187359 , 0.9209531 , 0.9199623 , 0.91832584,\n",
       "         0.91927546, 0.9179013 , 0.9168763 , 0.91684544, 0.91744465,\n",
       "         0.91783583, 0.918137  , 0.9201889 , 0.9183953 , 0.91869044,\n",
       "         0.91845536, 0.91770226, 0.92043495, 0.9206766 , 0.9193636 ,\n",
       "         0.9165777 , 0.92045504, 0.9171113 , 0.91811514, 0.9171395 ,\n",
       "         0.9154447 , 0.9211386 , 0.9204891 , 0.9174831 , 0.91757   ,\n",
       "         0.9204882 , 0.91886675, 0.91837823, 0.91970265, 0.9219909 ,\n",
       "         0.9178499 , 0.91810375, 0.91831225, 0.91785544, 0.9193918 ,\n",
       "         0.915788  , 0.9153741 , 0.91942906, 0.9178617 , 0.9158414 ,\n",
       "         0.91814584, 0.918781  , 0.9189259 , 0.9181734 , 0.91950154,\n",
       "         0.91589797, 0.920774  , 0.9161336 , 0.92107064, 0.9214096 ,\n",
       "         0.9169283 , 0.9205243 , 0.9181629 , 0.9168083 , 0.9199371 ,\n",
       "         0.9206686 , 0.91795117, 0.91913927, 0.91765785, 0.9175494 ,\n",
       "         0.9158781 , 0.91797847, 0.91705394, 0.9182028 , 0.9159108 ,\n",
       "         0.9153841 , 0.91863155, 0.91821223, 0.9193492 , 0.91772455,\n",
       "         0.91887075, 0.9211205 , 0.92184263, 0.9194972 , 0.9178577 ,\n",
       "         0.9191124 , 0.91994774, 0.919625  , 0.9176323 , 0.9181673 ,\n",
       "         0.9228005 , 0.9192864 , 0.91980284, 0.91629344, 0.9168484 ,\n",
       "         0.91807693, 0.91980225, 0.9149875 , 0.9226001 , 0.9179238 ,\n",
       "         0.9187385 , 0.9200238 , 0.9218247 , 0.91708726, 0.9148601 ,\n",
       "         0.9176656 , 0.9176803 , 0.9208802 , 0.9166845 , 0.9209149 ,\n",
       "         0.91569436, 0.9198904 , 0.9152101 , 0.9160834 , 0.9154632 ,\n",
       "         0.9161168 , 0.9181587 , 0.9155739 , 0.91898704, 0.91746974,\n",
       "         0.9214117 , 0.92004377, 0.9178123 , 0.91810036, 0.91609424,\n",
       "         0.91819686, 0.91711557, 0.9151828 , 0.9186208 , 0.92071575,\n",
       "         0.91612995, 0.9140483 , 0.9159768 , 0.9222589 , 0.9151703 ,\n",
       "         0.91626453, 0.91485363, 0.9225158 , 0.9209864 , 0.91688895,\n",
       "         0.91829216], dtype=float32)>)],\n",
       " '_self_unconditional_dependency_names': {'axis': ListWrapper([1]),\n",
       "  'gamma': <tf.Variable 'new_residual_layer_5/batch_normalization_6/gamma:0' shape=(256,) dtype=float32, numpy=\n",
       "  array([1., 1., 1., 1., 1., 1., 1., 1., 1., 1., 1., 1., 1., 1., 1., 1., 1.,\n",
       "         1., 1., 1., 1., 1., 1., 1., 1., 1., 1., 1., 1., 1., 1., 1., 1., 1.,\n",
       "         1., 1., 1., 1., 1., 1., 1., 1., 1., 1., 1., 1., 1., 1., 1., 1., 1.,\n",
       "         1., 1., 1., 1., 1., 1., 1., 1., 1., 1., 1., 1., 1., 1., 1., 1., 1.,\n",
       "         1., 1., 1., 1., 1., 1., 1., 1., 1., 1., 1., 1., 1., 1., 1., 1., 1.,\n",
       "         1., 1., 1., 1., 1., 1., 1., 1., 1., 1., 1., 1., 1., 1., 1., 1., 1.,\n",
       "         1., 1., 1., 1., 1., 1., 1., 1., 1., 1., 1., 1., 1., 1., 1., 1., 1.,\n",
       "         1., 1., 1., 1., 1., 1., 1., 1., 1., 1., 1., 1., 1., 1., 1., 1., 1.,\n",
       "         1., 1., 1., 1., 1., 1., 1., 1., 1., 1., 1., 1., 1., 1., 1., 1., 1.,\n",
       "         1., 1., 1., 1., 1., 1., 1., 1., 1., 1., 1., 1., 1., 1., 1., 1., 1.,\n",
       "         1., 1., 1., 1., 1., 1., 1., 1., 1., 1., 1., 1., 1., 1., 1., 1., 1.,\n",
       "         1., 1., 1., 1., 1., 1., 1., 1., 1., 1., 1., 1., 1., 1., 1., 1., 1.,\n",
       "         1., 1., 1., 1., 1., 1., 1., 1., 1., 1., 1., 1., 1., 1., 1., 1., 1.,\n",
       "         1., 1., 1., 1., 1., 1., 1., 1., 1., 1., 1., 1., 1., 1., 1., 1., 1.,\n",
       "         1., 1., 1., 1., 1., 1., 1., 1., 1., 1., 1., 1., 1., 1., 1., 1., 1.,\n",
       "         1.], dtype=float32)>,\n",
       "  'beta': <tf.Variable 'new_residual_layer_5/batch_normalization_6/beta:0' shape=(256,) dtype=float32, numpy=\n",
       "  array([0., 0., 0., 0., 0., 0., 0., 0., 0., 0., 0., 0., 0., 0., 0., 0., 0.,\n",
       "         0., 0., 0., 0., 0., 0., 0., 0., 0., 0., 0., 0., 0., 0., 0., 0., 0.,\n",
       "         0., 0., 0., 0., 0., 0., 0., 0., 0., 0., 0., 0., 0., 0., 0., 0., 0.,\n",
       "         0., 0., 0., 0., 0., 0., 0., 0., 0., 0., 0., 0., 0., 0., 0., 0., 0.,\n",
       "         0., 0., 0., 0., 0., 0., 0., 0., 0., 0., 0., 0., 0., 0., 0., 0., 0.,\n",
       "         0., 0., 0., 0., 0., 0., 0., 0., 0., 0., 0., 0., 0., 0., 0., 0., 0.,\n",
       "         0., 0., 0., 0., 0., 0., 0., 0., 0., 0., 0., 0., 0., 0., 0., 0., 0.,\n",
       "         0., 0., 0., 0., 0., 0., 0., 0., 0., 0., 0., 0., 0., 0., 0., 0., 0.,\n",
       "         0., 0., 0., 0., 0., 0., 0., 0., 0., 0., 0., 0., 0., 0., 0., 0., 0.,\n",
       "         0., 0., 0., 0., 0., 0., 0., 0., 0., 0., 0., 0., 0., 0., 0., 0., 0.,\n",
       "         0., 0., 0., 0., 0., 0., 0., 0., 0., 0., 0., 0., 0., 0., 0., 0., 0.,\n",
       "         0., 0., 0., 0., 0., 0., 0., 0., 0., 0., 0., 0., 0., 0., 0., 0., 0.,\n",
       "         0., 0., 0., 0., 0., 0., 0., 0., 0., 0., 0., 0., 0., 0., 0., 0., 0.,\n",
       "         0., 0., 0., 0., 0., 0., 0., 0., 0., 0., 0., 0., 0., 0., 0., 0., 0.,\n",
       "         0., 0., 0., 0., 0., 0., 0., 0., 0., 0., 0., 0., 0., 0., 0., 0., 0.,\n",
       "         0.], dtype=float32)>,\n",
       "  'moving_mean': <tf.Variable 'new_residual_layer_5/batch_normalization_6/moving_mean:0' shape=(256,) dtype=float32, numpy=\n",
       "  array([ 6.51714066e-03,  2.30142730e-03,  4.60033159e-04, -5.32750739e-03,\n",
       "          1.71615544e-03, -5.30933670e-04, -1.17801991e-03, -3.14330170e-03,\n",
       "         -3.92233720e-03, -6.77448371e-03, -7.17857480e-03, -7.13660335e-03,\n",
       "          3.09922709e-03,  2.02323892e-04,  2.11807710e-04, -2.47953250e-03,\n",
       "         -9.29334294e-03, -3.71433049e-03,  3.08452593e-03, -7.02913327e-04,\n",
       "          6.44937670e-03, -7.33915658e-04,  3.94159136e-03,  5.75245544e-03,\n",
       "         -6.32172509e-04, -4.76494199e-03,  1.16610085e-03, -6.65454834e-04,\n",
       "         -2.67590466e-03,  3.94987827e-03,  1.65653601e-03,  5.03763603e-03,\n",
       "          1.84128329e-03,  1.96808460e-03,  9.59212426e-03, -3.32484883e-03,\n",
       "          4.90213418e-03,  4.03533271e-03, -8.04383773e-03,  4.65342356e-03,\n",
       "         -8.70590471e-03,  1.40043243e-03,  1.47881953e-03,  6.45787630e-04,\n",
       "          2.38258019e-03,  5.79424296e-03,  7.77193753e-04,  8.96087103e-03,\n",
       "          1.22181652e-03, -5.09389443e-03, -7.65549624e-03, -2.38262792e-03,\n",
       "          5.13490755e-03, -1.92820956e-03, -6.77986583e-03,  2.06702854e-03,\n",
       "          3.72299552e-03,  4.07613115e-03, -7.12531665e-03,  6.03066757e-03,\n",
       "         -3.32676852e-03,  4.78516147e-03,  1.79087080e-03,  3.78279877e-03,\n",
       "         -6.65312121e-03, -3.35305318e-04, -1.04116742e-03,  3.64680961e-03,\n",
       "          5.92084136e-03,  4.11159685e-03,  1.56327174e-03,  9.77449119e-03,\n",
       "          4.48294962e-03,  2.01208191e-03,  2.98688863e-03, -5.17258327e-03,\n",
       "          6.94394985e-04, -1.58930884e-03, -3.44872708e-03,  7.71522848e-03,\n",
       "         -5.89906937e-03,  7.09067378e-03, -7.22365081e-03,  2.07847729e-03,\n",
       "         -1.57177262e-03, -5.01852110e-03,  8.50874744e-03,  7.34033471e-04,\n",
       "          2.66295765e-03,  1.36886246e-03,  5.42898243e-03,  1.46775751e-03,\n",
       "          1.94871635e-03,  1.56413054e-03,  3.78756039e-03,  3.83898430e-03,\n",
       "          6.07097009e-03,  5.01724193e-03,  9.80778364e-04, -1.06404645e-04,\n",
       "         -2.83303577e-03, -1.75150845e-03,  1.18329539e-03, -2.73385202e-03,\n",
       "         -9.12133791e-03,  5.77358110e-03, -3.21766245e-03, -9.47073218e-04,\n",
       "          1.81894095e-04,  6.71329675e-03, -3.12162633e-03,  7.72168205e-05,\n",
       "          4.97464137e-03, -3.35535267e-03,  8.49133183e-04, -3.67023773e-03,\n",
       "         -8.09926167e-03, -3.17308679e-03,  3.64045403e-03, -5.80398599e-03,\n",
       "         -2.43629538e-03,  4.60102176e-03,  7.09794404e-04, -6.68516476e-03,\n",
       "         -5.70229895e-04,  5.71477320e-03, -5.65385027e-03, -8.94005527e-04,\n",
       "          5.32997446e-03,  1.68582797e-03,  3.81784211e-03,  9.87241603e-03,\n",
       "         -7.28231017e-03,  2.44148867e-03,  3.49309365e-03,  3.53051978e-03,\n",
       "          3.34674492e-03, -5.18844055e-04,  1.16382050e-03, -2.36490113e-03,\n",
       "          4.93330229e-03, -6.35022298e-03,  7.88527634e-03, -9.27042391e-04,\n",
       "          1.30878552e-03,  4.11210628e-03,  2.37744884e-03,  6.33060187e-03,\n",
       "          9.07801185e-03, -2.78669805e-03,  1.07070396e-03,  5.17334964e-04,\n",
       "         -1.04328233e-03, -5.15313062e-04, -7.52760039e-04,  8.57138541e-03,\n",
       "          2.56859721e-03, -3.52010131e-04, -4.66459012e-03,  1.72553619e-03,\n",
       "         -5.83416200e-04, -2.56258086e-03, -7.82800745e-03,  5.01727080e-03,\n",
       "          4.36711311e-03,  5.96349942e-04, -4.82197432e-03,  5.01997396e-03,\n",
       "         -2.40443763e-03, -7.43521552e-04, -1.64219178e-03, -3.22807929e-03,\n",
       "          4.67819441e-03, -8.47851671e-03, -2.19640997e-03, -1.77416357e-03,\n",
       "         -6.04696339e-03, -5.06284600e-03,  2.73713516e-03,  2.84639723e-03,\n",
       "          7.37938052e-03, -3.09345592e-03, -1.47140920e-04,  2.05769436e-03,\n",
       "         -3.19192186e-03,  4.94128144e-05, -4.63909470e-03,  9.16226394e-03,\n",
       "          7.16833572e-04, -1.57539384e-03, -1.70410087e-03, -6.53604185e-03,\n",
       "         -3.66550358e-03, -8.02564714e-03, -1.34892634e-03, -7.97365885e-03,\n",
       "         -3.26081784e-03,  1.78068512e-04,  4.95619839e-03,  2.01150286e-03,\n",
       "          8.53340141e-04,  1.64045207e-03, -7.26836617e-04,  8.42038821e-03,\n",
       "         -2.62392103e-03, -1.35877330e-04,  1.94459211e-03, -5.06208790e-03,\n",
       "          6.62212772e-03, -2.78940354e-03,  5.12247032e-04,  5.14841033e-03,\n",
       "         -3.54128075e-03,  8.41612183e-03, -3.99207650e-03,  5.30353701e-03,\n",
       "         -4.49999515e-03,  7.74887903e-03,  4.33754595e-03, -3.36037646e-03,\n",
       "         -1.29120715e-03, -4.15011635e-03,  1.87608134e-03, -2.55016563e-03,\n",
       "          2.23212014e-03,  5.33115724e-03,  3.48250009e-03, -4.73749405e-03,\n",
       "         -3.94864148e-03,  5.34516713e-03, -6.70039793e-03,  4.32384526e-03,\n",
       "         -6.00303523e-03, -7.47459987e-03,  4.12872154e-03, -8.20314046e-03,\n",
       "         -6.64648274e-03, -5.06236684e-03,  2.48245569e-03,  6.97685359e-03,\n",
       "         -3.24480864e-03,  7.37680728e-03, -5.67352353e-03, -4.78053093e-03,\n",
       "          8.78476910e-03,  1.58687809e-03, -3.77635146e-03, -6.38021901e-03,\n",
       "         -2.02235742e-03, -7.40046380e-03, -1.68658921e-03, -4.52529918e-03,\n",
       "          2.83213984e-03, -2.28300036e-04, -4.78066759e-05, -3.59853402e-05],\n",
       "        dtype=float32)>,\n",
       "  'moving_variance': <tf.Variable 'new_residual_layer_5/batch_normalization_6/moving_variance:0' shape=(256,) dtype=float32, numpy=\n",
       "  array([0.91908586, 0.92259705, 0.9162888 , 0.9152027 , 0.91754836,\n",
       "         0.9189263 , 0.9199994 , 0.9191595 , 0.9180291 , 0.91657037,\n",
       "         0.91576254, 0.91667926, 0.91534835, 0.91853833, 0.9178021 ,\n",
       "         0.91848093, 0.9190011 , 0.9193947 , 0.9195564 , 0.91826165,\n",
       "         0.91907775, 0.91686136, 0.9197755 , 0.9180535 , 0.9199338 ,\n",
       "         0.920712  , 0.920406  , 0.91981435, 0.9191996 , 0.9205129 ,\n",
       "         0.91986334, 0.9188376 , 0.91611624, 0.922383  , 0.9215546 ,\n",
       "         0.9202386 , 0.92361504, 0.91414934, 0.91830194, 0.9202733 ,\n",
       "         0.9180884 , 0.9185008 , 0.9208193 , 0.92114455, 0.9197999 ,\n",
       "         0.91626686, 0.9243205 , 0.91676533, 0.91900134, 0.91613376,\n",
       "         0.91819274, 0.91653574, 0.9172291 , 0.9173131 , 0.91764134,\n",
       "         0.9170915 , 0.91850513, 0.9201317 , 0.9162452 , 0.9218497 ,\n",
       "         0.91903406, 0.91675776, 0.91739696, 0.9212173 , 0.91802657,\n",
       "         0.915726  , 0.91701216, 0.9181717 , 0.9177502 , 0.9210613 ,\n",
       "         0.9192629 , 0.9167598 , 0.91649127, 0.9197802 , 0.9192216 ,\n",
       "         0.91715384, 0.9171663 , 0.9185083 , 0.9201095 , 0.9214383 ,\n",
       "         0.9184483 , 0.9172007 , 0.9147455 , 0.91827434, 0.9174402 ,\n",
       "         0.91900146, 0.9176267 , 0.9192774 , 0.9165709 , 0.9200698 ,\n",
       "         0.91747963, 0.9177429 , 0.917679  , 0.9181578 , 0.91671   ,\n",
       "         0.91922337, 0.9196151 , 0.92304134, 0.917179  , 0.919057  ,\n",
       "         0.917902  , 0.920487  , 0.91835827, 0.91986334, 0.9199973 ,\n",
       "         0.9221857 , 0.917607  , 0.91740924, 0.9176606 , 0.9175721 ,\n",
       "         0.92091125, 0.91915053, 0.91999906, 0.9188316 , 0.92031664,\n",
       "         0.9184566 , 0.9165292 , 0.9171925 , 0.91944695, 0.91846657,\n",
       "         0.9216732 , 0.9187359 , 0.9209531 , 0.9199623 , 0.91832584,\n",
       "         0.91927546, 0.9179013 , 0.9168763 , 0.91684544, 0.91744465,\n",
       "         0.91783583, 0.918137  , 0.9201889 , 0.9183953 , 0.91869044,\n",
       "         0.91845536, 0.91770226, 0.92043495, 0.9206766 , 0.9193636 ,\n",
       "         0.9165777 , 0.92045504, 0.9171113 , 0.91811514, 0.9171395 ,\n",
       "         0.9154447 , 0.9211386 , 0.9204891 , 0.9174831 , 0.91757   ,\n",
       "         0.9204882 , 0.91886675, 0.91837823, 0.91970265, 0.9219909 ,\n",
       "         0.9178499 , 0.91810375, 0.91831225, 0.91785544, 0.9193918 ,\n",
       "         0.915788  , 0.9153741 , 0.91942906, 0.9178617 , 0.9158414 ,\n",
       "         0.91814584, 0.918781  , 0.9189259 , 0.9181734 , 0.91950154,\n",
       "         0.91589797, 0.920774  , 0.9161336 , 0.92107064, 0.9214096 ,\n",
       "         0.9169283 , 0.9205243 , 0.9181629 , 0.9168083 , 0.9199371 ,\n",
       "         0.9206686 , 0.91795117, 0.91913927, 0.91765785, 0.9175494 ,\n",
       "         0.9158781 , 0.91797847, 0.91705394, 0.9182028 , 0.9159108 ,\n",
       "         0.9153841 , 0.91863155, 0.91821223, 0.9193492 , 0.91772455,\n",
       "         0.91887075, 0.9211205 , 0.92184263, 0.9194972 , 0.9178577 ,\n",
       "         0.9191124 , 0.91994774, 0.919625  , 0.9176323 , 0.9181673 ,\n",
       "         0.9228005 , 0.9192864 , 0.91980284, 0.91629344, 0.9168484 ,\n",
       "         0.91807693, 0.91980225, 0.9149875 , 0.9226001 , 0.9179238 ,\n",
       "         0.9187385 , 0.9200238 , 0.9218247 , 0.91708726, 0.9148601 ,\n",
       "         0.9176656 , 0.9176803 , 0.9208802 , 0.9166845 , 0.9209149 ,\n",
       "         0.91569436, 0.9198904 , 0.9152101 , 0.9160834 , 0.9154632 ,\n",
       "         0.9161168 , 0.9181587 , 0.9155739 , 0.91898704, 0.91746974,\n",
       "         0.9214117 , 0.92004377, 0.9178123 , 0.91810036, 0.91609424,\n",
       "         0.91819686, 0.91711557, 0.9151828 , 0.9186208 , 0.92071575,\n",
       "         0.91612995, 0.9140483 , 0.9159768 , 0.9222589 , 0.9151703 ,\n",
       "         0.91626453, 0.91485363, 0.9225158 , 0.9209864 , 0.91688895,\n",
       "         0.91829216], dtype=float32)>},\n",
       " '_self_unconditional_deferred_dependencies': {},\n",
       " '_self_update_uid': -1,\n",
       " '_self_name_based_restores': set(),\n",
       " 'axis': ListWrapper([1]),\n",
       " 'fused': False,\n",
       " 'gamma': <tf.Variable 'new_residual_layer_5/batch_normalization_6/gamma:0' shape=(256,) dtype=float32, numpy=\n",
       " array([1., 1., 1., 1., 1., 1., 1., 1., 1., 1., 1., 1., 1., 1., 1., 1., 1.,\n",
       "        1., 1., 1., 1., 1., 1., 1., 1., 1., 1., 1., 1., 1., 1., 1., 1., 1.,\n",
       "        1., 1., 1., 1., 1., 1., 1., 1., 1., 1., 1., 1., 1., 1., 1., 1., 1.,\n",
       "        1., 1., 1., 1., 1., 1., 1., 1., 1., 1., 1., 1., 1., 1., 1., 1., 1.,\n",
       "        1., 1., 1., 1., 1., 1., 1., 1., 1., 1., 1., 1., 1., 1., 1., 1., 1.,\n",
       "        1., 1., 1., 1., 1., 1., 1., 1., 1., 1., 1., 1., 1., 1., 1., 1., 1.,\n",
       "        1., 1., 1., 1., 1., 1., 1., 1., 1., 1., 1., 1., 1., 1., 1., 1., 1.,\n",
       "        1., 1., 1., 1., 1., 1., 1., 1., 1., 1., 1., 1., 1., 1., 1., 1., 1.,\n",
       "        1., 1., 1., 1., 1., 1., 1., 1., 1., 1., 1., 1., 1., 1., 1., 1., 1.,\n",
       "        1., 1., 1., 1., 1., 1., 1., 1., 1., 1., 1., 1., 1., 1., 1., 1., 1.,\n",
       "        1., 1., 1., 1., 1., 1., 1., 1., 1., 1., 1., 1., 1., 1., 1., 1., 1.,\n",
       "        1., 1., 1., 1., 1., 1., 1., 1., 1., 1., 1., 1., 1., 1., 1., 1., 1.,\n",
       "        1., 1., 1., 1., 1., 1., 1., 1., 1., 1., 1., 1., 1., 1., 1., 1., 1.,\n",
       "        1., 1., 1., 1., 1., 1., 1., 1., 1., 1., 1., 1., 1., 1., 1., 1., 1.,\n",
       "        1., 1., 1., 1., 1., 1., 1., 1., 1., 1., 1., 1., 1., 1., 1., 1., 1.,\n",
       "        1.], dtype=float32)>,\n",
       " 'beta': <tf.Variable 'new_residual_layer_5/batch_normalization_6/beta:0' shape=(256,) dtype=float32, numpy=\n",
       " array([0., 0., 0., 0., 0., 0., 0., 0., 0., 0., 0., 0., 0., 0., 0., 0., 0.,\n",
       "        0., 0., 0., 0., 0., 0., 0., 0., 0., 0., 0., 0., 0., 0., 0., 0., 0.,\n",
       "        0., 0., 0., 0., 0., 0., 0., 0., 0., 0., 0., 0., 0., 0., 0., 0., 0.,\n",
       "        0., 0., 0., 0., 0., 0., 0., 0., 0., 0., 0., 0., 0., 0., 0., 0., 0.,\n",
       "        0., 0., 0., 0., 0., 0., 0., 0., 0., 0., 0., 0., 0., 0., 0., 0., 0.,\n",
       "        0., 0., 0., 0., 0., 0., 0., 0., 0., 0., 0., 0., 0., 0., 0., 0., 0.,\n",
       "        0., 0., 0., 0., 0., 0., 0., 0., 0., 0., 0., 0., 0., 0., 0., 0., 0.,\n",
       "        0., 0., 0., 0., 0., 0., 0., 0., 0., 0., 0., 0., 0., 0., 0., 0., 0.,\n",
       "        0., 0., 0., 0., 0., 0., 0., 0., 0., 0., 0., 0., 0., 0., 0., 0., 0.,\n",
       "        0., 0., 0., 0., 0., 0., 0., 0., 0., 0., 0., 0., 0., 0., 0., 0., 0.,\n",
       "        0., 0., 0., 0., 0., 0., 0., 0., 0., 0., 0., 0., 0., 0., 0., 0., 0.,\n",
       "        0., 0., 0., 0., 0., 0., 0., 0., 0., 0., 0., 0., 0., 0., 0., 0., 0.,\n",
       "        0., 0., 0., 0., 0., 0., 0., 0., 0., 0., 0., 0., 0., 0., 0., 0., 0.,\n",
       "        0., 0., 0., 0., 0., 0., 0., 0., 0., 0., 0., 0., 0., 0., 0., 0., 0.,\n",
       "        0., 0., 0., 0., 0., 0., 0., 0., 0., 0., 0., 0., 0., 0., 0., 0., 0.,\n",
       "        0.], dtype=float32)>,\n",
       " 'moving_mean': <tf.Variable 'new_residual_layer_5/batch_normalization_6/moving_mean:0' shape=(256,) dtype=float32, numpy=\n",
       " array([ 6.51714066e-03,  2.30142730e-03,  4.60033159e-04, -5.32750739e-03,\n",
       "         1.71615544e-03, -5.30933670e-04, -1.17801991e-03, -3.14330170e-03,\n",
       "        -3.92233720e-03, -6.77448371e-03, -7.17857480e-03, -7.13660335e-03,\n",
       "         3.09922709e-03,  2.02323892e-04,  2.11807710e-04, -2.47953250e-03,\n",
       "        -9.29334294e-03, -3.71433049e-03,  3.08452593e-03, -7.02913327e-04,\n",
       "         6.44937670e-03, -7.33915658e-04,  3.94159136e-03,  5.75245544e-03,\n",
       "        -6.32172509e-04, -4.76494199e-03,  1.16610085e-03, -6.65454834e-04,\n",
       "        -2.67590466e-03,  3.94987827e-03,  1.65653601e-03,  5.03763603e-03,\n",
       "         1.84128329e-03,  1.96808460e-03,  9.59212426e-03, -3.32484883e-03,\n",
       "         4.90213418e-03,  4.03533271e-03, -8.04383773e-03,  4.65342356e-03,\n",
       "        -8.70590471e-03,  1.40043243e-03,  1.47881953e-03,  6.45787630e-04,\n",
       "         2.38258019e-03,  5.79424296e-03,  7.77193753e-04,  8.96087103e-03,\n",
       "         1.22181652e-03, -5.09389443e-03, -7.65549624e-03, -2.38262792e-03,\n",
       "         5.13490755e-03, -1.92820956e-03, -6.77986583e-03,  2.06702854e-03,\n",
       "         3.72299552e-03,  4.07613115e-03, -7.12531665e-03,  6.03066757e-03,\n",
       "        -3.32676852e-03,  4.78516147e-03,  1.79087080e-03,  3.78279877e-03,\n",
       "        -6.65312121e-03, -3.35305318e-04, -1.04116742e-03,  3.64680961e-03,\n",
       "         5.92084136e-03,  4.11159685e-03,  1.56327174e-03,  9.77449119e-03,\n",
       "         4.48294962e-03,  2.01208191e-03,  2.98688863e-03, -5.17258327e-03,\n",
       "         6.94394985e-04, -1.58930884e-03, -3.44872708e-03,  7.71522848e-03,\n",
       "        -5.89906937e-03,  7.09067378e-03, -7.22365081e-03,  2.07847729e-03,\n",
       "        -1.57177262e-03, -5.01852110e-03,  8.50874744e-03,  7.34033471e-04,\n",
       "         2.66295765e-03,  1.36886246e-03,  5.42898243e-03,  1.46775751e-03,\n",
       "         1.94871635e-03,  1.56413054e-03,  3.78756039e-03,  3.83898430e-03,\n",
       "         6.07097009e-03,  5.01724193e-03,  9.80778364e-04, -1.06404645e-04,\n",
       "        -2.83303577e-03, -1.75150845e-03,  1.18329539e-03, -2.73385202e-03,\n",
       "        -9.12133791e-03,  5.77358110e-03, -3.21766245e-03, -9.47073218e-04,\n",
       "         1.81894095e-04,  6.71329675e-03, -3.12162633e-03,  7.72168205e-05,\n",
       "         4.97464137e-03, -3.35535267e-03,  8.49133183e-04, -3.67023773e-03,\n",
       "        -8.09926167e-03, -3.17308679e-03,  3.64045403e-03, -5.80398599e-03,\n",
       "        -2.43629538e-03,  4.60102176e-03,  7.09794404e-04, -6.68516476e-03,\n",
       "        -5.70229895e-04,  5.71477320e-03, -5.65385027e-03, -8.94005527e-04,\n",
       "         5.32997446e-03,  1.68582797e-03,  3.81784211e-03,  9.87241603e-03,\n",
       "        -7.28231017e-03,  2.44148867e-03,  3.49309365e-03,  3.53051978e-03,\n",
       "         3.34674492e-03, -5.18844055e-04,  1.16382050e-03, -2.36490113e-03,\n",
       "         4.93330229e-03, -6.35022298e-03,  7.88527634e-03, -9.27042391e-04,\n",
       "         1.30878552e-03,  4.11210628e-03,  2.37744884e-03,  6.33060187e-03,\n",
       "         9.07801185e-03, -2.78669805e-03,  1.07070396e-03,  5.17334964e-04,\n",
       "        -1.04328233e-03, -5.15313062e-04, -7.52760039e-04,  8.57138541e-03,\n",
       "         2.56859721e-03, -3.52010131e-04, -4.66459012e-03,  1.72553619e-03,\n",
       "        -5.83416200e-04, -2.56258086e-03, -7.82800745e-03,  5.01727080e-03,\n",
       "         4.36711311e-03,  5.96349942e-04, -4.82197432e-03,  5.01997396e-03,\n",
       "        -2.40443763e-03, -7.43521552e-04, -1.64219178e-03, -3.22807929e-03,\n",
       "         4.67819441e-03, -8.47851671e-03, -2.19640997e-03, -1.77416357e-03,\n",
       "        -6.04696339e-03, -5.06284600e-03,  2.73713516e-03,  2.84639723e-03,\n",
       "         7.37938052e-03, -3.09345592e-03, -1.47140920e-04,  2.05769436e-03,\n",
       "        -3.19192186e-03,  4.94128144e-05, -4.63909470e-03,  9.16226394e-03,\n",
       "         7.16833572e-04, -1.57539384e-03, -1.70410087e-03, -6.53604185e-03,\n",
       "        -3.66550358e-03, -8.02564714e-03, -1.34892634e-03, -7.97365885e-03,\n",
       "        -3.26081784e-03,  1.78068512e-04,  4.95619839e-03,  2.01150286e-03,\n",
       "         8.53340141e-04,  1.64045207e-03, -7.26836617e-04,  8.42038821e-03,\n",
       "        -2.62392103e-03, -1.35877330e-04,  1.94459211e-03, -5.06208790e-03,\n",
       "         6.62212772e-03, -2.78940354e-03,  5.12247032e-04,  5.14841033e-03,\n",
       "        -3.54128075e-03,  8.41612183e-03, -3.99207650e-03,  5.30353701e-03,\n",
       "        -4.49999515e-03,  7.74887903e-03,  4.33754595e-03, -3.36037646e-03,\n",
       "        -1.29120715e-03, -4.15011635e-03,  1.87608134e-03, -2.55016563e-03,\n",
       "         2.23212014e-03,  5.33115724e-03,  3.48250009e-03, -4.73749405e-03,\n",
       "        -3.94864148e-03,  5.34516713e-03, -6.70039793e-03,  4.32384526e-03,\n",
       "        -6.00303523e-03, -7.47459987e-03,  4.12872154e-03, -8.20314046e-03,\n",
       "        -6.64648274e-03, -5.06236684e-03,  2.48245569e-03,  6.97685359e-03,\n",
       "        -3.24480864e-03,  7.37680728e-03, -5.67352353e-03, -4.78053093e-03,\n",
       "         8.78476910e-03,  1.58687809e-03, -3.77635146e-03, -6.38021901e-03,\n",
       "        -2.02235742e-03, -7.40046380e-03, -1.68658921e-03, -4.52529918e-03,\n",
       "         2.83213984e-03, -2.28300036e-04, -4.78066759e-05, -3.59853402e-05],\n",
       "       dtype=float32)>,\n",
       " 'moving_variance': <tf.Variable 'new_residual_layer_5/batch_normalization_6/moving_variance:0' shape=(256,) dtype=float32, numpy=\n",
       " array([0.91908586, 0.92259705, 0.9162888 , 0.9152027 , 0.91754836,\n",
       "        0.9189263 , 0.9199994 , 0.9191595 , 0.9180291 , 0.91657037,\n",
       "        0.91576254, 0.91667926, 0.91534835, 0.91853833, 0.9178021 ,\n",
       "        0.91848093, 0.9190011 , 0.9193947 , 0.9195564 , 0.91826165,\n",
       "        0.91907775, 0.91686136, 0.9197755 , 0.9180535 , 0.9199338 ,\n",
       "        0.920712  , 0.920406  , 0.91981435, 0.9191996 , 0.9205129 ,\n",
       "        0.91986334, 0.9188376 , 0.91611624, 0.922383  , 0.9215546 ,\n",
       "        0.9202386 , 0.92361504, 0.91414934, 0.91830194, 0.9202733 ,\n",
       "        0.9180884 , 0.9185008 , 0.9208193 , 0.92114455, 0.9197999 ,\n",
       "        0.91626686, 0.9243205 , 0.91676533, 0.91900134, 0.91613376,\n",
       "        0.91819274, 0.91653574, 0.9172291 , 0.9173131 , 0.91764134,\n",
       "        0.9170915 , 0.91850513, 0.9201317 , 0.9162452 , 0.9218497 ,\n",
       "        0.91903406, 0.91675776, 0.91739696, 0.9212173 , 0.91802657,\n",
       "        0.915726  , 0.91701216, 0.9181717 , 0.9177502 , 0.9210613 ,\n",
       "        0.9192629 , 0.9167598 , 0.91649127, 0.9197802 , 0.9192216 ,\n",
       "        0.91715384, 0.9171663 , 0.9185083 , 0.9201095 , 0.9214383 ,\n",
       "        0.9184483 , 0.9172007 , 0.9147455 , 0.91827434, 0.9174402 ,\n",
       "        0.91900146, 0.9176267 , 0.9192774 , 0.9165709 , 0.9200698 ,\n",
       "        0.91747963, 0.9177429 , 0.917679  , 0.9181578 , 0.91671   ,\n",
       "        0.91922337, 0.9196151 , 0.92304134, 0.917179  , 0.919057  ,\n",
       "        0.917902  , 0.920487  , 0.91835827, 0.91986334, 0.9199973 ,\n",
       "        0.9221857 , 0.917607  , 0.91740924, 0.9176606 , 0.9175721 ,\n",
       "        0.92091125, 0.91915053, 0.91999906, 0.9188316 , 0.92031664,\n",
       "        0.9184566 , 0.9165292 , 0.9171925 , 0.91944695, 0.91846657,\n",
       "        0.9216732 , 0.9187359 , 0.9209531 , 0.9199623 , 0.91832584,\n",
       "        0.91927546, 0.9179013 , 0.9168763 , 0.91684544, 0.91744465,\n",
       "        0.91783583, 0.918137  , 0.9201889 , 0.9183953 , 0.91869044,\n",
       "        0.91845536, 0.91770226, 0.92043495, 0.9206766 , 0.9193636 ,\n",
       "        0.9165777 , 0.92045504, 0.9171113 , 0.91811514, 0.9171395 ,\n",
       "        0.9154447 , 0.9211386 , 0.9204891 , 0.9174831 , 0.91757   ,\n",
       "        0.9204882 , 0.91886675, 0.91837823, 0.91970265, 0.9219909 ,\n",
       "        0.9178499 , 0.91810375, 0.91831225, 0.91785544, 0.9193918 ,\n",
       "        0.915788  , 0.9153741 , 0.91942906, 0.9178617 , 0.9158414 ,\n",
       "        0.91814584, 0.918781  , 0.9189259 , 0.9181734 , 0.91950154,\n",
       "        0.91589797, 0.920774  , 0.9161336 , 0.92107064, 0.9214096 ,\n",
       "        0.9169283 , 0.9205243 , 0.9181629 , 0.9168083 , 0.9199371 ,\n",
       "        0.9206686 , 0.91795117, 0.91913927, 0.91765785, 0.9175494 ,\n",
       "        0.9158781 , 0.91797847, 0.91705394, 0.9182028 , 0.9159108 ,\n",
       "        0.9153841 , 0.91863155, 0.91821223, 0.9193492 , 0.91772455,\n",
       "        0.91887075, 0.9211205 , 0.92184263, 0.9194972 , 0.9178577 ,\n",
       "        0.9191124 , 0.91994774, 0.919625  , 0.9176323 , 0.9181673 ,\n",
       "        0.9228005 , 0.9192864 , 0.91980284, 0.91629344, 0.9168484 ,\n",
       "        0.91807693, 0.91980225, 0.9149875 , 0.9226001 , 0.9179238 ,\n",
       "        0.9187385 , 0.9200238 , 0.9218247 , 0.91708726, 0.9148601 ,\n",
       "        0.9176656 , 0.9176803 , 0.9208802 , 0.9166845 , 0.9209149 ,\n",
       "        0.91569436, 0.9198904 , 0.9152101 , 0.9160834 , 0.9154632 ,\n",
       "        0.9161168 , 0.9181587 , 0.9155739 , 0.91898704, 0.91746974,\n",
       "        0.9214117 , 0.92004377, 0.9178123 , 0.91810036, 0.91609424,\n",
       "        0.91819686, 0.91711557, 0.9151828 , 0.9186208 , 0.92071575,\n",
       "        0.91612995, 0.9140483 , 0.9159768 , 0.9222589 , 0.9151703 ,\n",
       "        0.91626453, 0.91485363, 0.9225158 , 0.9209864 , 0.91688895,\n",
       "        0.91829216], dtype=float32)>,\n",
       " 'built': True,\n",
       " '_trainable_var': <tf.Tensor 'new_residual_layer_5/batch_normalization_6/batch_normalization_6_trainable:0' shape=<unknown> dtype=bool>}"
      ]
     },
     "execution_count": 182,
     "metadata": {},
     "output_type": "execute_result"
    }
   ],
   "source": [
    "generator.layers[1]._layers[1].__dict__"
   ]
  },
  {
   "cell_type": "code",
   "execution_count": 113,
   "metadata": {},
   "outputs": [
    {
     "data": {
      "text/plain": [
       "Sequential(\n",
       "  (0): Linear(in_features=2610, out_features=256, bias=True)\n",
       "  (1): LeakyReLU(negative_slope=0.2)\n",
       "  (2): Linear(in_features=256, out_features=256, bias=True)\n",
       "  (3): LeakyReLU(negative_slope=0.2)\n",
       "  (4): Linear(in_features=256, out_features=1, bias=True)\n",
       ")"
      ]
     },
     "execution_count": 113,
     "metadata": {},
     "output_type": "execute_result"
    }
   ],
   "source": [
    "t_critic.seq"
   ]
  },
  {
   "cell_type": "code",
   "execution_count": 110,
   "metadata": {
    "ExecuteTime": {
     "end_time": "2020-04-05T15:54:54.931303Z",
     "start_time": "2020-04-05T15:54:54.922144Z"
    }
   },
   "outputs": [
    {
     "data": {
      "text/plain": [
       "tensor(0.0196, grad_fn=<MaxBackward1>)"
      ]
     },
     "execution_count": 110,
     "metadata": {},
     "output_type": "execute_result"
    }
   ],
   "source": [
    "torch.max(t_critic.seq[0].weight)"
   ]
  },
  {
   "cell_type": "code",
   "execution_count": 112,
   "metadata": {
    "ExecuteTime": {
     "end_time": "2020-04-05T15:55:39.143878Z",
     "start_time": "2020-04-05T15:55:39.134844Z"
    }
   },
   "outputs": [
    {
     "data": {
      "text/plain": [
       "tensor(-0.0196, grad_fn=<MinBackward1>)"
      ]
     },
     "execution_count": 112,
     "metadata": {},
     "output_type": "execute_result"
    }
   ],
   "source": [
    "torch.min(t_critic.seq[0].weight)"
   ]
  },
  {
   "cell_type": "code",
   "execution_count": 114,
   "metadata": {
    "ExecuteTime": {
     "end_time": "2020-04-05T16:01:31.388188Z",
     "start_time": "2020-04-05T16:01:31.380711Z"
    }
   },
   "outputs": [
    {
     "data": {
      "text/plain": [
       "0.019574007317156784"
      ]
     },
     "execution_count": 114,
     "metadata": {},
     "output_type": "execute_result"
    }
   ],
   "source": [
    "math.sqrt(1/2610)"
   ]
  },
  {
   "cell_type": "code",
   "execution_count": 115,
   "metadata": {
    "ExecuteTime": {
     "end_time": "2020-04-05T15:54:54.931303Z",
     "start_time": "2020-04-05T15:54:54.922144Z"
    }
   },
   "outputs": [
    {
     "data": {
      "text/plain": [
       "tensor(0.0196, grad_fn=<MaxBackward1>)"
      ]
     },
     "execution_count": 115,
     "metadata": {},
     "output_type": "execute_result"
    }
   ],
   "source": [
    "torch.max(t_critic.seq[0].bias)"
   ]
  },
  {
   "cell_type": "code",
   "execution_count": 116,
   "metadata": {
    "ExecuteTime": {
     "end_time": "2020-04-05T15:55:39.143878Z",
     "start_time": "2020-04-05T15:55:39.134844Z"
    }
   },
   "outputs": [
    {
     "data": {
      "text/plain": [
       "tensor(-0.0195, grad_fn=<MinBackward1>)"
      ]
     },
     "execution_count": 116,
     "metadata": {},
     "output_type": "execute_result"
    }
   ],
   "source": [
    "torch.min(t_critic.seq[0].bias)"
   ]
  },
  {
   "cell_type": "code",
   "execution_count": 117,
   "metadata": {
    "ExecuteTime": {
     "end_time": "2020-04-05T16:00:03.690667Z",
     "start_time": "2020-04-05T16:00:02.273492Z"
    }
   },
   "outputs": [
    {
     "data": {
      "image/png": "[encoded data removed]",
      "text/plain": [
       "<Figure size 432x288 with 1 Axes>"
      ]
     },
     "metadata": {
      "needs_background": "light"
     },
     "output_type": "display_data"
    }
   ],
   "source": [
    "pd.DataFrame(t_critic.seq[0].weight.detach().numpy()[:,:50]).plot(kind='hist', legend=None)\n",
    "plt.show()"
   ]
  },
  {
   "cell_type": "code",
   "execution_count": 434,
   "metadata": {
    "ExecuteTime": {
     "end_time": "2020-04-05T20:59:51.336862Z",
     "start_time": "2020-04-05T20:59:51.325022Z"
    }
   },
   "outputs": [
    {
     "data": {
      "text/plain": [
       "tensor([[0.0168, 0.7411, 0.8649, 0.2089],\n",
       "        [0.3985, 0.8523, 0.5630, 0.0264],\n",
       "        [0.4863, 0.2912, 0.5228, 0.1410],\n",
       "        [0.1471, 0.3321, 0.6289, 0.5678],\n",
       "        [0.4317, 0.9801, 0.3067, 0.6081]])"
      ]
     },
     "execution_count": 434,
     "metadata": {},
     "output_type": "execute_result"
    }
   ],
   "source": [
    "xt = torch.rand(5,4)\n",
    "xt"
   ]
  },
  {
   "cell_type": "code",
   "execution_count": 436,
   "metadata": {
    "ExecuteTime": {
     "end_time": "2020-04-05T21:00:12.409981Z",
     "start_time": "2020-04-05T21:00:12.400302Z"
    }
   },
   "outputs": [
    {
     "data": {
      "text/plain": [
       "tensor([[0.0337, 1.4822, 1.7299, 0.0000],\n",
       "        [0.7969, 1.7047, 0.0000, 0.0528],\n",
       "        [0.9726, 0.0000, 1.0456, 0.2819],\n",
       "        [0.2943, 0.0000, 0.0000, 0.0000],\n",
       "        [0.8634, 0.0000, 0.6134, 0.0000]])"
      ]
     },
     "execution_count": 436,
     "metadata": {},
     "output_type": "execute_result"
    }
   ],
   "source": [
    "torch.nn.Dropout(p=0.5)(xt)"
   ]
  },
  {
   "cell_type": "code",
   "execution_count": 158,
   "metadata": {
    "ExecuteTime": {
     "end_time": "2020-04-05T21:00:42.009518Z",
     "start_time": "2020-04-05T21:00:42.000091Z"
    }
   },
   "outputs": [
    {
     "data": {
      "text/plain": [
       "<tf.Tensor: shape=(5, 4), dtype=float32, numpy=\n",
       "array([[-1.1958234 , -1.4560871 , -0.41890395, -1.0489058 ],\n",
       "       [ 0.27528596,  0.87325877, -0.2334015 ,  0.6482065 ],\n",
       "       [-0.23452438, -0.13137029, -0.4053114 , -0.38362718],\n",
       "       [ 0.40711337, -2.1548784 ,  0.1222946 , -0.01449873],\n",
       "       [-0.5386398 ,  0.7937847 ,  0.05412082,  0.21464786]],\n",
       "      dtype=float32)>"
      ]
     },
     "execution_count": 158,
     "metadata": {},
     "output_type": "execute_result"
    }
   ],
   "source": [
    "xtf = tf.random.normal([5,4])\n",
    "xtf"
   ]
  },
  {
   "cell_type": "code",
   "execution_count": 159,
   "metadata": {
    "ExecuteTime": {
     "end_time": "2020-04-05T21:05:15.092795Z",
     "start_time": "2020-04-05T21:05:15.082358Z"
    }
   },
   "outputs": [
    {
     "name": "stdout",
     "output_type": "stream",
     "text": [
      "WARNING:tensorflow:Large dropout rate: 0.9 (>0.5). In TensorFlow 2.x, dropout() uses dropout rate instead of keep_prob. Please ensure that this is intended.\n"
     ]
    },
    {
     "data": {
      "text/plain": [
       "<tf.Tensor: shape=(5, 4), dtype=float32, numpy=\n",
       "array([[-11.958235,  -0.      ,  -0.      ,  -0.      ],\n",
       "       [  0.      ,   0.      ,  -0.      ,   0.      ],\n",
       "       [ -0.      ,  -0.      ,  -0.      ,  -0.      ],\n",
       "       [  0.      ,  -0.      ,   0.      ,  -0.      ],\n",
       "       [ -0.      ,   0.      ,   0.      ,   0.      ]], dtype=float32)>"
      ]
     },
     "execution_count": 159,
     "metadata": {},
     "output_type": "execute_result"
    }
   ],
   "source": [
    "tf.keras.layers.Dropout(0.9)(xtf, training=True)"
   ]
  },
  {
   "cell_type": "code",
   "execution_count": 445,
   "metadata": {
    "ExecuteTime": {
     "end_time": "2020-04-05T21:07:21.170759Z",
     "start_time": "2020-04-05T21:07:21.161132Z"
    }
   },
   "outputs": [
    {
     "data": {
      "text/plain": [
       "<tf.Tensor: shape=(5, 4), dtype=float32, numpy=\n",
       "array([[ 0.9433578 , -0.08978972,  0.20782697,  0.6110454 ],\n",
       "       [ 0.46428916,  0.54100996,  1.1928254 , -0.12207705],\n",
       "       [-0.3762341 , -0.04433125, -0.11461028,  0.18351378],\n",
       "       [ 1.8519161 , -0.29052043, -0.19307765, -0.00823851],\n",
       "       [ 0.46919137,  0.677982  ,  1.1223804 , -0.3471357 ]],\n",
       "      dtype=float32)>"
      ]
     },
     "execution_count": 445,
     "metadata": {},
     "output_type": "execute_result"
    }
   ],
   "source": [
    "tf.keras.layers.LeakyReLU(0.2)(xtf)"
   ]
  },
  {
   "cell_type": "code",
   "execution_count": null,
   "metadata": {},
   "outputs": [],
   "source": []
  }
 ],
 "metadata": {
  "kernelspec": {
   "display_name": "Python 3",
   "language": "python",
   "name": "python3"
  },
  "language_info": {
   "codemirror_mode": {
    "name": "ipython",
    "version": 3
   },
   "file_extension": ".py",
   "mimetype": "text/x-python",
   "name": "python",
   "nbconvert_exporter": "python",
   "pygments_lexer": "ipython3",
   "version": "3.7.6"
  },
  "toc": {
   "base_numbering": 1,
   "nav_menu": {},
   "number_sections": true,
   "sideBar": true,
   "skip_h1_title": false,
   "title_cell": "Table of Contents",
   "title_sidebar": "Contents",
   "toc_cell": false,
   "toc_position": {
    "height": "calc(100% - 180px)",
    "left": "10px",
    "top": "150px",
    "width": "165px"
   },
   "toc_section_display": true,
   "toc_window_display": true
  },
  "varInspector": {
   "cols": {
    "lenName": 16,
    "lenType": 16,
    "lenVar": 40
   },
   "kernels_config": {
    "python": {
     "delete_cmd_postfix": "",
     "delete_cmd_prefix": "del ",
     "library": "var_list.py",
     "varRefreshCmd": "print(var_dic_list())"
    },
    "r": {
     "delete_cmd_postfix": ") ",
     "delete_cmd_prefix": "rm(",
     "library": "var_list.r",
     "varRefreshCmd": "cat(var_dic_list()) "
    }
   },
   "types_to_exclude": [
    "module",
    "function",
    "builtin_function_or_method",
    "instance",
    "_Feature"
   ],
   "window_display": false
  }
 },
 "nbformat": 4,
 "nbformat_minor": 2
}
